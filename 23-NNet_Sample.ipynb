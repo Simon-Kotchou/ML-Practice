{
 "cells": [
  {
   "cell_type": "markdown",
   "metadata": {},
   "source": [
    "##### CSCI 303\n",
    "# Introduction to Data Science\n",
    "<p/>\n",
    "### Neural Networks Playground - MLP Example"
   ]
  },
  {
   "cell_type": "markdown",
   "metadata": {},
   "source": [
    "## Chemical Analysis of Wine Recognition Dataset\n",
    "---\n",
    "- https://archive.ics.uci.edu/ml/datasets/Wine \n",
    "- Data is the result of chemical analysis of wines grown in the same reagion in Italy (different cultivar/grape variety)\n",
    "- Used in a many research papers including comparisons of classifiers and performance evaluations\n",
    "- 178 rows or data observations, 13 columns or attributs, 3 classes\n",
    "\n",
    "More Free DataSets:\n",
    "- https://www.springboard.com/blog/free-public-data-sets-data-science-project/"
   ]
  },
  {
   "cell_type": "code",
   "execution_count": null,
   "metadata": {},
   "outputs": [],
   "source": [
    "#Start with all of our includes needed below\n",
    "import pandas as pd\n",
    "from sklearn.model_selection import train_test_split\n",
    "from sklearn.preprocessing import StandardScaler\n",
    "from sklearn.neural_network import MLPClassifier\n",
    "import matplotlib.pyplot as plt\n",
    "from matplotlib.colors import ListedColormap\n",
    "from mpl_toolkits.mplot3d import Axes3D\n",
    "from sklearn.metrics import classification_report,confusion_matrix"
   ]
  },
  {
   "cell_type": "code",
   "execution_count": null,
   "metadata": {},
   "outputs": [],
   "source": [
    "#Import the provided dataset into a pandas dataframe\n",
    "dataFile = 'wine_data.csv'\n",
    "data = pd.read_csv(dataFile, names = [\"Cultivator\", \"Alchol\", \"Malic_Acid\", \"Ash\", \"Alcalinity_of_Ash\", \"Magnesium\", \"Total_phenols\", \"Falvanoids\", \"Nonflavanoid_phenols\", \"Proanthocyanins\", \"Color_intensity\", \"Hue\", \"OD280\", \"Proline\"])"
   ]
  },
  {
   "cell_type": "code",
   "execution_count": null,
   "metadata": {},
   "outputs": [],
   "source": [
    "#We can also print out the shape to confirm number of observations and features\n",
    "print(data.shape)\n",
    "#Print out the first 5 rows to see what we have (change parameter to see more)\n",
    "data.head()"
   ]
  },
  {
   "cell_type": "code",
   "execution_count": null,
   "metadata": {},
   "outputs": [],
   "source": [
    "#View some statistics on our data\n",
    "data.describe()"
   ]
  },
  {
   "cell_type": "code",
   "execution_count": null,
   "metadata": {},
   "outputs": [],
   "source": [
    "#Notice our targets are the 1st column, split that into X and y before doing learning with it\n",
    "#When bulding X, we need to get rid of the targets, the axis param tells the drop function to use a column label\n",
    "targetLabel = 'Cultivator'\n",
    "X = data.drop(targetLabel,axis=1)\n",
    "y = data[targetLabel]"
   ]
  },
  {
   "cell_type": "code",
   "execution_count": null,
   "metadata": {},
   "outputs": [],
   "source": [
    "#We are doing supervised Machine Learning, so let's split our data before moving on\n",
    "X_train,X_test,y_train,y_test = train_test_split(X,y)"
   ]
  },
  {
   "cell_type": "code",
   "execution_count": null,
   "metadata": {},
   "outputs": [],
   "source": [
    "#Since our model is sensitive to the variability within the feature data\n",
    "#Recall, we normalized our data in the clustering project to keep the feature data within a common range\n",
    "#Now we will experiment with the other mentioned scaling technique: standardize the data to have a zero mean and unit standard deviation\n",
    "scaler = StandardScaler()\n",
    "#Fit to the training data, this will compute the mean and std to be used for scaling\n",
    "scaler.fit(X_train)\n",
    "#Next, we want to apply the above transformations to the feature data (training and test sets)\n",
    "X_train = scaler.transform(X_train)\n",
    "X_test = scaler.transform(X_test)"
   ]
  },
  {
   "cell_type": "code",
   "execution_count": null,
   "metadata": {},
   "outputs": [],
   "source": [
    "#See if we can plot (in 2D or 3D some of the data ... just for grins)\n",
    "\n",
    "#Setup a colormap (or remove that argument to use the defaults)\n",
    "cmap = ListedColormap(['r', 'y','b'])\n",
    "\n",
    "#Setup some variables so we don't have to retype them below each time we want to change a feature to plot\n",
    "viewFeature1 = 'Ash'\n",
    "viewFeature2 = 'Malic_Acid'\n",
    "vewFeature3 = 'Alchol'\n",
    "\n",
    "#Create a new plot object, send in two features for scatter plot and color code with y values\n",
    "fig = plt.figure()\n",
    "ax = fig.add_subplot(111)\n",
    "ax.scatter(X[viewFeature1], X[viewFeature2], c=y, cmap=cmap)\n",
    "#Adding title and labels before displaying the plot to the screen\n",
    "ax.set_title('Chemical Analysis of Wine Data in 2D')\n",
    "ax.set_xlabel(viewFeature1)\n",
    "ax.set_ylabel(viewFeature2)\n",
    "plt.show()\n",
    "\n",
    "#Create a new plot object, send in three features for scatter plot and color code with y values\n",
    "fig = plt.figure()\n",
    "ax = fig.add_subplot(111, projection='3d')\n",
    "ax.scatter(X[viewFeature1], X[viewFeature2], X[vewFeature3], c=y, cmap=cmap)\n",
    "#Adding title and labels before displaying the plot to the screen\n",
    "ax.set_title('Chemical Analysis of Wine Data in 3D')\n",
    "ax.set_xlabel(viewFeature1)\n",
    "ax.set_ylabel(viewFeature2)\n",
    "ax.set_zlabel(vewFeature3)\n",
    "plt.show()"
   ]
  },
  {
   "cell_type": "markdown",
   "metadata": {},
   "source": [
    "## Multi-layer Perceptron Classifier\n",
    "\n",
    "https://scikit-learn.org/stable/modules/generated/sklearn.neural_network.MLPClassifier.html"
   ]
  },
  {
   "cell_type": "code",
   "execution_count": null,
   "metadata": {},
   "outputs": [],
   "source": [
    "#Continuing with our workflow ... we create a model object for a MLP Classifer from sci-kit learn (see link above)\n",
    "#There are many parameters you can look at ... the two parameters we set here areL:\n",
    "#1. hidden_layer_sizes (number of neurons in each hidden layer - the below specifices 3 hidden layers each with 13 neurons)\n",
    "#2. max_iter (the model will continue iterating until it converges or hits this number of iterations)\n",
    "mlp = MLPClassifier(hidden_layer_sizes=(13,13,13),max_iter=500)"
   ]
  },
  {
   "cell_type": "code",
   "execution_count": null,
   "metadata": {},
   "outputs": [],
   "source": [
    "#Train our model (look familiar? Yes, it should ... .fit() with our training data)\n",
    "#Notice the output of this line is the MLP object information - see the activation function is relu\n",
    "#We could switch that to the sigmoid by specifying it as a parameter to MLPClassifier() (e.g., activation='logistic') \n",
    "#when we create the MLP model object above - try it and re-run the experiment (see if you get a better result)\n",
    "mlp.fit(X_train,y_train)"
   ]
  },
  {
   "cell_type": "code",
   "execution_count": null,
   "metadata": {},
   "outputs": [],
   "source": [
    "#Now that our model is trained, call our .predict() with the test data to make predictions, y_yat\n",
    "y_hat = mlp.predict(X_test)"
   ]
  },
  {
   "cell_type": "code",
   "execution_count": null,
   "metadata": {},
   "outputs": [],
   "source": [
    "#Now Evaluate our results by comparing y and y_hat, again using the test data\n",
    "print(confusion_matrix(y_test,y_hat))"
   ]
  },
  {
   "cell_type": "code",
   "execution_count": null,
   "metadata": {},
   "outputs": [],
   "source": [
    "#We can also get information out of the classifier, for example, you can print the activation function used\n",
    "print(mlp.activation)\n",
    "\n",
    "#You can also get vectors that hold the weights (coefs_[0] holds the weights between layer 0 and 1)\n",
    "#print(mlp.coefs_[0])\n",
    "\n",
    "#The bias terms in intercepts_[0] hold the bias values added to layer 1\n",
    "print(mlp.intercepts_[0])\n",
    "\n",
    "#Try some more ... type mlp. and press the tab key"
   ]
  },
  {
   "cell_type": "code",
   "execution_count": null,
   "metadata": {},
   "outputs": [],
   "source": []
  }
 ],
 "metadata": {
  "kernelspec": {
   "display_name": "Python 3",
   "language": "python",
   "name": "python3"
  },
  "language_info": {
   "codemirror_mode": {
    "name": "ipython",
    "version": 3
   },
   "file_extension": ".py",
   "mimetype": "text/x-python",
   "name": "python",
   "nbconvert_exporter": "python",
   "pygments_lexer": "ipython3",
   "version": "3.7.3"
  }
 },
 "nbformat": 4,
 "nbformat_minor": 1
}
