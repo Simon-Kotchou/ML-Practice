{
 "cells": [
  {
   "cell_type": "code",
   "execution_count": 7,
   "metadata": {},
   "outputs": [
    {
     "name": "stdout",
     "output_type": "stream",
     "text": [
      "55505555\n",
      "5550555\n",
      "555055\n",
      "55505\n",
      "5550\n",
      "555\n",
      "55\n",
      "5\n",
      "0\n",
      "8\n"
     ]
    }
   ],
   "source": [
    "#Author: Simon Kotchou \n",
    "#Date: 7/16/2019\n",
    "\n",
    "n = 555055555\n",
    "c = 0\n",
    "while n > 0:\n",
    "    if(n % 10 == 5):\n",
    "        c += 1;\n",
    "    n //= 10\n",
    "    print(n);\n",
    "print(c)"
   ]
  },
  {
   "cell_type": "code",
   "execution_count": null,
   "metadata": {},
   "outputs": [],
   "source": []
  }
 ],
 "metadata": {
  "kernelspec": {
   "display_name": "Python 3",
   "language": "python",
   "name": "python3"
  },
  "language_info": {
   "codemirror_mode": {
    "name": "ipython",
    "version": 3
   },
   "file_extension": ".py",
   "mimetype": "text/x-python",
   "name": "python",
   "nbconvert_exporter": "python",
   "pygments_lexer": "ipython3",
   "version": "3.7.3"
  }
 },
 "nbformat": 4,
 "nbformat_minor": 2
}
