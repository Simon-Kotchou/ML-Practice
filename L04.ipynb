{
 "cells": [
  {
   "cell_type": "code",
   "execution_count": 8,
   "metadata": {},
   "outputs": [
    {
     "name": "stdout",
     "output_type": "stream",
     "text": [
      "3 ['one', 'six', 'two']\n",
      "5 ['three']\n"
     ]
    }
   ],
   "source": [
    "#Author: Simon Kotchou\n",
    "#Date: 7/16/2019\n",
    "\n",
    "exampleList = ['one', 'two', 'three', 'six']\n",
    "finalDictionary = {}\n",
    "for temp in exampleList:\n",
    "    if (len(temp) in finalDictionary):\n",
    "        finalDictionary[len(temp)].append(temp)\n",
    "        finalDictionary[len(temp)].sort();\n",
    "    else:\n",
    "        tempList = [temp]\n",
    "        finalDictionary[len(temp)] = tempList;\n",
    "for x,y in finalDictionary.items():\n",
    "    print(x,y);"
   ]
  }
 ],
 "metadata": {
  "kernelspec": {
   "display_name": "Python 3",
   "language": "python",
   "name": "python3"
  },
  "language_info": {
   "codemirror_mode": {
    "name": "ipython",
    "version": 3
   },
   "file_extension": ".py",
   "mimetype": "text/x-python",
   "name": "python",
   "nbconvert_exporter": "python",
   "pygments_lexer": "ipython3",
   "version": "3.7.3"
  }
 },
 "nbformat": 4,
 "nbformat_minor": 2
}
