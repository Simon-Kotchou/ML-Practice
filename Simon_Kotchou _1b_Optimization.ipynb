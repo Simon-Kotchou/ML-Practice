{
  "nbformat": 4,
  "nbformat_minor": 0,
  "metadata": {
    "kernelspec": {
      "display_name": "iml-exercises",
      "language": "python",
      "name": "iml-exercises"
    },
    "language_info": {
      "codemirror_mode": {
        "name": "ipython",
        "version": 3
      },
      "file_extension": ".py",
      "mimetype": "text/x-python",
      "name": "python",
      "nbconvert_exporter": "python",
      "pygments_lexer": "ipython3",
      "version": "3.6.5"
    },
    "colab": {
      "name": "<Simon Kotchou>-1b_Optimization.ipynb",
      "provenance": []
    }
  },
  "cells": [
    {
      "cell_type": "markdown",
      "metadata": {
        "id": "HKm-P_xt-cO-",
        "colab_type": "text"
      },
      "source": [
        "## CSCI 470 Activities and Case Studies\n",
        "\n",
        "1. For all activities, you are allowed to collaborate with a partner. \n",
        "1. For case studies, you should work individually and are **not** allowed to collaborate.\n",
        "\n",
        "By filling out this notebook and submitting it, you acknowledge that you are aware of the above policies and are agreeing to comply with them."
      ]
    },
    {
      "cell_type": "markdown",
      "metadata": {
        "deletable": false,
        "editable": false,
        "nbgrader": {
          "cell_type": "markdown",
          "checksum": "3bbb092f9dda670ae5e600ef103fc13e",
          "grade": false,
          "grade_id": "cell-5c3ee5bb12251c38",
          "locked": true,
          "schema_version": 3,
          "solution": false
        },
        "id": "HTQ9eIQv-cPA",
        "colab_type": "text"
      },
      "source": [
        "# Optimization & Linear Algebra Review\n",
        "\n",
        "In this exercise we will focus on the two main topics we covered in the lecture.\n",
        "\n",
        "## Linear Algebra\n",
        "\n",
        "In the lecture, with regards to Linear Algebra, we covered:\n",
        "\n",
        "- some notation that we use for linear algebra\n",
        "- special kinds of matrices\n",
        "- matrix properties and operations\n",
        "- norm definitions\n",
        "\n",
        "Now let's practice some of these. "
      ]
    },
    {
      "cell_type": "code",
      "metadata": {
        "deletable": false,
        "editable": false,
        "nbgrader": {
          "cell_type": "code",
          "checksum": "807d7e772d8bd0f606f5be1498244edf",
          "grade": false,
          "grade_id": "cell-76297faedae614aa",
          "locked": true,
          "schema_version": 3,
          "solution": false
        },
        "id": "33YJ_Fhk-cPB",
        "colab_type": "code",
        "colab": {}
      },
      "source": [
        "import numpy as np\n",
        "import matplotlib\n",
        "import matplotlib.pyplot as plt\n",
        "plt.style.use(\"ggplot\")"
      ],
      "execution_count": 59,
      "outputs": []
    },
    {
      "cell_type": "markdown",
      "metadata": {
        "deletable": false,
        "editable": false,
        "nbgrader": {
          "cell_type": "markdown",
          "checksum": "8ca679bf4d21d1b22cbd1dcee0aef69a",
          "grade": false,
          "grade_id": "cell-490a5e9eb6aa86c4",
          "locked": true,
          "schema_version": 3,
          "solution": false
        },
        "id": "XtFpkRlI-cPK",
        "colab_type": "text"
      },
      "source": [
        "In numpy we can create a vector or matrix or tensor using the [`np.array`](https://docs.scipy.org/doc/numpy/reference/generated/numpy.array.html) object."
      ]
    },
    {
      "cell_type": "code",
      "metadata": {
        "deletable": false,
        "editable": false,
        "nbgrader": {
          "cell_type": "code",
          "checksum": "2ce24d172842035ce6919fa72bc586b2",
          "grade": false,
          "grade_id": "cell-ec73f64d4642033b",
          "locked": true,
          "schema_version": 3,
          "solution": false
        },
        "id": "PZLj05hG-cPM",
        "colab_type": "code",
        "colab": {
          "base_uri": "https://localhost:8080/",
          "height": 54
        },
        "outputId": "f5fc13f3-13a0-4b44-c415-32f530d06360"
      },
      "source": [
        "vector = np.array([1,2,3])\n",
        "print(vector)\n",
        "print(f\"The shape of our vector is {vector.shape}\")"
      ],
      "execution_count": 60,
      "outputs": [
        {
          "output_type": "stream",
          "text": [
            "[1 2 3]\n",
            "The shape of our vector is (3,)\n"
          ],
          "name": "stdout"
        }
      ]
    },
    {
      "cell_type": "code",
      "metadata": {
        "deletable": false,
        "editable": false,
        "nbgrader": {
          "cell_type": "code",
          "checksum": "d394529bb3ad99c416300fb3e0ab7b4a",
          "grade": false,
          "grade_id": "cell-d86d8f801297b296",
          "locked": true,
          "schema_version": 3,
          "solution": false
        },
        "id": "7FQKYNmX-cPT",
        "colab_type": "code",
        "colab": {
          "base_uri": "https://localhost:8080/",
          "height": 73
        },
        "outputId": "9e9653a8-8d3c-4dc1-8e5e-4048cce207f3"
      },
      "source": [
        "matrix = np.array([\n",
        "    [1,2,3],\n",
        "    [4,5,6]\n",
        "])\n",
        "print(matrix)\n",
        "print(f\"The shape of our matrix is {matrix.shape}\")"
      ],
      "execution_count": 61,
      "outputs": [
        {
          "output_type": "stream",
          "text": [
            "[[1 2 3]\n",
            " [4 5 6]]\n",
            "The shape of our matrix is (2, 3)\n"
          ],
          "name": "stdout"
        }
      ]
    },
    {
      "cell_type": "code",
      "metadata": {
        "deletable": false,
        "editable": false,
        "nbgrader": {
          "cell_type": "code",
          "checksum": "0ef52f72a43db75d979be5772bb4c4ed",
          "grade": false,
          "grade_id": "cell-259403e923fb8888",
          "locked": true,
          "schema_version": 3,
          "solution": false
        },
        "id": "o_6jfNh2-cPY",
        "colab_type": "code",
        "colab": {
          "base_uri": "https://localhost:8080/",
          "height": 128
        },
        "outputId": "bc2c71f9-0bbe-475b-a2c8-6eff4e7cd29a"
      },
      "source": [
        "tensor = np.array([\n",
        "    [\n",
        "        [1,2,3],\n",
        "        [4,5,6]\n",
        "    ],\n",
        "    [\n",
        "        [7,8,9],\n",
        "        [10,11,12]\n",
        "    ]\n",
        "])\n",
        "print(tensor)\n",
        "print(f\"The shape of our tensor is {tensor.shape}\")"
      ],
      "execution_count": 62,
      "outputs": [
        {
          "output_type": "stream",
          "text": [
            "[[[ 1  2  3]\n",
            "  [ 4  5  6]]\n",
            "\n",
            " [[ 7  8  9]\n",
            "  [10 11 12]]]\n",
            "The shape of our tensor is (2, 2, 3)\n"
          ],
          "name": "stdout"
        }
      ]
    },
    {
      "cell_type": "markdown",
      "metadata": {
        "deletable": false,
        "editable": false,
        "nbgrader": {
          "cell_type": "markdown",
          "checksum": "06fe53124742adffc7784032d2f63ecb",
          "grade": false,
          "grade_id": "cell-abea5b78170e37b8",
          "locked": true,
          "schema_version": 3,
          "solution": false
        },
        "id": "ZGYH6e2z-cPe",
        "colab_type": "text"
      },
      "source": [
        "### Products\n",
        "\n",
        "Let's try out some products now and check how they work. By default, numpy would do element wise multiplication if we use the `*` operator. Instead, we can use the [`@`](https://docs.python.org/3/library/operator.html#mapping-operators-to-functions) operator. (This is valid as of Python 3.5, otherwise you can use [`np.matmul`](https://docs.scipy.org/doc/numpy/reference/generated/numpy.matmul.html)).\n",
        "\n",
        "Let's start by making some vectors and matrices. "
      ]
    },
    {
      "cell_type": "code",
      "metadata": {
        "deletable": false,
        "editable": false,
        "nbgrader": {
          "cell_type": "code",
          "checksum": "e9e9d112f2c504b77d63604498321472",
          "grade": false,
          "grade_id": "cell-a0f3bf53ab8bacd1",
          "locked": true,
          "schema_version": 3,
          "solution": false
        },
        "id": "sPmWBVCv-cPf",
        "colab_type": "code",
        "colab": {}
      },
      "source": [
        "x = np.array([[1,2,3]]) # a row vector\n",
        "y = np.array([[4],[5],[6]]) # a column vector"
      ],
      "execution_count": 63,
      "outputs": []
    },
    {
      "cell_type": "code",
      "metadata": {
        "deletable": false,
        "editable": false,
        "nbgrader": {
          "cell_type": "code",
          "checksum": "4077450fd7184318ee663157d5a58c0a",
          "grade": false,
          "grade_id": "cell-6f147aa13c09e78a",
          "locked": true,
          "schema_version": 3,
          "solution": false
        },
        "id": "SrtEGY-d-cPl",
        "colab_type": "code",
        "colab": {
          "base_uri": "https://localhost:8080/",
          "height": 36
        },
        "outputId": "339c0c7d-d838-4663-9ac4-f0ac7cd71702"
      },
      "source": [
        "print(x)"
      ],
      "execution_count": 64,
      "outputs": [
        {
          "output_type": "stream",
          "text": [
            "[[1 2 3]]\n"
          ],
          "name": "stdout"
        }
      ]
    },
    {
      "cell_type": "code",
      "metadata": {
        "deletable": false,
        "editable": false,
        "nbgrader": {
          "cell_type": "code",
          "checksum": "33c15064e132a9b7ec5aa6f206a62108",
          "grade": false,
          "grade_id": "cell-ab40a47b8abc6019",
          "locked": true,
          "schema_version": 3,
          "solution": false
        },
        "id": "Px5xnsX3-cPp",
        "colab_type": "code",
        "colab": {
          "base_uri": "https://localhost:8080/",
          "height": 73
        },
        "outputId": "b9b42544-c7df-4b52-d91e-b1bc65e88983"
      },
      "source": [
        "print(y)"
      ],
      "execution_count": 65,
      "outputs": [
        {
          "output_type": "stream",
          "text": [
            "[[4]\n",
            " [5]\n",
            " [6]]\n"
          ],
          "name": "stdout"
        }
      ]
    },
    {
      "cell_type": "markdown",
      "metadata": {
        "deletable": false,
        "editable": false,
        "nbgrader": {
          "cell_type": "markdown",
          "checksum": "dc08b90e842adfb00a8563e8be8d8fa5",
          "grade": false,
          "grade_id": "cell-fc80c9d5707cd675",
          "locked": true,
          "schema_version": 3,
          "solution": false
        },
        "id": "iV0_s3WD-cPu",
        "colab_type": "text"
      },
      "source": [
        "We can determine an array's dimensions by calling [`.shape`](https://docs.scipy.org/doc/numpy/reference/generated/numpy.ndarray.shape.html)."
      ]
    },
    {
      "cell_type": "code",
      "metadata": {
        "deletable": false,
        "editable": false,
        "nbgrader": {
          "cell_type": "code",
          "checksum": "1ddd2943b1cdbf33a839be2f956fe8ce",
          "grade": false,
          "grade_id": "cell-0905c1dbb30518b7",
          "locked": true,
          "schema_version": 3,
          "solution": false
        },
        "id": "7hwqULqh-cPv",
        "colab_type": "code",
        "colab": {
          "base_uri": "https://localhost:8080/",
          "height": 36
        },
        "outputId": "5792e012-300f-4ef5-b408-6790a391cc2a"
      },
      "source": [
        "x.shape, y.shape"
      ],
      "execution_count": 66,
      "outputs": [
        {
          "output_type": "execute_result",
          "data": {
            "text/plain": [
              "((1, 3), (3, 1))"
            ]
          },
          "metadata": {
            "tags": []
          },
          "execution_count": 66
        }
      ]
    },
    {
      "cell_type": "markdown",
      "metadata": {
        "deletable": false,
        "editable": false,
        "nbgrader": {
          "cell_type": "markdown",
          "checksum": "4f1536c9abf692fa741a50b0efd224c3",
          "grade": false,
          "grade_id": "cell-480f03a8af18ee72",
          "locked": true,
          "schema_version": 3,
          "solution": false
        },
        "id": "DFVVj1KX-cP1",
        "colab_type": "text"
      },
      "source": [
        "Now let's try multiplying the two vectors to get their inner product. We'll also verify the result by manually calculating it."
      ]
    },
    {
      "cell_type": "code",
      "metadata": {
        "deletable": false,
        "editable": false,
        "nbgrader": {
          "cell_type": "code",
          "checksum": "81c800387af6e7ff33c00044f95e3f13",
          "grade": false,
          "grade_id": "cell-067233ddb9ced301",
          "locked": true,
          "schema_version": 3,
          "solution": false
        },
        "id": "KGiO3nd4-cP2",
        "colab_type": "code",
        "colab": {
          "base_uri": "https://localhost:8080/",
          "height": 36
        },
        "outputId": "2d0a1633-1b06-4e96-cece-d9e711702c94"
      },
      "source": [
        "x @ y, 1 * 4 + 2 * 5 + 3 * 6"
      ],
      "execution_count": 67,
      "outputs": [
        {
          "output_type": "execute_result",
          "data": {
            "text/plain": [
              "(array([[32]]), 32)"
            ]
          },
          "metadata": {
            "tags": []
          },
          "execution_count": 67
        }
      ]
    },
    {
      "cell_type": "markdown",
      "metadata": {
        "deletable": false,
        "editable": false,
        "nbgrader": {
          "cell_type": "markdown",
          "checksum": "6c0fbe4b7c33f69d411d3a9c5297bd3d",
          "grade": false,
          "grade_id": "cell-b262141113422a11",
          "locked": true,
          "schema_version": 3,
          "solution": false
        },
        "id": "ZLc4NsTk-cP5",
        "colab_type": "text"
      },
      "source": [
        "Now let's look at how transpose works. With numpy, you can access the transpose of a `np.array` by calling its [`.T`](https://docs.scipy.org/doc/numpy/reference/generated/numpy.ndarray.T.html) method or using [`np.transpose()`](https://docs.scipy.org/doc/numpy/reference/generated/numpy.transpose.html). For simplicity, we will use `.T`."
      ]
    },
    {
      "cell_type": "code",
      "metadata": {
        "deletable": false,
        "editable": false,
        "nbgrader": {
          "cell_type": "code",
          "checksum": "ce2e03d3f6c351e41fc1e762c0944fe6",
          "grade": false,
          "grade_id": "cell-2a0e90dd462b47f8",
          "locked": true,
          "schema_version": 3,
          "solution": false
        },
        "id": "Lbxn9mEp-cP6",
        "colab_type": "code",
        "colab": {
          "base_uri": "https://localhost:8080/",
          "height": 91
        },
        "outputId": "f228e53a-1265-4941-c3e6-c630144c3199"
      },
      "source": [
        "print(x)\n",
        "print(x.T)"
      ],
      "execution_count": 68,
      "outputs": [
        {
          "output_type": "stream",
          "text": [
            "[[1 2 3]]\n",
            "[[1]\n",
            " [2]\n",
            " [3]]\n"
          ],
          "name": "stdout"
        }
      ]
    },
    {
      "cell_type": "markdown",
      "metadata": {
        "deletable": false,
        "editable": false,
        "nbgrader": {
          "cell_type": "markdown",
          "checksum": "c7ef4092951d74daa6f0fde2ea16da2c",
          "grade": false,
          "grade_id": "cell-164e6abebb08eaf5",
          "locked": true,
          "schema_version": 3,
          "solution": false
        },
        "id": "AC86aGS--cQA",
        "colab_type": "text"
      },
      "source": [
        "In this next cell we can see that if the shapes of two different objects do not align, the product will fail."
      ]
    },
    {
      "cell_type": "code",
      "metadata": {
        "deletable": false,
        "editable": false,
        "nbgrader": {
          "cell_type": "code",
          "checksum": "99b472fe6ce13dd1c213bb2cac173d42",
          "grade": false,
          "grade_id": "cell-538631ef3dd9eea9",
          "locked": true,
          "schema_version": 3,
          "solution": false
        },
        "id": "FP1B-Atb-cQC",
        "colab_type": "code",
        "colab": {
          "base_uri": "https://localhost:8080/",
          "height": 54
        },
        "outputId": "7929b6e0-3ed4-4709-d294-2afa8114fbe5"
      },
      "source": [
        "try:\n",
        "    x.T @ y\n",
        "except Exception as e:\n",
        "    print(e)\n",
        "    \n",
        "try:\n",
        "    x @ y.T\n",
        "except Exception as e:\n",
        "    print(e)"
      ],
      "execution_count": 69,
      "outputs": [
        {
          "output_type": "stream",
          "text": [
            "matmul: Input operand 1 has a mismatch in its core dimension 0, with gufunc signature (n?,k),(k,m?)->(n?,m?) (size 3 is different from 1)\n",
            "matmul: Input operand 1 has a mismatch in its core dimension 0, with gufunc signature (n?,k),(k,m?)->(n?,m?) (size 1 is different from 3)\n"
          ],
          "name": "stdout"
        }
      ]
    },
    {
      "cell_type": "code",
      "metadata": {
        "deletable": false,
        "editable": false,
        "nbgrader": {
          "cell_type": "code",
          "checksum": "aea5dde4b957273d8d89a352d426c99e",
          "grade": false,
          "grade_id": "cell-7d55b138185aa845",
          "locked": true,
          "schema_version": 3,
          "solution": false
        },
        "id": "i3eKSXkA-cQH",
        "colab_type": "code",
        "colab": {
          "base_uri": "https://localhost:8080/",
          "height": 36
        },
        "outputId": "af72f994-e946-413b-b333-53eb0fce1ac4"
      },
      "source": [
        "x.shape, x.T.shape"
      ],
      "execution_count": 70,
      "outputs": [
        {
          "output_type": "execute_result",
          "data": {
            "text/plain": [
              "((1, 3), (3, 1))"
            ]
          },
          "metadata": {
            "tags": []
          },
          "execution_count": 70
        }
      ]
    },
    {
      "cell_type": "markdown",
      "metadata": {
        "deletable": false,
        "editable": false,
        "nbgrader": {
          "cell_type": "markdown",
          "checksum": "6d34ac698da101b2743eadd0be662888",
          "grade": false,
          "grade_id": "cell-88477de8d0d92c45",
          "locked": true,
          "schema_version": 3,
          "solution": false
        },
        "id": "i4BUWBsE-cQL",
        "colab_type": "text"
      },
      "source": [
        "Squeezing gets rid of any shape dimensions with value = 1. This ensures a variable can be treated as a vector instead of a matrix with 1 row for example. Check out the documentation for [`.squeeze`](https://docs.scipy.org/doc/numpy/reference/generated/numpy.squeeze.html)."
      ]
    },
    {
      "cell_type": "code",
      "metadata": {
        "deletable": false,
        "editable": false,
        "nbgrader": {
          "cell_type": "code",
          "checksum": "a42452baab12c89fa358f8d473d54f79",
          "grade": false,
          "grade_id": "cell-936fe967d8555c17",
          "locked": true,
          "schema_version": 3,
          "solution": false
        },
        "id": "tvxjuQTo-cQL",
        "colab_type": "code",
        "colab": {
          "base_uri": "https://localhost:8080/",
          "height": 36
        },
        "outputId": "a3deb3d9-c98f-47b0-d504-930e91973535"
      },
      "source": [
        "x.shape, x.squeeze().shape"
      ],
      "execution_count": 71,
      "outputs": [
        {
          "output_type": "execute_result",
          "data": {
            "text/plain": [
              "((1, 3), (3,))"
            ]
          },
          "metadata": {
            "tags": []
          },
          "execution_count": 71
        }
      ]
    },
    {
      "cell_type": "code",
      "metadata": {
        "deletable": false,
        "editable": false,
        "nbgrader": {
          "cell_type": "code",
          "checksum": "e1cf79eca818cb2cfa3ce559c5a57120",
          "grade": false,
          "grade_id": "cell-768c024cfbe56406",
          "locked": true,
          "schema_version": 3,
          "solution": false
        },
        "id": "oE7A8T7A-cQS",
        "colab_type": "code",
        "colab": {
          "base_uri": "https://localhost:8080/",
          "height": 73
        },
        "outputId": "8e1adbb5-bae6-486f-dffb-cd92c6d6c5ca"
      },
      "source": [
        "x.T @ y.T"
      ],
      "execution_count": 72,
      "outputs": [
        {
          "output_type": "execute_result",
          "data": {
            "text/plain": [
              "array([[ 4,  5,  6],\n",
              "       [ 8, 10, 12],\n",
              "       [12, 15, 18]])"
            ]
          },
          "metadata": {
            "tags": []
          },
          "execution_count": 72
        }
      ]
    },
    {
      "cell_type": "markdown",
      "metadata": {
        "deletable": false,
        "editable": false,
        "nbgrader": {
          "cell_type": "markdown",
          "checksum": "08d4db54cb1d14f01d4ab4f6a9cc20ff",
          "grade": false,
          "grade_id": "cell-83447f44a6d79ac9",
          "locked": true,
          "schema_version": 3,
          "solution": false
        },
        "id": "0ojdHWXW-cQX",
        "colab_type": "text"
      },
      "source": [
        "Now let's move on to matrices."
      ]
    },
    {
      "cell_type": "code",
      "metadata": {
        "deletable": false,
        "editable": false,
        "nbgrader": {
          "cell_type": "code",
          "checksum": "d4d4f558a2fa2f18ae29d08923a6244e",
          "grade": false,
          "grade_id": "cell-8edd5450d369693b",
          "locked": true,
          "schema_version": 3,
          "solution": false
        },
        "id": "-vjJN2I7-cQX",
        "colab_type": "code",
        "colab": {
          "base_uri": "https://localhost:8080/",
          "height": 36
        },
        "outputId": "4951391a-6954-4ab0-e440-f89d3bdb10b3"
      },
      "source": [
        "X = np.array([\n",
        "    [1, 2],\n",
        "    [3, 4]\n",
        "])\n",
        "Y = np.array([\n",
        "    [1, 2, 3],\n",
        "    [4, 5, 6]\n",
        "])\n",
        "X.shape, Y.shape"
      ],
      "execution_count": 73,
      "outputs": [
        {
          "output_type": "execute_result",
          "data": {
            "text/plain": [
              "((2, 2), (2, 3))"
            ]
          },
          "metadata": {
            "tags": []
          },
          "execution_count": 73
        }
      ]
    },
    {
      "cell_type": "code",
      "metadata": {
        "deletable": false,
        "nbgrader": {
          "cell_type": "code",
          "checksum": "f0e5dffe69a98f265eee3436087d6966",
          "grade": false,
          "grade_id": "cell-613462977968b2ef",
          "locked": false,
          "schema_version": 3,
          "solution": true
        },
        "id": "5G1QeU1A-cQa",
        "colab_type": "code",
        "colab": {}
      },
      "source": [
        "# Calculate the product of X and Y and save it to the variable `out`\n",
        "out = X @ Y"
      ],
      "execution_count": 74,
      "outputs": []
    },
    {
      "cell_type": "code",
      "metadata": {
        "deletable": false,
        "editable": false,
        "nbgrader": {
          "cell_type": "code",
          "checksum": "d70c21fcfb116025f9d6bf372632ce49",
          "grade": true,
          "grade_id": "cell-049e2d9010d235b1",
          "locked": true,
          "points": 10,
          "schema_version": 3,
          "solution": false
        },
        "id": "9vBx0gZE-cQd",
        "colab_type": "code",
        "colab": {}
      },
      "source": [
        "assert out.shape == (2,3)\n",
        "assert out[0,0] == 1 * 1 + 2 * 4\n",
        "assert out[1,1] == 3 * 2 + 4 * 5"
      ],
      "execution_count": 75,
      "outputs": []
    },
    {
      "cell_type": "code",
      "metadata": {
        "deletable": false,
        "editable": false,
        "nbgrader": {
          "cell_type": "code",
          "checksum": "f007b3d56754ddfd25b0ed829338e422",
          "grade": false,
          "grade_id": "cell-306e06d0009f2e3a",
          "locked": true,
          "schema_version": 3,
          "solution": false
        },
        "id": "Z2fkQQeh-cQj",
        "colab_type": "code",
        "colab": {
          "base_uri": "https://localhost:8080/",
          "height": 54
        },
        "outputId": "fc4b35c7-a8cb-41ef-f87a-e7f484288e83"
      },
      "source": [
        "print(f\"The output shape of XY should be {X.shape[0]}, {Y.shape[1]}\")\n",
        "print(f\"It is in fact, {out.shape} \")"
      ],
      "execution_count": 76,
      "outputs": [
        {
          "output_type": "stream",
          "text": [
            "The output shape of XY should be 2, 3\n",
            "It is in fact, (2, 3) \n"
          ],
          "name": "stdout"
        }
      ]
    },
    {
      "cell_type": "markdown",
      "metadata": {
        "deletable": false,
        "editable": false,
        "nbgrader": {
          "cell_type": "markdown",
          "checksum": "47b7aa14564f13a04a0931af8e9f7685",
          "grade": false,
          "grade_id": "cell-0bc6146a3e43d909",
          "locked": true,
          "schema_version": 3,
          "solution": false
        },
        "id": "f3fIM5_E-cQm",
        "colab_type": "text"
      },
      "source": [
        "### Norms\n",
        "\n",
        "Now let's calculate the norms that we discussed in the lecture."
      ]
    },
    {
      "cell_type": "markdown",
      "metadata": {
        "deletable": false,
        "editable": false,
        "nbgrader": {
          "cell_type": "markdown",
          "checksum": "f6e13b69b3bd93a1b6a0032ac4c8a898",
          "grade": false,
          "grade_id": "cell-05bee9210bc40d3c",
          "locked": true,
          "schema_version": 3,
          "solution": false
        },
        "id": "9w8Edtv6-cQn",
        "colab_type": "text"
      },
      "source": [
        "#### Vector Norms\n",
        "\n",
        "First, let's calculate the $\\ell_1$ norm. We can calculate norms manually or using numpy's [`linalg.norm`](https://docs.scipy.org/doc/numpy/reference/generated/numpy.linalg.norm.html) method."
      ]
    },
    {
      "cell_type": "code",
      "metadata": {
        "deletable": false,
        "editable": false,
        "nbgrader": {
          "cell_type": "code",
          "checksum": "91ce5715a5dfe4925214117f729cf2ec",
          "grade": false,
          "grade_id": "cell-dce2c5f53e609065",
          "locked": true,
          "schema_version": 3,
          "solution": false
        },
        "id": "vYIUM0VH-cQo",
        "colab_type": "code",
        "colab": {
          "base_uri": "https://localhost:8080/",
          "height": 36
        },
        "outputId": "11b88b50-053f-4558-acc1-3208b3a20e37"
      },
      "source": [
        "ell_1_of_x = np.linalg.norm(x.squeeze(), 1)\n",
        "sum_of_abs_of_x = np.abs(x).sum() \n",
        "print(ell_1_of_x, sum_of_abs_of_x)"
      ],
      "execution_count": 77,
      "outputs": [
        {
          "output_type": "stream",
          "text": [
            "6.0 6\n"
          ],
          "name": "stdout"
        }
      ]
    },
    {
      "cell_type": "markdown",
      "metadata": {
        "deletable": false,
        "editable": false,
        "nbgrader": {
          "cell_type": "markdown",
          "checksum": "9e26e7352f28cef64ee003e65601ca19",
          "grade": false,
          "grade_id": "cell-cedb89e4c49de0ca",
          "locked": true,
          "schema_version": 3,
          "solution": false
        },
        "id": "sUy_TyBw-cQr",
        "colab_type": "text"
      },
      "source": [
        "Now calculate the $\\ell_2$ norm of $\\mathbf{x}$, once using the norm function and compare it to calculating it manually. Check the shape of $\\mathbf{x}$ to make sure it is a vector. (You might need to use `.squeeze()`). "
      ]
    },
    {
      "cell_type": "code",
      "metadata": {
        "deletable": false,
        "nbgrader": {
          "cell_type": "code",
          "checksum": "ee5f3889f6080918ab64934439bf9485",
          "grade": false,
          "grade_id": "cell-699b991ec4a0d632",
          "locked": false,
          "schema_version": 3,
          "solution": true
        },
        "id": "hqwkVHe_-cQr",
        "colab_type": "code",
        "colab": {}
      },
      "source": [
        "# Use the norm function to calculate ell_2_of_x \n",
        "# Manually calculate the norm and save to manual_ell_2_of_x\n",
        "\n",
        "ell_2_of_x = np.linalg.norm(x.squeeze(),ord=2)\n",
        "manual_ell_2_of_x = np.sqrt(np.square(x).sum())"
      ],
      "execution_count": 78,
      "outputs": []
    },
    {
      "cell_type": "code",
      "metadata": {
        "deletable": false,
        "editable": false,
        "nbgrader": {
          "cell_type": "code",
          "checksum": "a2bf76f8538dd5a72f45ef25f117899a",
          "grade": true,
          "grade_id": "cell-fff606eac0bb19f1",
          "locked": true,
          "points": 5,
          "schema_version": 3,
          "solution": false
        },
        "id": "TVbaf62_-cQu",
        "colab_type": "code",
        "colab": {}
      },
      "source": [
        "assert ell_2_of_x == manual_ell_2_of_x"
      ],
      "execution_count": 79,
      "outputs": []
    },
    {
      "cell_type": "markdown",
      "metadata": {
        "deletable": false,
        "editable": false,
        "nbgrader": {
          "cell_type": "markdown",
          "checksum": "d0f710fbe54f7915041a5aa995274acc",
          "grade": false,
          "grade_id": "cell-f6f33806eb0b3dee",
          "locked": true,
          "schema_version": 3,
          "solution": false
        },
        "id": "1Rd3le6b-cQ2",
        "colab_type": "text"
      },
      "source": [
        "#### Matrix Norms\n",
        "\n",
        "Test the multiple definitions of the Frobenius norm."
      ]
    },
    {
      "cell_type": "code",
      "metadata": {
        "deletable": false,
        "editable": false,
        "nbgrader": {
          "cell_type": "code",
          "checksum": "3a5056f5a384006da1c39f6efe8cf0ba",
          "grade": false,
          "grade_id": "cell-fccb8b7174999dd4",
          "locked": true,
          "schema_version": 3,
          "solution": false
        },
        "id": "UvZH53Tp-cQ3",
        "colab_type": "code",
        "colab": {
          "base_uri": "https://localhost:8080/",
          "height": 110
        },
        "outputId": "1680b5b7-86dc-40fb-d719-318bbc700e92"
      },
      "source": [
        "print(X)\n",
        "result = []\n",
        "for row in X:\n",
        "    print(row)\n",
        "    result.append(np.linalg.norm(row.flatten(), 2))\n",
        "print(np.linalg.norm(result))"
      ],
      "execution_count": 80,
      "outputs": [
        {
          "output_type": "stream",
          "text": [
            "[[1 2]\n",
            " [3 4]]\n",
            "[1 2]\n",
            "[3 4]\n",
            "5.477225575051661\n"
          ],
          "name": "stdout"
        }
      ]
    },
    {
      "cell_type": "code",
      "metadata": {
        "deletable": false,
        "editable": false,
        "nbgrader": {
          "cell_type": "code",
          "checksum": "2a3c31dfd48b1bb07abae32539a864e2",
          "grade": false,
          "grade_id": "cell-b457677d4a4ada9e",
          "locked": true,
          "schema_version": 3,
          "solution": false
        },
        "id": "a8-sSFKW-cQ7",
        "colab_type": "code",
        "colab": {
          "base_uri": "https://localhost:8080/",
          "height": 36
        },
        "outputId": "3ba3d843-ed1d-4637-c385-a93368902f94"
      },
      "source": [
        "np.linalg.norm(X)"
      ],
      "execution_count": 81,
      "outputs": [
        {
          "output_type": "execute_result",
          "data": {
            "text/plain": [
              "5.477225575051661"
            ]
          },
          "metadata": {
            "tags": []
          },
          "execution_count": 81
        }
      ]
    },
    {
      "cell_type": "code",
      "metadata": {
        "deletable": false,
        "editable": false,
        "nbgrader": {
          "cell_type": "code",
          "checksum": "952271d757a5cc770ef3fcd270c17fb2",
          "grade": false,
          "grade_id": "cell-ccbebf6e7267aa33",
          "locked": true,
          "schema_version": 3,
          "solution": false
        },
        "id": "PeAz1pLL-cQ-",
        "colab_type": "code",
        "colab": {
          "base_uri": "https://localhost:8080/",
          "height": 36
        },
        "outputId": "0294aba9-0d64-4a5e-9039-4d85b9d3c9c6"
      },
      "source": [
        "print(np.sum(X**2)**0.5)"
      ],
      "execution_count": 82,
      "outputs": [
        {
          "output_type": "stream",
          "text": [
            "5.477225575051661\n"
          ],
          "name": "stdout"
        }
      ]
    },
    {
      "cell_type": "markdown",
      "metadata": {
        "deletable": false,
        "editable": false,
        "nbgrader": {
          "cell_type": "markdown",
          "checksum": "a618a31175bf668ec5c9199fab7175b9",
          "grade": false,
          "grade_id": "cell-8b50d209407cecf4",
          "locked": true,
          "schema_version": 3,
          "solution": false
        },
        "id": "o1JltJxJ-cRC",
        "colab_type": "text"
      },
      "source": [
        "The trace of a matrix is the sum of its diagonal. With numpy we can calculate the trace of a matrix using [`np.trace`](https://docs.scipy.org/doc/numpy/reference/generated/numpy.trace.html)."
      ]
    },
    {
      "cell_type": "code",
      "metadata": {
        "deletable": false,
        "editable": false,
        "nbgrader": {
          "cell_type": "code",
          "checksum": "3c89335041f79d1cff00e7f42ab88937",
          "grade": false,
          "grade_id": "cell-01eef4e18e96a01d",
          "locked": true,
          "schema_version": 3,
          "solution": false
        },
        "id": "LUk4C55c-cRD",
        "colab_type": "code",
        "colab": {
          "base_uri": "https://localhost:8080/",
          "height": 73
        },
        "outputId": "a9e3c348-b66a-49d5-b2de-c643ab7803d0"
      },
      "source": [
        "print(X)\n",
        "np.diag(X).sum(), np.trace(X)"
      ],
      "execution_count": 83,
      "outputs": [
        {
          "output_type": "stream",
          "text": [
            "[[1 2]\n",
            " [3 4]]\n"
          ],
          "name": "stdout"
        },
        {
          "output_type": "execute_result",
          "data": {
            "text/plain": [
              "(5, 5)"
            ]
          },
          "metadata": {
            "tags": []
          },
          "execution_count": 83
        }
      ]
    },
    {
      "cell_type": "markdown",
      "metadata": {
        "deletable": false,
        "editable": false,
        "nbgrader": {
          "cell_type": "markdown",
          "checksum": "a99eb6e5f2ef0b9ebcf96d0c8270063e",
          "grade": false,
          "grade_id": "cell-e4ee63039f6af952",
          "locked": true,
          "schema_version": 3,
          "solution": false
        },
        "id": "bDHh-cyg-cRJ",
        "colab_type": "text"
      },
      "source": [
        "Test the relationship between the Frobenius norm and trace."
      ]
    },
    {
      "cell_type": "code",
      "metadata": {
        "deletable": false,
        "editable": false,
        "nbgrader": {
          "cell_type": "code",
          "checksum": "fa89371c98ef2e0ee9806ba6cdfd52d1",
          "grade": false,
          "grade_id": "cell-f74c4e676b78ff9b",
          "locked": true,
          "schema_version": 3,
          "solution": false
        },
        "id": "zHHBTmcI-cRL",
        "colab_type": "code",
        "colab": {
          "base_uri": "https://localhost:8080/",
          "height": 36
        },
        "outputId": "e9e6e2ff-ed20-41cd-c0c9-9cb47f02fddf"
      },
      "source": [
        "np.trace(X @ X.T)**0.5"
      ],
      "execution_count": 84,
      "outputs": [
        {
          "output_type": "execute_result",
          "data": {
            "text/plain": [
              "5.477225575051661"
            ]
          },
          "metadata": {
            "tags": []
          },
          "execution_count": 84
        }
      ]
    },
    {
      "cell_type": "markdown",
      "metadata": {
        "deletable": false,
        "editable": false,
        "nbgrader": {
          "cell_type": "markdown",
          "checksum": "6b1ebdb8b6ee3ba7f7116c709ba9371d",
          "grade": false,
          "grade_id": "cell-b9a62e3210d26ecb",
          "locked": true,
          "schema_version": 3,
          "solution": false
        },
        "id": "TUHYRl5E-cRO",
        "colab_type": "text"
      },
      "source": [
        "### Special Matrices\n",
        "\n",
        "Here we'll investigate the identity matrix, diagonal matrices, and symmetric matrices."
      ]
    },
    {
      "cell_type": "markdown",
      "metadata": {
        "deletable": false,
        "editable": false,
        "nbgrader": {
          "cell_type": "markdown",
          "checksum": "3f6e776f856464db80ec2ca5099fe54b",
          "grade": false,
          "grade_id": "cell-8d9b8353a10a27ff",
          "locked": true,
          "schema_version": 3,
          "solution": false
        },
        "id": "rfc8NUDV-cRO",
        "colab_type": "text"
      },
      "source": [
        "You can create an identity matrix using [`np.eye`](https://docs.scipy.org/doc/numpy/reference/generated/numpy.eye.html)"
      ]
    },
    {
      "cell_type": "code",
      "metadata": {
        "deletable": false,
        "editable": false,
        "nbgrader": {
          "cell_type": "code",
          "checksum": "0bf8642b9f7b3d9eb39bef89542d85e3",
          "grade": false,
          "grade_id": "cell-f27b933c88f47ce1",
          "locked": true,
          "schema_version": 3,
          "solution": false
        },
        "id": "90MkH2mb-cRO",
        "colab_type": "code",
        "colab": {
          "base_uri": "https://localhost:8080/",
          "height": 110
        },
        "outputId": "6ca58b81-8109-4129-bbc7-6216f60c549a"
      },
      "source": [
        "five_identity = np.eye(5)\n",
        "five_identity"
      ],
      "execution_count": 85,
      "outputs": [
        {
          "output_type": "execute_result",
          "data": {
            "text/plain": [
              "array([[1., 0., 0., 0., 0.],\n",
              "       [0., 1., 0., 0., 0.],\n",
              "       [0., 0., 1., 0., 0.],\n",
              "       [0., 0., 0., 1., 0.],\n",
              "       [0., 0., 0., 0., 1.]])"
            ]
          },
          "metadata": {
            "tags": []
          },
          "execution_count": 85
        }
      ]
    },
    {
      "cell_type": "markdown",
      "metadata": {
        "deletable": false,
        "editable": false,
        "nbgrader": {
          "cell_type": "markdown",
          "checksum": "3c057b2cbc72f7045aba6fb83fb93b77",
          "grade": false,
          "grade_id": "cell-a62e1c74ee90ba2d",
          "locked": true,
          "schema_version": 3,
          "solution": false
        },
        "id": "pex68M4O-cRT",
        "colab_type": "text"
      },
      "source": [
        "[`np.diag`](https://docs.scipy.org/doc/numpy/reference/generated/numpy.diag.html) is used to either create a diagonal matrix or extract the diagonal of an existing matrix."
      ]
    },
    {
      "cell_type": "code",
      "metadata": {
        "deletable": false,
        "editable": false,
        "nbgrader": {
          "cell_type": "code",
          "checksum": "a7827131b018aaee62a92435ad8de654",
          "grade": false,
          "grade_id": "cell-9b0e2490ec5217fd",
          "locked": true,
          "schema_version": 3,
          "solution": false
        },
        "id": "XHPdAeCS-cRU",
        "colab_type": "code",
        "colab": {
          "base_uri": "https://localhost:8080/",
          "height": 110
        },
        "outputId": "fee93e33-01c2-4570-c80e-4ecafc673f3b"
      },
      "source": [
        "D = np.diag([1,2,3,4,5])\n",
        "D"
      ],
      "execution_count": 86,
      "outputs": [
        {
          "output_type": "execute_result",
          "data": {
            "text/plain": [
              "array([[1, 0, 0, 0, 0],\n",
              "       [0, 2, 0, 0, 0],\n",
              "       [0, 0, 3, 0, 0],\n",
              "       [0, 0, 0, 4, 0],\n",
              "       [0, 0, 0, 0, 5]])"
            ]
          },
          "metadata": {
            "tags": []
          },
          "execution_count": 86
        }
      ]
    },
    {
      "cell_type": "code",
      "metadata": {
        "deletable": false,
        "editable": false,
        "nbgrader": {
          "cell_type": "code",
          "checksum": "5c7739b89ef5e655c11be8602d8e57fa",
          "grade": false,
          "grade_id": "cell-1c3a67302f17a13a",
          "locked": true,
          "schema_version": 3,
          "solution": false
        },
        "id": "Vh_U9l0--cRW",
        "colab_type": "code",
        "colab": {
          "base_uri": "https://localhost:8080/",
          "height": 36
        },
        "outputId": "99fc2aaa-f5db-4183-b223-f6262736cf01"
      },
      "source": [
        "np.diag(five_identity)"
      ],
      "execution_count": 87,
      "outputs": [
        {
          "output_type": "execute_result",
          "data": {
            "text/plain": [
              "array([1., 1., 1., 1., 1.])"
            ]
          },
          "metadata": {
            "tags": []
          },
          "execution_count": 87
        }
      ]
    },
    {
      "cell_type": "markdown",
      "metadata": {
        "deletable": false,
        "editable": false,
        "nbgrader": {
          "cell_type": "markdown",
          "checksum": "e028ea8f63268800a32e827511742a95",
          "grade": false,
          "grade_id": "cell-24fe13e71812f70a",
          "locked": true,
          "schema_version": 3,
          "solution": false
        },
        "id": "n7oweny5-cRZ",
        "colab_type": "text"
      },
      "source": [
        "We can check if a matrix is Symmetric by checking if it is equivalent to its transpose. Is a diagonal matrix symmetric?\n"
      ]
    },
    {
      "cell_type": "code",
      "metadata": {
        "deletable": false,
        "editable": false,
        "nbgrader": {
          "cell_type": "code",
          "checksum": "c6519a7b302febb3565c42baa57c1f27",
          "grade": false,
          "grade_id": "cell-e40cd544bc026eb1",
          "locked": true,
          "schema_version": 3,
          "solution": false
        },
        "id": "NcVQmwPa-cRa",
        "colab_type": "code",
        "colab": {
          "base_uri": "https://localhost:8080/",
          "height": 36
        },
        "outputId": "4b3e932b-21e5-4221-b6ca-af104e5b5c28"
      },
      "source": [
        "print(f\"It is {np.all(D == D.T)} that D is a symmetric matrix\")"
      ],
      "execution_count": 88,
      "outputs": [
        {
          "output_type": "stream",
          "text": [
            "It is True that D is a symmetric matrix\n"
          ],
          "name": "stdout"
        }
      ]
    },
    {
      "cell_type": "code",
      "metadata": {
        "deletable": false,
        "editable": false,
        "nbgrader": {
          "cell_type": "code",
          "checksum": "351c8b3bba4ae34a68988ca5b3cfd656",
          "grade": false,
          "grade_id": "cell-7185d891f53e6a13",
          "locked": true,
          "schema_version": 3,
          "solution": false
        },
        "id": "4Bphj2x1-cRc",
        "colab_type": "code",
        "colab": {
          "base_uri": "https://localhost:8080/",
          "height": 36
        },
        "outputId": "ee394a15-57d6-435c-da14-3bdf6eeec9fc"
      },
      "source": [
        "print(f\"It is {np.all(X == X.T)} that X is a symmetric matrix\")"
      ],
      "execution_count": 89,
      "outputs": [
        {
          "output_type": "stream",
          "text": [
            "It is False that X is a symmetric matrix\n"
          ],
          "name": "stdout"
        }
      ]
    },
    {
      "cell_type": "markdown",
      "metadata": {
        "deletable": false,
        "editable": false,
        "nbgrader": {
          "cell_type": "markdown",
          "checksum": "5a49663bf9abe9476dd40f83749666e0",
          "grade": false,
          "grade_id": "cell-3eda10c67692d773",
          "locked": true,
          "schema_version": 3,
          "solution": false
        },
        "id": "1fB_8cK--cRf",
        "colab_type": "text"
      },
      "source": [
        "We can calculate the rank of a matrix using [`np.linalg.matrix_rank`](https://docs.scipy.org/doc/numpy-1.14.0/reference/generated/numpy.linalg.matrix_rank.html)."
      ]
    },
    {
      "cell_type": "code",
      "metadata": {
        "deletable": false,
        "editable": false,
        "nbgrader": {
          "cell_type": "code",
          "checksum": "e16c5905edebb6795a66e4d22ba3d4ce",
          "grade": false,
          "grade_id": "cell-c21ee304e791e8a2",
          "locked": true,
          "schema_version": 3,
          "solution": false
        },
        "id": "abgGHiPu-cRh",
        "colab_type": "code",
        "colab": {
          "base_uri": "https://localhost:8080/",
          "height": 36
        },
        "outputId": "180b4986-d363-4f9e-9cf8-e9d5b10f6e12"
      },
      "source": [
        "np.linalg.matrix_rank(X)"
      ],
      "execution_count": 90,
      "outputs": [
        {
          "output_type": "execute_result",
          "data": {
            "text/plain": [
              "2"
            ]
          },
          "metadata": {
            "tags": []
          },
          "execution_count": 90
        }
      ]
    },
    {
      "cell_type": "code",
      "metadata": {
        "deletable": false,
        "editable": false,
        "nbgrader": {
          "cell_type": "code",
          "checksum": "56a47543b7d8841d6e2af93815f7fa39",
          "grade": false,
          "grade_id": "cell-bac54b7f0f21347f",
          "locked": true,
          "schema_version": 3,
          "solution": false
        },
        "id": "hmcD5Qis-cRj",
        "colab_type": "code",
        "colab": {
          "base_uri": "https://localhost:8080/",
          "height": 36
        },
        "outputId": "4347642e-1237-4835-e0c8-4d816622ac44"
      },
      "source": [
        "np.linalg.matrix_rank(five_identity)"
      ],
      "execution_count": 91,
      "outputs": [
        {
          "output_type": "execute_result",
          "data": {
            "text/plain": [
              "5"
            ]
          },
          "metadata": {
            "tags": []
          },
          "execution_count": 91
        }
      ]
    },
    {
      "cell_type": "code",
      "metadata": {
        "deletable": false,
        "editable": false,
        "nbgrader": {
          "cell_type": "code",
          "checksum": "7acfaf0e7e848f12dc5b1fe670a4a8c8",
          "grade": false,
          "grade_id": "cell-adfab159c927ec00",
          "locked": true,
          "schema_version": 3,
          "solution": false
        },
        "id": "dHARaTfq-cRn",
        "colab_type": "code",
        "colab": {
          "base_uri": "https://localhost:8080/",
          "height": 36
        },
        "outputId": "da739a58-bba5-4e2f-858b-612b43545a4f"
      },
      "source": [
        "np.linalg.matrix_rank(np.array([\n",
        "    [1, 2, 3],\n",
        "    [2, 4, 6]\n",
        "]))"
      ],
      "execution_count": 92,
      "outputs": [
        {
          "output_type": "execute_result",
          "data": {
            "text/plain": [
              "1"
            ]
          },
          "metadata": {
            "tags": []
          },
          "execution_count": 92
        }
      ]
    },
    {
      "cell_type": "code",
      "metadata": {
        "deletable": false,
        "editable": false,
        "nbgrader": {
          "cell_type": "code",
          "checksum": "c6b943649a22931fc34fbd84f7cb8ebc",
          "grade": false,
          "grade_id": "cell-b22277caedf82091",
          "locked": true,
          "schema_version": 3,
          "solution": false
        },
        "id": "rijGEK-4-cRp",
        "colab_type": "code",
        "colab": {
          "base_uri": "https://localhost:8080/",
          "height": 36
        },
        "outputId": "5fa97341-0d70-47c2-fe18-95d03335c8f1"
      },
      "source": [
        "np.linalg.matrix_rank(np.array([\n",
        "    [1, 2, 4],\n",
        "    [2, 4, 6]\n",
        "]))"
      ],
      "execution_count": 93,
      "outputs": [
        {
          "output_type": "execute_result",
          "data": {
            "text/plain": [
              "2"
            ]
          },
          "metadata": {
            "tags": []
          },
          "execution_count": 93
        }
      ]
    },
    {
      "cell_type": "markdown",
      "metadata": {
        "deletable": false,
        "editable": false,
        "nbgrader": {
          "cell_type": "markdown",
          "checksum": "13e2543b7a31d0d6c99056d465851417",
          "grade": false,
          "grade_id": "cell-6696b1cd99c70c35",
          "locked": true,
          "schema_version": 3,
          "solution": false
        },
        "id": "iI42e15W-cRq",
        "colab_type": "text"
      },
      "source": [
        "Check to see if these numbers make sense to you based on the definition of rank."
      ]
    },
    {
      "cell_type": "markdown",
      "metadata": {
        "deletable": false,
        "editable": false,
        "nbgrader": {
          "cell_type": "markdown",
          "checksum": "042163a6896379516bbef00151007e65",
          "grade": false,
          "grade_id": "cell-7d3d8ac8c5368d1e",
          "locked": true,
          "schema_version": 3,
          "solution": false
        },
        "id": "EyS0Bqi_-cRr",
        "colab_type": "text"
      },
      "source": [
        "## Decomposition\n",
        "\n",
        "Now let's look at decomposing a matrix into multiple matrices. We have two main methods of doing so. Singular Value Decomposition works on all matrices and eigenvalue decomposition works on symmetric matrices.\n",
        "\n",
        "We can use [`linalg.svd`](https://docs.scipy.org/doc/numpy-1.14.0/reference/generated/numpy.linalg.svd.html) to calculate the SVD of a matrix and [`linalg.eig`](https://docs.scipy.org/doc/numpy-1.14.0/reference/generated/numpy.linalg.eig.html) to form the eigenvalue decomposition of a symmetric matrix."
      ]
    },
    {
      "cell_type": "code",
      "metadata": {
        "deletable": false,
        "editable": false,
        "nbgrader": {
          "cell_type": "code",
          "checksum": "577eba00d96a81a7a000b680c706315d",
          "grade": false,
          "grade_id": "cell-116eebdb1023e6c9",
          "locked": true,
          "schema_version": 3,
          "solution": false
        },
        "id": "KyaUeW7x-cRs",
        "colab_type": "code",
        "colab": {
          "base_uri": "https://localhost:8080/",
          "height": 314
        },
        "outputId": "38f4eec0-339c-4a00-8b28-215ba574f20f"
      },
      "source": [
        "U, Sigma, VT = np.linalg.svd(Y)\n",
        "V = VT.T\n",
        "print(U)\n",
        "print(V)\n",
        "print(Sigma)\n",
        "U@U.T, U.T @ U, V@V.T, V.T @ V"
      ],
      "execution_count": 94,
      "outputs": [
        {
          "output_type": "stream",
          "text": [
            "[[-0.3863177  -0.92236578]\n",
            " [-0.92236578  0.3863177 ]]\n",
            "[[-0.42866713  0.80596391  0.40824829]\n",
            " [-0.56630692  0.11238241 -0.81649658]\n",
            " [-0.7039467  -0.58119908  0.40824829]]\n",
            "[9.508032   0.77286964]\n"
          ],
          "name": "stdout"
        },
        {
          "output_type": "execute_result",
          "data": {
            "text/plain": [
              "(array([[ 1.00000000e+00, -8.49433239e-18],\n",
              "        [-8.49433239e-18,  1.00000000e+00]]),\n",
              " array([[ 1.00000000e+00, -8.49433239e-18],\n",
              "        [-8.49433239e-18,  1.00000000e+00]]),\n",
              " array([[1.00000000e+00, 1.16059657e-16, 9.83171390e-17],\n",
              "        [1.16059657e-16, 1.00000000e+00, 4.58633852e-19],\n",
              "        [9.83171390e-17, 4.58633852e-19, 1.00000000e+00]]),\n",
              " array([[ 1.00000000e+00,  4.13108370e-17,  2.21870637e-17],\n",
              "        [ 4.13108370e-17,  1.00000000e+00, -1.77008767e-16],\n",
              "        [ 2.21870637e-17, -1.77008767e-16,  1.00000000e+00]]))"
            ]
          },
          "metadata": {
            "tags": []
          },
          "execution_count": 94
        }
      ]
    },
    {
      "cell_type": "markdown",
      "metadata": {
        "deletable": false,
        "editable": false,
        "nbgrader": {
          "cell_type": "markdown",
          "checksum": "145e15752ac0f286f3c12aeaed259f8f",
          "grade": false,
          "grade_id": "cell-0b57fad13a05d006",
          "locked": true,
          "schema_version": 3,
          "solution": false
        },
        "id": "ENlzcd_W-cRt",
        "colab_type": "text"
      },
      "source": [
        "Check the orthogonality of the resulting matrices."
      ]
    },
    {
      "cell_type": "code",
      "metadata": {
        "deletable": false,
        "editable": false,
        "nbgrader": {
          "cell_type": "code",
          "checksum": "7bccf034406078a7c1e49824493062d2",
          "grade": false,
          "grade_id": "cell-227f9de1eea2e6de",
          "locked": true,
          "schema_version": 3,
          "solution": false
        },
        "id": "je3Qq_S_-cRu",
        "colab_type": "code",
        "colab": {
          "base_uri": "https://localhost:8080/",
          "height": 202
        },
        "outputId": "57113e4b-e36e-4aac-93fc-3e1268e47d8b"
      },
      "source": [
        "U@U.T, U.T @ U, V@V.T, V.T @ V"
      ],
      "execution_count": 95,
      "outputs": [
        {
          "output_type": "execute_result",
          "data": {
            "text/plain": [
              "(array([[ 1.00000000e+00, -8.49433239e-18],\n",
              "        [-8.49433239e-18,  1.00000000e+00]]),\n",
              " array([[ 1.00000000e+00, -8.49433239e-18],\n",
              "        [-8.49433239e-18,  1.00000000e+00]]),\n",
              " array([[1.00000000e+00, 1.16059657e-16, 9.83171390e-17],\n",
              "        [1.16059657e-16, 1.00000000e+00, 4.58633852e-19],\n",
              "        [9.83171390e-17, 4.58633852e-19, 1.00000000e+00]]),\n",
              " array([[ 1.00000000e+00,  4.13108370e-17,  2.21870637e-17],\n",
              "        [ 4.13108370e-17,  1.00000000e+00, -1.77008767e-16],\n",
              "        [ 2.21870637e-17, -1.77008767e-16,  1.00000000e+00]]))"
            ]
          },
          "metadata": {
            "tags": []
          },
          "execution_count": 95
        }
      ]
    },
    {
      "cell_type": "markdown",
      "metadata": {
        "deletable": false,
        "editable": false,
        "nbgrader": {
          "cell_type": "markdown",
          "checksum": "810f22b839dd8db23bfc586363cee448",
          "grade": false,
          "grade_id": "cell-3f97408d9b50ed75",
          "locked": true,
          "schema_version": 3,
          "solution": false
        },
        "id": "1LQDoMSF-cRw",
        "colab_type": "text"
      },
      "source": [
        "Let's create a symmetric matrix $\\mathbf{S}$ to verify SVD's equivalence to eigenvalue decomposition when the matrix is symmetric."
      ]
    },
    {
      "cell_type": "code",
      "metadata": {
        "deletable": false,
        "editable": false,
        "nbgrader": {
          "cell_type": "code",
          "checksum": "bf04adbd33cea1dad168f18aa0afb8d0",
          "grade": false,
          "grade_id": "cell-384d6d71a540eba5",
          "locked": true,
          "schema_version": 3,
          "solution": false
        },
        "id": "Wyu-rbGW-cR_",
        "colab_type": "code",
        "colab": {}
      },
      "source": [
        "S = np.array([\n",
        "    [1, 2, 3],\n",
        "    [2, 3, 7],\n",
        "    [3, 7, 12]\n",
        "])"
      ],
      "execution_count": 96,
      "outputs": []
    },
    {
      "cell_type": "code",
      "metadata": {
        "deletable": false,
        "editable": false,
        "nbgrader": {
          "cell_type": "code",
          "checksum": "94797a37f3b0217b62f5902841d3d6de",
          "grade": false,
          "grade_id": "cell-98358611208e7211",
          "locked": true,
          "schema_version": 3,
          "solution": false
        },
        "id": "u_UkI74E-cSB",
        "colab_type": "code",
        "colab": {
          "base_uri": "https://localhost:8080/",
          "height": 147
        },
        "outputId": "6f48ec5b-06ee-462f-96ce-1ebe052b0289"
      },
      "source": [
        "U, Sigma, VT = np.linalg.svd(S)\n",
        "V = VT.T\n",
        "print(U)\n",
        "print(V)\n",
        "print(Sigma)"
      ],
      "execution_count": 97,
      "outputs": [
        {
          "output_type": "stream",
          "text": [
            "[[-0.22380127 -0.26826216  0.93698901]\n",
            " [-0.47060372  0.87162146  0.13714285]\n",
            " [-0.85348997 -0.41025777 -0.32131516]]\n",
            "[[-0.22380127  0.26826216  0.93698901]\n",
            " [-0.47060372 -0.87162146  0.13714285]\n",
            " [-0.85348997  0.41025777 -0.32131516]]\n",
            "[16.64636961  0.91033134  0.26396173]\n"
          ],
          "name": "stdout"
        }
      ]
    },
    {
      "cell_type": "code",
      "metadata": {
        "deletable": false,
        "nbgrader": {
          "cell_type": "code",
          "checksum": "3ea6b9e8a5eea43bd991f0dc23ab521c",
          "grade": false,
          "grade_id": "cell-da850a693bb7be9c",
          "locked": false,
          "schema_version": 3,
          "solution": true
        },
        "id": "1qahR0lf-cSD",
        "colab_type": "code",
        "colab": {}
      },
      "source": [
        "# Calculate the eigenvalues and eigenvectors of S and save them to eig_vals and eig_vecs respectively.\n",
        "eig_vals, eig_vecs = np.linalg.eig(S)"
      ],
      "execution_count": 103,
      "outputs": []
    },
    {
      "cell_type": "code",
      "metadata": {
        "deletable": false,
        "editable": false,
        "nbgrader": {
          "cell_type": "code",
          "checksum": "cc191190b094f50eac9f1be269991b54",
          "grade": true,
          "grade_id": "cell-0078b327366d23e9",
          "locked": true,
          "points": 5,
          "schema_version": 3,
          "solution": false
        },
        "id": "YNhULjnF-cSG",
        "colab_type": "code",
        "colab": {}
      },
      "source": [
        "assert eig_vals.shape == (3,)\n",
        "assert eig_vecs.shape == (3,3)"
      ],
      "execution_count": 104,
      "outputs": []
    },
    {
      "cell_type": "markdown",
      "metadata": {
        "deletable": false,
        "editable": false,
        "nbgrader": {
          "cell_type": "markdown",
          "checksum": "4eed3d759b08441ad1883dfa9087280d",
          "grade": false,
          "grade_id": "cell-ed87420970917ba4",
          "locked": true,
          "schema_version": 3,
          "solution": false
        },
        "id": "L2Ks_XXv-cSI",
        "colab_type": "text"
      },
      "source": [
        "Verify some properties of eigenvalues for symmetric matrices."
      ]
    },
    {
      "cell_type": "code",
      "metadata": {
        "deletable": false,
        "editable": false,
        "nbgrader": {
          "cell_type": "code",
          "checksum": "786159102914bbbd159d36e6e34dc7be",
          "grade": false,
          "grade_id": "cell-087b2bf4330d2796",
          "locked": true,
          "schema_version": 3,
          "solution": false
        },
        "id": "8WWhrCYt-cSI",
        "colab_type": "code",
        "colab": {
          "base_uri": "https://localhost:8080/",
          "height": 73
        },
        "outputId": "094d4faf-0750-4ca7-f45c-273e4ccf3b51"
      },
      "source": [
        "np.linalg.eigvals(S.T @ S), np.linalg.eigvals(S @ S.T), np.linalg.eigvals(S) ** 2"
      ],
      "execution_count": 100,
      "outputs": [
        {
          "output_type": "execute_result",
          "data": {
            "text/plain": [
              "(array([2.77101621e+02, 6.96757948e-02, 8.28703141e-01]),\n",
              " array([2.77101621e+02, 6.96757948e-02, 8.28703141e-01]),\n",
              " array([2.77101621e+02, 6.96757948e-02, 8.28703141e-01]))"
            ]
          },
          "metadata": {
            "tags": []
          },
          "execution_count": 100
        }
      ]
    },
    {
      "cell_type": "markdown",
      "metadata": {
        "deletable": false,
        "editable": false,
        "nbgrader": {
          "cell_type": "markdown",
          "checksum": "06592d27996690c948e9f6d1e341c8dc",
          "grade": false,
          "grade_id": "cell-1280c87e936562eb",
          "locked": true,
          "schema_version": 3,
          "solution": false
        },
        "id": "OvkZ92dm-cSK",
        "colab_type": "text"
      },
      "source": [
        "## Feedback"
      ]
    },
    {
      "cell_type": "code",
      "metadata": {
        "deletable": false,
        "nbgrader": {
          "cell_type": "code",
          "checksum": "ad17574c24c2f7c49b06fd098156817f",
          "grade": false,
          "grade_id": "cell-9e98681da9a95117",
          "locked": false,
          "schema_version": 3,
          "solution": true
        },
        "id": "PVi8DVDE-cSK",
        "colab_type": "code",
        "colab": {}
      },
      "source": [
        "def feedback():\n",
        "    \"\"\"Provide feedback on the contents of this exercise\n",
        "    \n",
        "    Returns:\n",
        "        string\n",
        "    \"\"\"\n",
        "    return \"I thought that this assignment was a good introduction into using numpy for linear algebra methods.\""
      ],
      "execution_count": 101,
      "outputs": []
    },
    {
      "cell_type": "code",
      "metadata": {
        "deletable": false,
        "editable": false,
        "nbgrader": {
          "cell_type": "code",
          "checksum": "73f936690f200756f103c220eda93934",
          "grade": true,
          "grade_id": "cell-38e4606280755f60",
          "locked": true,
          "points": 0,
          "schema_version": 3,
          "solution": false
        },
        "id": "7K5mnXoe-cSN",
        "colab_type": "code",
        "colab": {
          "base_uri": "https://localhost:8080/",
          "height": 36
        },
        "outputId": "55c07dc4-0f8e-47ef-9d7e-2dc54dc80355"
      },
      "source": [
        "feedback()"
      ],
      "execution_count": 102,
      "outputs": [
        {
          "output_type": "execute_result",
          "data": {
            "application/vnd.google.colaboratory.intrinsic+json": {
              "type": "string"
            },
            "text/plain": [
              "'I thought that this assignment was a good introduction into using numpy for linear algebra methods.'"
            ]
          },
          "metadata": {
            "tags": []
          },
          "execution_count": 102
        }
      ]
    }
  ]
}