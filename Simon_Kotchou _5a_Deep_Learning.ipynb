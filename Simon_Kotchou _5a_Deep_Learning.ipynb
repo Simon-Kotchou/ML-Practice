{
  "nbformat": 4,
  "nbformat_minor": 0,
  "metadata": {
    "kernelspec": {
      "display_name": "iml-exercises",
      "language": "python",
      "name": "iml-exercises"
    },
    "language_info": {
      "codemirror_mode": {
        "name": "ipython",
        "version": 3
      },
      "file_extension": ".py",
      "mimetype": "text/x-python",
      "name": "python",
      "nbconvert_exporter": "python",
      "pygments_lexer": "ipython3",
      "version": "3.6.5"
    },
    "colab": {
      "name": "<Simon Kotchou>-5a_Deep_Learning.ipynb",
      "provenance": []
    },
    "accelerator": "GPU"
  },
  "cells": [
    {
      "cell_type": "markdown",
      "metadata": {
        "id": "qhI8UjEIdgaq"
      },
      "source": [
        "## CSCI 470 Activities and Case Studies\n",
        "\n",
        "1. For all activities, you are allowed to collaborate with a partner. \n",
        "1. For case studies, you should work individually and are **not** allowed to collaborate.\n",
        "\n",
        "By filling out this notebook and submitting it, you acknowledge that you are aware of the above policies and are agreeing to comply with them."
      ]
    },
    {
      "cell_type": "markdown",
      "metadata": {
        "id": "CaIB4XhLdgat"
      },
      "source": [
        "Some considerations with regard to how these notebooks will be graded:\n",
        "\n",
        "1. You can add more notebook cells or edit existing notebook cells other than \"# YOUR CODE HERE\" to test out or debug your code. We actually highly recommend you do so to gain a better understanding of what is happening. However, during grading, **these changes are ignored**. \n",
        "2. You must ensure that all your code for the particular task is available in the cells that say \"# YOUR CODE HERE\"\n",
        "3. Every cell that says \"# YOUR CODE HERE\" is followed by a \"raise NotImplementedError\". You need to remove that line. During grading, if an error occurs then you will not receive points for your work in that section.\n",
        "4. If your code passes the \"assert\" statements, then no output will result. If your code fails the \"assert\" statements, you will get an \"AssertionError\". Getting an assertion error means you will not receive points for that particular task.\n",
        "5. If you edit the \"assert\" statements to make your code pass, they will still fail when they are graded since the \"assert\" statements will revert to the original. Make sure you don't edit the assert statements.\n",
        "6. We may sometimes have \"hidden\" tests for grading. This means that passing the visible \"assert\" statements is not sufficient. The \"assert\" statements are there as a guide but you need to make sure you understand what you're required to do and ensure that you are doing it correctly. Passing the visible tests is necessary but not sufficient to get the grade for that cell.\n",
        "7. When you are asked to define a function, make sure you **don't** use any variables outside of the parameters passed to the function. You can think of the parameters being passed to the function as a hint. Make sure you're using all of those variables.\n",
        "8. Finally, **make sure you run \"Kernel > Restart and Run All\"** and pass all the asserts before submitting. If you don't restart the kernel, there may be some code that you ran and deleted that is still being used and that was why your asserts were passing."
      ]
    },
    {
      "cell_type": "markdown",
      "metadata": {
        "deletable": false,
        "editable": false,
        "nbgrader": {
          "cell_type": "markdown",
          "checksum": "f527c20692dbdf09018e4f5bc32e637a",
          "grade": false,
          "grade_id": "cell-4fb3a6f3d58fd28b",
          "locked": true,
          "schema_version": 3,
          "solution": false
        },
        "id": "HnXqA14ydgaw"
      },
      "source": [
        "# Deep Learning\n",
        "\n",
        "In this exercise, you will use a deep neural network to predict the values of houses based on some provided input data. You will use keras to build the model. Below is a description of how the keras models are set up.\n",
        "\n",
        "**Please read more about the data [here](https://www.cs.toronto.edu/~delve/data/boston/bostonDetail.html).**"
      ]
    },
    {
      "cell_type": "code",
      "metadata": {
        "deletable": false,
        "editable": false,
        "nbgrader": {
          "cell_type": "code",
          "checksum": "c39e29d77d1a419d614ec45f1cb64f75",
          "grade": false,
          "grade_id": "cell-d07727b5ced87bf2",
          "locked": true,
          "schema_version": 3,
          "solution": false
        },
        "id": "--LLkYHadgaz"
      },
      "source": [
        "import tensorflow as tf\n",
        "import tensorflow.keras as keras\n",
        "import numpy as np\n",
        "from tensorflow.keras import Sequential\n",
        "from tensorflow.keras.layers import Dense, Dropout\n",
        "\n",
        "np.random.seed(0)"
      ],
      "execution_count": 3,
      "outputs": []
    },
    {
      "cell_type": "code",
      "metadata": {
        "deletable": false,
        "editable": false,
        "nbgrader": {
          "cell_type": "code",
          "checksum": "9671de294010d6b1c7292a418de83b6e",
          "grade": false,
          "grade_id": "cell-9b0245844d72bf80",
          "locked": true,
          "schema_version": 3,
          "solution": false
        },
        "id": "mC7GN1u4dgbC",
        "outputId": "3615feee-82a4-4692-ad6b-804b9917d5cb",
        "colab": {
          "base_uri": "https://localhost:8080/",
          "height": 54
        }
      },
      "source": [
        "(x_train, y_train), (x_test, y_test) = tf.keras.datasets.boston_housing.load_data()"
      ],
      "execution_count": 4,
      "outputs": [
        {
          "output_type": "stream",
          "text": [
            "Downloading data from https://storage.googleapis.com/tensorflow/tf-keras-datasets/boston_housing.npz\n",
            "57344/57026 [==============================] - 0s 0us/step\n"
          ],
          "name": "stdout"
        }
      ]
    },
    {
      "cell_type": "code",
      "metadata": {
        "deletable": false,
        "editable": false,
        "nbgrader": {
          "cell_type": "code",
          "checksum": "3527a9c335ebfaef9a7e5705a051f3e7",
          "grade": false,
          "grade_id": "cell-e2de7844f2c7f49e",
          "locked": true,
          "schema_version": 3,
          "solution": false
        },
        "id": "19rC_BlBdgbJ",
        "outputId": "a149bfc9-72ef-4e9c-a8a1-661fe6c8c116",
        "colab": {
          "base_uri": "https://localhost:8080/",
          "height": 35
        }
      },
      "source": [
        "x_train.shape"
      ],
      "execution_count": 5,
      "outputs": [
        {
          "output_type": "execute_result",
          "data": {
            "text/plain": [
              "(404, 13)"
            ]
          },
          "metadata": {
            "tags": []
          },
          "execution_count": 5
        }
      ]
    },
    {
      "cell_type": "code",
      "metadata": {
        "deletable": false,
        "editable": false,
        "nbgrader": {
          "cell_type": "code",
          "checksum": "77b73fcd17ac138c678b9c355259bb7f",
          "grade": false,
          "grade_id": "cell-33b45d559f48738f",
          "locked": true,
          "schema_version": 3,
          "solution": false
        },
        "id": "kMazx-yfdgbQ",
        "outputId": "088e4864-184f-43b9-e2fb-455fc327a515",
        "colab": {
          "base_uri": "https://localhost:8080/",
          "height": 35
        }
      },
      "source": [
        "y_train.shape"
      ],
      "execution_count": 6,
      "outputs": [
        {
          "output_type": "execute_result",
          "data": {
            "text/plain": [
              "(404,)"
            ]
          },
          "metadata": {
            "tags": []
          },
          "execution_count": 6
        }
      ]
    },
    {
      "cell_type": "code",
      "metadata": {
        "deletable": false,
        "editable": false,
        "nbgrader": {
          "cell_type": "code",
          "checksum": "f8d293a6e2d86c0ca74af9b20b395d2a",
          "grade": false,
          "grade_id": "cell-831e0268417ab95a",
          "locked": true,
          "schema_version": 3,
          "solution": false
        },
        "id": "p6VKmPs0dgbY",
        "outputId": "4e346de3-409b-4198-850e-86981465df09",
        "colab": {
          "base_uri": "https://localhost:8080/",
          "height": 35
        }
      },
      "source": [
        "y_train.mean(), y_train.std()"
      ],
      "execution_count": 7,
      "outputs": [
        {
          "output_type": "execute_result",
          "data": {
            "text/plain": [
              "(22.395049504950492, 9.199035423364862)"
            ]
          },
          "metadata": {
            "tags": []
          },
          "execution_count": 7
        }
      ]
    },
    {
      "cell_type": "markdown",
      "metadata": {
        "deletable": false,
        "editable": false,
        "nbgrader": {
          "cell_type": "markdown",
          "checksum": "014ebf37af531587765a98e35734641e",
          "grade": false,
          "grade_id": "cell-2f0fe3b3a560d952",
          "locked": true,
          "schema_version": 3,
          "solution": false
        },
        "id": "Z3G69Do4dgbf"
      },
      "source": [
        "The keras model consists of multiple parts:\n",
        "\n",
        "1. Construct the model layers, neurons per layer, activation function\n",
        "1. Determine the loss function, metrics and optimization method\n",
        "1. Fit the model to some data\n",
        "1. Evaluate the model using the same metric\n",
        "\n",
        "Some relevant docs:\n",
        " - [initializers](https://keras.io/initializers/)\n",
        " - [loss functions](https://www.tensorflow.org/api_docs/python/tf/keras/losses)\n",
        " - [regularizations](https://keras.io/regularizers/)\n",
        " - [optimizers](https://keras.io/optimizers/)\n",
        " - [metrics](https://www.tensorflow.org/api_docs/python/tf/keras/metrics)\n"
      ]
    },
    {
      "cell_type": "markdown",
      "metadata": {
        "deletable": false,
        "editable": false,
        "nbgrader": {
          "cell_type": "markdown",
          "checksum": "f3dd5f5299a0c880478d542d5ac8cea0",
          "grade": false,
          "grade_id": "cell-cae21934fa064b47",
          "locked": true,
          "schema_version": 3,
          "solution": false
        },
        "id": "JhM-4Hdydgbh"
      },
      "source": [
        "First, to construct a model, use the [Sequential](https://keras.io/getting-started/sequential-model-guide/) object. You can pass multiple layers to the sequential object. For this exercise, we will only be using the [Dense](https://keras.io/layers/core/#dense) layers."
      ]
    },
    {
      "cell_type": "code",
      "metadata": {
        "deletable": false,
        "nbgrader": {
          "cell_type": "code",
          "checksum": "30c401a9efed33c3b0c84047c730fd3a",
          "grade": false,
          "grade_id": "cell-51879de7032d8823",
          "locked": false,
          "schema_version": 3,
          "solution": true
        },
        "id": "KTxsdFnJdgbi",
        "outputId": "ccdc7725-8ca4-409f-a944-db448bc6d88b",
        "colab": {
          "base_uri": "https://localhost:8080/",
          "height": 35
        }
      },
      "source": [
        "# Create 3 hidden layers with 10 neurons each, and an output layer with 1 neuron. Store the layers\n",
        "# in a list with the variable name \"layers\". Pass the list to keras.Sequential and save the\n",
        "# retuned model to the variable name \"model\".\n",
        "#\n",
        "# Use any activation you like such as \"relu\" or \"tanh\", you can alternate for each layer\n",
        "# For your first run, try using the linear activation and then see if modifying the activations improved the result.\n",
        "# Optional - give each layer a name and see how that shows up in the summary.\n",
        "layers = [\n",
        "          Dense(10, activation=\"relu\", input_shape=(13,)),\n",
        "          Dense(10,activation=\"tanh\"),\n",
        "          Dense(10,activation=\"tanh\"),\n",
        "          Dense(1,activation=\"relu\"),\n",
        "]\n",
        "model = Sequential(layers=layers,)"
      ],
      "execution_count": 8,
      "outputs": [
        {
          "output_type": "stream",
          "text": [
            "[<tensorflow.python.keras.layers.core.Dense object at 0x7f82b7d43550>, <tensorflow.python.keras.layers.core.Dense object at 0x7f82b7d45b70>, <tensorflow.python.keras.layers.core.Dense object at 0x7f82b7d45dd8>, <tensorflow.python.keras.layers.core.Dense object at 0x7f82b7d460b8>]\n"
          ],
          "name": "stdout"
        }
      ]
    },
    {
      "cell_type": "code",
      "metadata": {
        "deletable": false,
        "editable": false,
        "nbgrader": {
          "cell_type": "code",
          "checksum": "be513e95dd1be407b5869167910389cc",
          "grade": true,
          "grade_id": "cell-ee74eff075f222ed",
          "locked": true,
          "points": 5,
          "schema_version": 3,
          "solution": false
        },
        "id": "X_cAo0Xfdgbn"
      },
      "source": [
        "assert isinstance(model, Sequential)\n",
        "assert len(layers) == 4\n",
        "for i,layer in enumerate(layers):\n",
        "    assert isinstance(layers[i], Dense) \n",
        "    assert layer.weights[1].shape == [10,10,10,1][i]"
      ],
      "execution_count": 9,
      "outputs": []
    },
    {
      "cell_type": "markdown",
      "metadata": {
        "id": "3IpA2Wp1dgbr"
      },
      "source": [
        "In TensorFlow, models are \"compiled\" before training. Compiling specifies the type of optimizer (e.g., gradient descent) and loss function, and creates code that will run efficiently on your hardware during training and model prediction.\n",
        "\n",
        "Review the models' .compile() methods to create code in the cell below.\n",
        "https://www.tensorflow.org/api_docs/python/tf/keras/Model#compile\n"
      ]
    },
    {
      "cell_type": "code",
      "metadata": {
        "deletable": false,
        "nbgrader": {
          "cell_type": "code",
          "checksum": "32893448483c519b62e7ceb898272725",
          "grade": false,
          "grade_id": "cell-9c5dcca57115d02a",
          "locked": false,
          "schema_version": 3,
          "solution": true
        },
        "id": "UDtkOqVndgbs"
      },
      "source": [
        "# Apply the model's .compile() method to set it up for training.\n",
        "\n",
        "# Set up the model to do the following:\n",
        "# - use stochastic gradient descent to fit the model\n",
        "# - use mean absolute error as its loss function\n",
        "# - use mean absolute error as one of its metrics\n",
        "# - use mean squared error as one of its metrics\n",
        "model.compile(optimizer=\"SGD\",loss=\"mean_absolute_error\",metrics=[\"mean_absolute_error\",\"mean_squared_error\"])"
      ],
      "execution_count": 17,
      "outputs": []
    },
    {
      "cell_type": "code",
      "metadata": {
        "deletable": false,
        "editable": false,
        "nbgrader": {
          "cell_type": "code",
          "checksum": "7834482fb4dcda0fbfd736e59ef85ab7",
          "grade": true,
          "grade_id": "cell-0746e29c34118826",
          "locked": true,
          "points": 5,
          "schema_version": 3,
          "solution": false
        },
        "id": "HBF2WT6sdgbx"
      },
      "source": [
        "assert isinstance(model.optimizer, keras.optimizers.SGD)\n",
        "assert model.loss in [\"mae\", \"mean_absolute_error\"]"
      ],
      "execution_count": 11,
      "outputs": []
    },
    {
      "cell_type": "code",
      "metadata": {
        "deletable": false,
        "editable": false,
        "nbgrader": {
          "cell_type": "code",
          "checksum": "dc613baef143a2dfc90e3ff7222be5e6",
          "grade": false,
          "grade_id": "cell-d8bbd77fa779d371",
          "locked": true,
          "schema_version": 3,
          "solution": false
        },
        "id": "2OD1V_nWdgb3",
        "outputId": "1a58f930-4c3e-4d83-fc21-69754bbcf3d9",
        "colab": {
          "base_uri": "https://localhost:8080/",
          "height": 1000
        }
      },
      "source": [
        "# Now fit the model\n",
        "model.fit(x_train, y_train, epochs=50)"
      ],
      "execution_count": 18,
      "outputs": [
        {
          "output_type": "stream",
          "text": [
            "Epoch 1/50\n",
            "13/13 [==============================] - 0s 2ms/step - loss: 8.0349 - mean_absolute_error: 8.0349 - mean_squared_error: 127.1114\n",
            "Epoch 2/50\n",
            "13/13 [==============================] - 0s 2ms/step - loss: 6.7053 - mean_absolute_error: 6.7053 - mean_squared_error: 90.1866\n",
            "Epoch 3/50\n",
            "13/13 [==============================] - 0s 2ms/step - loss: 6.3349 - mean_absolute_error: 6.3349 - mean_squared_error: 84.8057\n",
            "Epoch 4/50\n",
            "13/13 [==============================] - 0s 2ms/step - loss: 6.2545 - mean_absolute_error: 6.2545 - mean_squared_error: 82.4544\n",
            "Epoch 5/50\n",
            "13/13 [==============================] - 0s 2ms/step - loss: 6.4190 - mean_absolute_error: 6.4190 - mean_squared_error: 90.0047\n",
            "Epoch 6/50\n",
            "13/13 [==============================] - 0s 3ms/step - loss: 6.3640 - mean_absolute_error: 6.3640 - mean_squared_error: 81.3669\n",
            "Epoch 7/50\n",
            "13/13 [==============================] - 0s 3ms/step - loss: 5.8141 - mean_absolute_error: 5.8141 - mean_squared_error: 74.9417\n",
            "Epoch 8/50\n",
            "13/13 [==============================] - 0s 2ms/step - loss: 6.0685 - mean_absolute_error: 6.0685 - mean_squared_error: 76.7314\n",
            "Epoch 9/50\n",
            "13/13 [==============================] - 0s 2ms/step - loss: 5.9219 - mean_absolute_error: 5.9219 - mean_squared_error: 75.1886\n",
            "Epoch 10/50\n",
            "13/13 [==============================] - 0s 2ms/step - loss: 6.0416 - mean_absolute_error: 6.0416 - mean_squared_error: 79.0211\n",
            "Epoch 11/50\n",
            "13/13 [==============================] - 0s 2ms/step - loss: 5.9577 - mean_absolute_error: 5.9577 - mean_squared_error: 82.5319\n",
            "Epoch 12/50\n",
            "13/13 [==============================] - 0s 2ms/step - loss: 7.1157 - mean_absolute_error: 7.1157 - mean_squared_error: 107.9023\n",
            "Epoch 13/50\n",
            "13/13 [==============================] - 0s 2ms/step - loss: 7.0378 - mean_absolute_error: 7.0378 - mean_squared_error: 103.7831\n",
            "Epoch 14/50\n",
            "13/13 [==============================] - 0s 2ms/step - loss: 7.4496 - mean_absolute_error: 7.4496 - mean_squared_error: 112.3359\n",
            "Epoch 15/50\n",
            "13/13 [==============================] - 0s 2ms/step - loss: 6.6367 - mean_absolute_error: 6.6367 - mean_squared_error: 92.6232\n",
            "Epoch 16/50\n",
            "13/13 [==============================] - 0s 2ms/step - loss: 6.5550 - mean_absolute_error: 6.5550 - mean_squared_error: 90.0262\n",
            "Epoch 17/50\n",
            "13/13 [==============================] - 0s 2ms/step - loss: 6.5297 - mean_absolute_error: 6.5297 - mean_squared_error: 89.0411\n",
            "Epoch 18/50\n",
            "13/13 [==============================] - 0s 2ms/step - loss: 6.5174 - mean_absolute_error: 6.5174 - mean_squared_error: 88.2117\n",
            "Epoch 19/50\n",
            "13/13 [==============================] - 0s 2ms/step - loss: 6.5141 - mean_absolute_error: 6.5141 - mean_squared_error: 87.9450\n",
            "Epoch 20/50\n",
            "13/13 [==============================] - 0s 2ms/step - loss: 6.5134 - mean_absolute_error: 6.5134 - mean_squared_error: 87.5010\n",
            "Epoch 21/50\n",
            "13/13 [==============================] - 0s 2ms/step - loss: 6.5154 - mean_absolute_error: 6.5154 - mean_squared_error: 87.6811\n",
            "Epoch 22/50\n",
            "13/13 [==============================] - 0s 2ms/step - loss: 6.5151 - mean_absolute_error: 6.5151 - mean_squared_error: 87.5164\n",
            "Epoch 23/50\n",
            "13/13 [==============================] - 0s 2ms/step - loss: 6.5197 - mean_absolute_error: 6.5197 - mean_squared_error: 87.5542\n",
            "Epoch 24/50\n",
            "13/13 [==============================] - 0s 3ms/step - loss: 6.5152 - mean_absolute_error: 6.5152 - mean_squared_error: 87.5546\n",
            "Epoch 25/50\n",
            "13/13 [==============================] - 0s 2ms/step - loss: 6.5137 - mean_absolute_error: 6.5137 - mean_squared_error: 87.2748\n",
            "Epoch 26/50\n",
            "13/13 [==============================] - 0s 2ms/step - loss: 6.5156 - mean_absolute_error: 6.5156 - mean_squared_error: 87.1570\n",
            "Epoch 27/50\n",
            "13/13 [==============================] - 0s 2ms/step - loss: 6.5163 - mean_absolute_error: 6.5163 - mean_squared_error: 87.5907\n",
            "Epoch 28/50\n",
            "13/13 [==============================] - 0s 3ms/step - loss: 6.5146 - mean_absolute_error: 6.5146 - mean_squared_error: 87.5213\n",
            "Epoch 29/50\n",
            "13/13 [==============================] - 0s 3ms/step - loss: 6.5174 - mean_absolute_error: 6.5174 - mean_squared_error: 87.3976\n",
            "Epoch 30/50\n",
            "13/13 [==============================] - 0s 2ms/step - loss: 6.5137 - mean_absolute_error: 6.5137 - mean_squared_error: 87.2433\n",
            "Epoch 31/50\n",
            "13/13 [==============================] - 0s 2ms/step - loss: 6.5154 - mean_absolute_error: 6.5154 - mean_squared_error: 87.3747\n",
            "Epoch 32/50\n",
            "13/13 [==============================] - 0s 2ms/step - loss: 6.5165 - mean_absolute_error: 6.5165 - mean_squared_error: 87.2840\n",
            "Epoch 33/50\n",
            "13/13 [==============================] - 0s 3ms/step - loss: 6.5154 - mean_absolute_error: 6.5154 - mean_squared_error: 87.3815\n",
            "Epoch 34/50\n",
            "13/13 [==============================] - 0s 2ms/step - loss: 6.5172 - mean_absolute_error: 6.5172 - mean_squared_error: 87.1159\n",
            "Epoch 35/50\n",
            "13/13 [==============================] - 0s 2ms/step - loss: 6.5157 - mean_absolute_error: 6.5157 - mean_squared_error: 87.5514\n",
            "Epoch 36/50\n",
            "13/13 [==============================] - 0s 3ms/step - loss: 6.5148 - mean_absolute_error: 6.5148 - mean_squared_error: 87.3853\n",
            "Epoch 37/50\n",
            "13/13 [==============================] - 0s 3ms/step - loss: 6.5140 - mean_absolute_error: 6.5140 - mean_squared_error: 87.0410\n",
            "Epoch 38/50\n",
            "13/13 [==============================] - 0s 2ms/step - loss: 6.5138 - mean_absolute_error: 6.5138 - mean_squared_error: 87.2595\n",
            "Epoch 39/50\n",
            "13/13 [==============================] - 0s 2ms/step - loss: 6.5150 - mean_absolute_error: 6.5150 - mean_squared_error: 87.3851\n",
            "Epoch 40/50\n",
            "13/13 [==============================] - 0s 2ms/step - loss: 6.5145 - mean_absolute_error: 6.5145 - mean_squared_error: 87.4132\n",
            "Epoch 41/50\n",
            "13/13 [==============================] - 0s 2ms/step - loss: 6.5151 - mean_absolute_error: 6.5151 - mean_squared_error: 87.4964\n",
            "Epoch 42/50\n",
            "13/13 [==============================] - 0s 2ms/step - loss: 6.5139 - mean_absolute_error: 6.5139 - mean_squared_error: 87.4979\n",
            "Epoch 43/50\n",
            "13/13 [==============================] - 0s 2ms/step - loss: 6.5147 - mean_absolute_error: 6.5147 - mean_squared_error: 87.6020\n",
            "Epoch 44/50\n",
            "13/13 [==============================] - 0s 2ms/step - loss: 6.5147 - mean_absolute_error: 6.5147 - mean_squared_error: 87.2320\n",
            "Epoch 45/50\n",
            "13/13 [==============================] - 0s 2ms/step - loss: 6.5151 - mean_absolute_error: 6.5151 - mean_squared_error: 87.1580\n",
            "Epoch 46/50\n",
            "13/13 [==============================] - 0s 2ms/step - loss: 6.5137 - mean_absolute_error: 6.5137 - mean_squared_error: 87.3127\n",
            "Epoch 47/50\n",
            "13/13 [==============================] - 0s 2ms/step - loss: 6.5142 - mean_absolute_error: 6.5142 - mean_squared_error: 87.2998\n",
            "Epoch 48/50\n",
            "13/13 [==============================] - 0s 2ms/step - loss: 6.5159 - mean_absolute_error: 6.5159 - mean_squared_error: 87.2018\n",
            "Epoch 49/50\n",
            "13/13 [==============================] - 0s 2ms/step - loss: 6.5143 - mean_absolute_error: 6.5143 - mean_squared_error: 87.2641\n",
            "Epoch 50/50\n",
            "13/13 [==============================] - 0s 3ms/step - loss: 6.5139 - mean_absolute_error: 6.5139 - mean_squared_error: 87.2644\n"
          ],
          "name": "stdout"
        },
        {
          "output_type": "execute_result",
          "data": {
            "text/plain": [
              "<tensorflow.python.keras.callbacks.History at 0x7f8216518d30>"
            ]
          },
          "metadata": {
            "tags": []
          },
          "execution_count": 18
        }
      ]
    },
    {
      "cell_type": "code",
      "metadata": {
        "id": "H-j5U5Jtdgb8",
        "outputId": "9251f153-36b3-4592-ae48-28a580ef030c",
        "colab": {
          "base_uri": "https://localhost:8080/",
          "height": 311
        }
      },
      "source": [
        "model.summary()"
      ],
      "execution_count": 24,
      "outputs": [
        {
          "output_type": "stream",
          "text": [
            "Model: \"sequential_9\"\n",
            "_________________________________________________________________\n",
            "Layer (type)                 Output Shape              Param #   \n",
            "=================================================================\n",
            "dense_35 (Dense)             (None, 10)                140       \n",
            "_________________________________________________________________\n",
            "dense_36 (Dense)             (None, 10)                110       \n",
            "_________________________________________________________________\n",
            "dense_37 (Dense)             (None, 10)                110       \n",
            "_________________________________________________________________\n",
            "dense_38 (Dense)             (None, 1)                 11        \n",
            "=================================================================\n",
            "Total params: 371\n",
            "Trainable params: 371\n",
            "Non-trainable params: 0\n",
            "_________________________________________________________________\n"
          ],
          "name": "stdout"
        }
      ]
    },
    {
      "cell_type": "code",
      "metadata": {
        "deletable": false,
        "editable": false,
        "nbgrader": {
          "cell_type": "code",
          "checksum": "5979703b794f01a2821f23e974076f93",
          "grade": false,
          "grade_id": "cell-d280c00c6cabc586",
          "locked": true,
          "schema_version": 3,
          "solution": false
        },
        "id": "sljqC4QAdgcA",
        "outputId": "d26caa1a-7826-40ee-e153-4fd8627fb992",
        "colab": {
          "base_uri": "https://localhost:8080/",
          "height": 54
        }
      },
      "source": [
        "# Here we can evaluate how our model does based on the test data\n",
        "model.evaluate(x_test, y_test)"
      ],
      "execution_count": 25,
      "outputs": [
        {
          "output_type": "stream",
          "text": [
            "4/4 [==============================] - 0s 2ms/step - loss: 6.6756 - mean_absolute_error: 6.6756 - mean_squared_error: 88.9621\n"
          ],
          "name": "stdout"
        },
        {
          "output_type": "execute_result",
          "data": {
            "text/plain": [
              "[6.675572395324707, 6.675572395324707, 88.9620590209961]"
            ]
          },
          "metadata": {
            "tags": []
          },
          "execution_count": 25
        }
      ]
    },
    {
      "cell_type": "markdown",
      "metadata": {
        "deletable": false,
        "editable": false,
        "nbgrader": {
          "cell_type": "markdown",
          "checksum": "326bc26a2d582914d7afc0a6aef3f52a",
          "grade": false,
          "grade_id": "cell-f88eeeebe2137b4d",
          "locked": true,
          "schema_version": 3,
          "solution": false
        },
        "id": "k4ie8F9wdgcH"
      },
      "source": [
        "Now let's try another optimizer instead of stochastic gradient descent (SGD). [Adam](https://keras.io/optimizers/#adam) is the recommended default for training neural networks since it usually performs quite well. In the next cell, compile the model with Adam instead of SGD and use the same loss and metrics. After compiling, fit the data for as many epochs as you think it takes to see the value start to converge."
      ]
    },
    {
      "cell_type": "code",
      "metadata": {
        "deletable": false,
        "nbgrader": {
          "cell_type": "code",
          "checksum": "ebe7f5ae7c9c23c466944038b6a4ff39",
          "grade": false,
          "grade_id": "cell-bee688f3d919be61",
          "locked": false,
          "schema_version": 3,
          "solution": true
        },
        "id": "klw1dn-cdgcI",
        "outputId": "59678d7f-9028-42ab-99df-d0391d7506ce",
        "colab": {
          "base_uri": "https://localhost:8080/",
          "height": 1000
        }
      },
      "source": [
        "# Compile the model using Adam\n",
        "model.compile(optimizer=\"adam\",loss=\"mean_absolute_error\",metrics=[\"mean_absolute_error\",\"mean_squared_error\"])\n",
        "model.fit(x_train, y_train, epochs=300)"
      ],
      "execution_count": 13,
      "outputs": [
        {
          "output_type": "stream",
          "text": [
            "Epoch 1/100\n",
            "13/13 [==============================] - 0s 2ms/step - loss: 5.3477 - mean_absolute_error: 5.3477 - mean_squared_error: 68.6760\n",
            "Epoch 2/100\n",
            "13/13 [==============================] - 0s 3ms/step - loss: 5.2417 - mean_absolute_error: 5.2417 - mean_squared_error: 67.9041\n",
            "Epoch 3/100\n",
            "13/13 [==============================] - 0s 2ms/step - loss: 5.2263 - mean_absolute_error: 5.2263 - mean_squared_error: 68.2054\n",
            "Epoch 4/100\n",
            "13/13 [==============================] - 0s 2ms/step - loss: 5.2729 - mean_absolute_error: 5.2729 - mean_squared_error: 68.7377\n",
            "Epoch 5/100\n",
            "13/13 [==============================] - 0s 3ms/step - loss: 5.2539 - mean_absolute_error: 5.2539 - mean_squared_error: 68.3175\n",
            "Epoch 6/100\n",
            "13/13 [==============================] - 0s 2ms/step - loss: 5.3401 - mean_absolute_error: 5.3401 - mean_squared_error: 68.6128\n",
            "Epoch 7/100\n",
            "13/13 [==============================] - 0s 3ms/step - loss: 5.2597 - mean_absolute_error: 5.2597 - mean_squared_error: 68.3690\n",
            "Epoch 8/100\n",
            "13/13 [==============================] - 0s 2ms/step - loss: 5.2568 - mean_absolute_error: 5.2568 - mean_squared_error: 68.4863\n",
            "Epoch 9/100\n",
            "13/13 [==============================] - 0s 2ms/step - loss: 5.3130 - mean_absolute_error: 5.3130 - mean_squared_error: 68.6659\n",
            "Epoch 10/100\n",
            "13/13 [==============================] - 0s 3ms/step - loss: 5.3793 - mean_absolute_error: 5.3793 - mean_squared_error: 68.2238\n",
            "Epoch 11/100\n",
            "13/13 [==============================] - 0s 3ms/step - loss: 5.3990 - mean_absolute_error: 5.3990 - mean_squared_error: 67.6635\n",
            "Epoch 12/100\n",
            "13/13 [==============================] - 0s 2ms/step - loss: 5.4332 - mean_absolute_error: 5.4332 - mean_squared_error: 67.5756\n",
            "Epoch 13/100\n",
            "13/13 [==============================] - 0s 2ms/step - loss: 5.3749 - mean_absolute_error: 5.3749 - mean_squared_error: 67.6016\n",
            "Epoch 14/100\n",
            "13/13 [==============================] - 0s 2ms/step - loss: 5.3729 - mean_absolute_error: 5.3729 - mean_squared_error: 68.2256\n",
            "Epoch 15/100\n",
            "13/13 [==============================] - 0s 2ms/step - loss: 5.3541 - mean_absolute_error: 5.3541 - mean_squared_error: 68.6610\n",
            "Epoch 16/100\n",
            "13/13 [==============================] - 0s 2ms/step - loss: 5.3447 - mean_absolute_error: 5.3447 - mean_squared_error: 69.0580\n",
            "Epoch 17/100\n",
            "13/13 [==============================] - 0s 3ms/step - loss: 5.3217 - mean_absolute_error: 5.3217 - mean_squared_error: 69.2997\n",
            "Epoch 18/100\n",
            "13/13 [==============================] - 0s 2ms/step - loss: 5.3137 - mean_absolute_error: 5.3137 - mean_squared_error: 68.7851\n",
            "Epoch 19/100\n",
            "13/13 [==============================] - 0s 2ms/step - loss: 5.3172 - mean_absolute_error: 5.3172 - mean_squared_error: 69.1960\n",
            "Epoch 20/100\n",
            "13/13 [==============================] - 0s 2ms/step - loss: 5.3076 - mean_absolute_error: 5.3076 - mean_squared_error: 68.2769\n",
            "Epoch 21/100\n",
            "13/13 [==============================] - 0s 2ms/step - loss: 5.4460 - mean_absolute_error: 5.4460 - mean_squared_error: 68.5242\n",
            "Epoch 22/100\n",
            "13/13 [==============================] - 0s 2ms/step - loss: 5.3365 - mean_absolute_error: 5.3365 - mean_squared_error: 68.1102\n",
            "Epoch 23/100\n",
            "13/13 [==============================] - 0s 2ms/step - loss: 5.3156 - mean_absolute_error: 5.3156 - mean_squared_error: 71.6610\n",
            "Epoch 24/100\n",
            "13/13 [==============================] - 0s 2ms/step - loss: 5.3078 - mean_absolute_error: 5.3078 - mean_squared_error: 71.5068\n",
            "Epoch 25/100\n",
            "13/13 [==============================] - 0s 2ms/step - loss: 5.2866 - mean_absolute_error: 5.2866 - mean_squared_error: 70.6724\n",
            "Epoch 26/100\n",
            "13/13 [==============================] - 0s 2ms/step - loss: 5.2691 - mean_absolute_error: 5.2691 - mean_squared_error: 69.7740\n",
            "Epoch 27/100\n",
            "13/13 [==============================] - 0s 2ms/step - loss: 5.2570 - mean_absolute_error: 5.2570 - mean_squared_error: 69.6015\n",
            "Epoch 28/100\n",
            "13/13 [==============================] - 0s 2ms/step - loss: 5.2351 - mean_absolute_error: 5.2351 - mean_squared_error: 68.9168\n",
            "Epoch 29/100\n",
            "13/13 [==============================] - 0s 2ms/step - loss: 5.2286 - mean_absolute_error: 5.2286 - mean_squared_error: 68.9274\n",
            "Epoch 30/100\n",
            "13/13 [==============================] - 0s 2ms/step - loss: 5.2020 - mean_absolute_error: 5.2020 - mean_squared_error: 68.6492\n",
            "Epoch 31/100\n",
            "13/13 [==============================] - 0s 3ms/step - loss: 5.1987 - mean_absolute_error: 5.1987 - mean_squared_error: 68.7559\n",
            "Epoch 32/100\n",
            "13/13 [==============================] - 0s 2ms/step - loss: 5.1170 - mean_absolute_error: 5.1170 - mean_squared_error: 67.3738\n",
            "Epoch 33/100\n",
            "13/13 [==============================] - 0s 2ms/step - loss: 5.1044 - mean_absolute_error: 5.1044 - mean_squared_error: 68.2156\n",
            "Epoch 34/100\n",
            "13/13 [==============================] - 0s 2ms/step - loss: 5.0609 - mean_absolute_error: 5.0609 - mean_squared_error: 67.7359\n",
            "Epoch 35/100\n",
            "13/13 [==============================] - 0s 2ms/step - loss: 5.1334 - mean_absolute_error: 5.1334 - mean_squared_error: 69.2623\n",
            "Epoch 36/100\n",
            "13/13 [==============================] - 0s 2ms/step - loss: 5.1213 - mean_absolute_error: 5.1213 - mean_squared_error: 69.1043\n",
            "Epoch 37/100\n",
            "13/13 [==============================] - 0s 2ms/step - loss: 5.1129 - mean_absolute_error: 5.1129 - mean_squared_error: 68.6745\n",
            "Epoch 38/100\n",
            "13/13 [==============================] - 0s 2ms/step - loss: 5.1066 - mean_absolute_error: 5.1066 - mean_squared_error: 68.3812\n",
            "Epoch 39/100\n",
            "13/13 [==============================] - 0s 2ms/step - loss: 5.0838 - mean_absolute_error: 5.0838 - mean_squared_error: 68.0111\n",
            "Epoch 40/100\n",
            "13/13 [==============================] - 0s 2ms/step - loss: 5.0206 - mean_absolute_error: 5.0206 - mean_squared_error: 66.5191\n",
            "Epoch 41/100\n",
            "13/13 [==============================] - 0s 2ms/step - loss: 5.0016 - mean_absolute_error: 5.0016 - mean_squared_error: 64.9369\n",
            "Epoch 42/100\n",
            "13/13 [==============================] - 0s 2ms/step - loss: 5.0010 - mean_absolute_error: 5.0010 - mean_squared_error: 63.7212\n",
            "Epoch 43/100\n",
            "13/13 [==============================] - 0s 2ms/step - loss: 5.0646 - mean_absolute_error: 5.0646 - mean_squared_error: 64.7318\n",
            "Epoch 44/100\n",
            "13/13 [==============================] - 0s 3ms/step - loss: 4.9478 - mean_absolute_error: 4.9478 - mean_squared_error: 64.9775\n",
            "Epoch 45/100\n",
            "13/13 [==============================] - 0s 2ms/step - loss: 4.8804 - mean_absolute_error: 4.8804 - mean_squared_error: 65.3099\n",
            "Epoch 46/100\n",
            "13/13 [==============================] - 0s 2ms/step - loss: 4.8660 - mean_absolute_error: 4.8660 - mean_squared_error: 64.9009\n",
            "Epoch 47/100\n",
            "13/13 [==============================] - 0s 2ms/step - loss: 4.8858 - mean_absolute_error: 4.8858 - mean_squared_error: 65.6206\n",
            "Epoch 48/100\n",
            "13/13 [==============================] - 0s 2ms/step - loss: 4.8529 - mean_absolute_error: 4.8529 - mean_squared_error: 64.2668\n",
            "Epoch 49/100\n",
            "13/13 [==============================] - 0s 2ms/step - loss: 4.7975 - mean_absolute_error: 4.7975 - mean_squared_error: 63.7877\n",
            "Epoch 50/100\n",
            "13/13 [==============================] - 0s 2ms/step - loss: 4.8362 - mean_absolute_error: 4.8362 - mean_squared_error: 63.5248\n",
            "Epoch 51/100\n",
            "13/13 [==============================] - 0s 2ms/step - loss: 4.8003 - mean_absolute_error: 4.8003 - mean_squared_error: 63.7667\n",
            "Epoch 52/100\n",
            "13/13 [==============================] - 0s 2ms/step - loss: 4.7772 - mean_absolute_error: 4.7772 - mean_squared_error: 63.8811\n",
            "Epoch 53/100\n",
            "13/13 [==============================] - 0s 3ms/step - loss: 4.7763 - mean_absolute_error: 4.7763 - mean_squared_error: 61.7222\n",
            "Epoch 54/100\n",
            "13/13 [==============================] - 0s 3ms/step - loss: 4.8092 - mean_absolute_error: 4.8092 - mean_squared_error: 62.0456\n",
            "Epoch 55/100\n",
            "13/13 [==============================] - 0s 2ms/step - loss: 4.7416 - mean_absolute_error: 4.7416 - mean_squared_error: 62.1921\n",
            "Epoch 56/100\n",
            "13/13 [==============================] - 0s 2ms/step - loss: 4.7922 - mean_absolute_error: 4.7922 - mean_squared_error: 62.3359\n",
            "Epoch 57/100\n",
            "13/13 [==============================] - 0s 2ms/step - loss: 4.7294 - mean_absolute_error: 4.7294 - mean_squared_error: 63.0672\n",
            "Epoch 58/100\n",
            "13/13 [==============================] - 0s 2ms/step - loss: 4.7101 - mean_absolute_error: 4.7101 - mean_squared_error: 62.2136\n",
            "Epoch 59/100\n",
            "13/13 [==============================] - 0s 2ms/step - loss: 4.7382 - mean_absolute_error: 4.7382 - mean_squared_error: 61.1343\n",
            "Epoch 60/100\n",
            "13/13 [==============================] - 0s 2ms/step - loss: 4.7281 - mean_absolute_error: 4.7281 - mean_squared_error: 60.3740\n",
            "Epoch 61/100\n",
            "13/13 [==============================] - 0s 2ms/step - loss: 4.7382 - mean_absolute_error: 4.7382 - mean_squared_error: 62.4105\n",
            "Epoch 62/100\n",
            "13/13 [==============================] - 0s 2ms/step - loss: 4.7176 - mean_absolute_error: 4.7176 - mean_squared_error: 61.9485\n",
            "Epoch 63/100\n",
            "13/13 [==============================] - 0s 2ms/step - loss: 4.8554 - mean_absolute_error: 4.8554 - mean_squared_error: 61.0797\n",
            "Epoch 64/100\n",
            "13/13 [==============================] - 0s 2ms/step - loss: 4.8244 - mean_absolute_error: 4.8244 - mean_squared_error: 61.8710\n",
            "Epoch 65/100\n",
            "13/13 [==============================] - 0s 2ms/step - loss: 4.7504 - mean_absolute_error: 4.7504 - mean_squared_error: 61.5309\n",
            "Epoch 66/100\n",
            "13/13 [==============================] - 0s 2ms/step - loss: 4.7804 - mean_absolute_error: 4.7804 - mean_squared_error: 61.7963\n",
            "Epoch 67/100\n",
            "13/13 [==============================] - 0s 2ms/step - loss: 4.7404 - mean_absolute_error: 4.7404 - mean_squared_error: 60.6323\n",
            "Epoch 68/100\n",
            "13/13 [==============================] - 0s 3ms/step - loss: 4.8547 - mean_absolute_error: 4.8547 - mean_squared_error: 61.7044\n",
            "Epoch 69/100\n",
            "13/13 [==============================] - 0s 3ms/step - loss: 4.8871 - mean_absolute_error: 4.8871 - mean_squared_error: 63.2578\n",
            "Epoch 70/100\n",
            "13/13 [==============================] - 0s 3ms/step - loss: 5.0326 - mean_absolute_error: 5.0326 - mean_squared_error: 67.0997\n",
            "Epoch 71/100\n",
            "13/13 [==============================] - 0s 2ms/step - loss: 4.9439 - mean_absolute_error: 4.9439 - mean_squared_error: 63.0423\n",
            "Epoch 72/100\n",
            "13/13 [==============================] - 0s 2ms/step - loss: 4.7231 - mean_absolute_error: 4.7231 - mean_squared_error: 61.1890\n",
            "Epoch 73/100\n",
            "13/13 [==============================] - 0s 2ms/step - loss: 4.7263 - mean_absolute_error: 4.7263 - mean_squared_error: 61.2681\n",
            "Epoch 74/100\n",
            "13/13 [==============================] - 0s 2ms/step - loss: 4.8937 - mean_absolute_error: 4.8937 - mean_squared_error: 61.1152\n",
            "Epoch 75/100\n",
            "13/13 [==============================] - 0s 3ms/step - loss: 4.8066 - mean_absolute_error: 4.8066 - mean_squared_error: 61.3932\n",
            "Epoch 76/100\n",
            "13/13 [==============================] - 0s 2ms/step - loss: 4.7373 - mean_absolute_error: 4.7373 - mean_squared_error: 61.5971\n",
            "Epoch 77/100\n",
            "13/13 [==============================] - 0s 2ms/step - loss: 4.7353 - mean_absolute_error: 4.7353 - mean_squared_error: 61.4276\n",
            "Epoch 78/100\n",
            "13/13 [==============================] - 0s 2ms/step - loss: 4.7248 - mean_absolute_error: 4.7248 - mean_squared_error: 60.9398\n",
            "Epoch 79/100\n",
            "13/13 [==============================] - 0s 3ms/step - loss: 4.7508 - mean_absolute_error: 4.7508 - mean_squared_error: 60.8266\n",
            "Epoch 80/100\n",
            "13/13 [==============================] - 0s 2ms/step - loss: 4.7375 - mean_absolute_error: 4.7375 - mean_squared_error: 61.9547\n",
            "Epoch 81/100\n",
            "13/13 [==============================] - 0s 2ms/step - loss: 4.7013 - mean_absolute_error: 4.7013 - mean_squared_error: 61.7621\n",
            "Epoch 82/100\n",
            "13/13 [==============================] - 0s 2ms/step - loss: 4.7320 - mean_absolute_error: 4.7320 - mean_squared_error: 60.3954\n",
            "Epoch 83/100\n",
            "13/13 [==============================] - 0s 2ms/step - loss: 4.7297 - mean_absolute_error: 4.7297 - mean_squared_error: 60.7316\n",
            "Epoch 84/100\n",
            "13/13 [==============================] - 0s 2ms/step - loss: 4.7281 - mean_absolute_error: 4.7281 - mean_squared_error: 60.9570\n",
            "Epoch 85/100\n",
            "13/13 [==============================] - 0s 2ms/step - loss: 4.7590 - mean_absolute_error: 4.7590 - mean_squared_error: 61.2078\n",
            "Epoch 86/100\n",
            "13/13 [==============================] - 0s 2ms/step - loss: 4.7181 - mean_absolute_error: 4.7181 - mean_squared_error: 60.9349\n",
            "Epoch 87/100\n",
            "13/13 [==============================] - 0s 3ms/step - loss: 4.7173 - mean_absolute_error: 4.7173 - mean_squared_error: 60.7711\n",
            "Epoch 88/100\n",
            "13/13 [==============================] - 0s 3ms/step - loss: 4.7093 - mean_absolute_error: 4.7093 - mean_squared_error: 60.6196\n",
            "Epoch 89/100\n",
            "13/13 [==============================] - 0s 3ms/step - loss: 4.8014 - mean_absolute_error: 4.8014 - mean_squared_error: 63.7697\n",
            "Epoch 90/100\n",
            "13/13 [==============================] - 0s 2ms/step - loss: 4.8044 - mean_absolute_error: 4.8044 - mean_squared_error: 62.3320\n",
            "Epoch 91/100\n",
            "13/13 [==============================] - 0s 2ms/step - loss: 4.6771 - mean_absolute_error: 4.6771 - mean_squared_error: 59.2741\n",
            "Epoch 92/100\n",
            "13/13 [==============================] - 0s 2ms/step - loss: 4.6969 - mean_absolute_error: 4.6969 - mean_squared_error: 60.8852\n",
            "Epoch 93/100\n",
            "13/13 [==============================] - 0s 2ms/step - loss: 4.7068 - mean_absolute_error: 4.7068 - mean_squared_error: 61.2217\n",
            "Epoch 94/100\n",
            "13/13 [==============================] - 0s 3ms/step - loss: 4.6926 - mean_absolute_error: 4.6926 - mean_squared_error: 60.1830\n",
            "Epoch 95/100\n",
            "13/13 [==============================] - 0s 3ms/step - loss: 4.7358 - mean_absolute_error: 4.7358 - mean_squared_error: 61.7357\n",
            "Epoch 96/100\n",
            "13/13 [==============================] - 0s 3ms/step - loss: 4.6783 - mean_absolute_error: 4.6783 - mean_squared_error: 60.0823\n",
            "Epoch 97/100\n",
            "13/13 [==============================] - 0s 3ms/step - loss: 4.6837 - mean_absolute_error: 4.6837 - mean_squared_error: 60.5406\n",
            "Epoch 98/100\n",
            "13/13 [==============================] - 0s 2ms/step - loss: 4.7748 - mean_absolute_error: 4.7748 - mean_squared_error: 61.6198\n",
            "Epoch 99/100\n",
            "13/13 [==============================] - 0s 2ms/step - loss: 4.6998 - mean_absolute_error: 4.6998 - mean_squared_error: 59.8068\n",
            "Epoch 100/100\n",
            "13/13 [==============================] - 0s 2ms/step - loss: 4.7064 - mean_absolute_error: 4.7064 - mean_squared_error: 60.1614\n"
          ],
          "name": "stdout"
        },
        {
          "output_type": "execute_result",
          "data": {
            "text/plain": [
              "<tensorflow.python.keras.callbacks.History at 0x7f82874dd470>"
            ]
          },
          "metadata": {
            "tags": []
          },
          "execution_count": 13
        }
      ]
    },
    {
      "cell_type": "code",
      "metadata": {
        "id": "RdWa9EO3dgcN",
        "outputId": "294bd5e1-9e4f-4383-e441-f36b5b2845b9",
        "colab": {
          "base_uri": "https://localhost:8080/",
          "height": 311
        }
      },
      "source": [
        "model.summary()"
      ],
      "execution_count": 14,
      "outputs": [
        {
          "output_type": "stream",
          "text": [
            "Model: \"sequential\"\n",
            "_________________________________________________________________\n",
            "Layer (type)                 Output Shape              Param #   \n",
            "=================================================================\n",
            "dense (Dense)                (None, 10)                140       \n",
            "_________________________________________________________________\n",
            "dense_1 (Dense)              (None, 10)                110       \n",
            "_________________________________________________________________\n",
            "dense_2 (Dense)              (None, 10)                110       \n",
            "_________________________________________________________________\n",
            "dense_3 (Dense)              (None, 1)                 11        \n",
            "=================================================================\n",
            "Total params: 371\n",
            "Trainable params: 371\n",
            "Non-trainable params: 0\n",
            "_________________________________________________________________\n"
          ],
          "name": "stdout"
        }
      ]
    },
    {
      "cell_type": "code",
      "metadata": {
        "deletable": false,
        "editable": false,
        "nbgrader": {
          "cell_type": "code",
          "checksum": "526079ba3785fa572cc21eb9fd5fb7af",
          "grade": true,
          "grade_id": "cell-fe8cd91b8b780964",
          "locked": true,
          "points": 5,
          "schema_version": 3,
          "solution": false
        },
        "id": "7E2FDPnadgcS"
      },
      "source": [
        "assert isinstance(model.optimizer, keras.optimizers.Adam)\n",
        "assert model.loss in [\"mae\", \"mean_absolute_error\"]"
      ],
      "execution_count": 15,
      "outputs": []
    },
    {
      "cell_type": "code",
      "metadata": {
        "deletable": false,
        "editable": false,
        "nbgrader": {
          "cell_type": "code",
          "checksum": "7c0fd9f800dd0097d1fc6f8f231066ff",
          "grade": false,
          "grade_id": "cell-d5b63d6e873e152e",
          "locked": true,
          "schema_version": 3,
          "solution": false
        },
        "id": "Zp8hFHsWdgcV",
        "outputId": "5ea99fbb-140d-40c1-c1f9-f4dedf6ca5e4",
        "colab": {
          "base_uri": "https://localhost:8080/",
          "height": 54
        }
      },
      "source": [
        "model.evaluate(x_test, y_test)"
      ],
      "execution_count": 16,
      "outputs": [
        {
          "output_type": "stream",
          "text": [
            "4/4 [==============================] - 0s 2ms/step - loss: 5.3034 - mean_absolute_error: 5.3034 - mean_squared_error: 60.8500\n"
          ],
          "name": "stdout"
        },
        {
          "output_type": "execute_result",
          "data": {
            "text/plain": [
              "[5.303440570831299, 5.303440570831299, 60.850006103515625]"
            ]
          },
          "metadata": {
            "tags": []
          },
          "execution_count": 16
        }
      ]
    },
    {
      "cell_type": "markdown",
      "metadata": {
        "deletable": false,
        "editable": false,
        "nbgrader": {
          "cell_type": "markdown",
          "checksum": "6259b7620b4b9cdb901c2488bd8ca929",
          "grade": false,
          "grade_id": "cell-9ce06e7b86737575",
          "locked": true,
          "schema_version": 3,
          "solution": false
        },
        "id": "DBqlkT9Mdgca"
      },
      "source": [
        "Now recreate the model with dropout layers. Add two dropout layers, one after the first layers of neurons and one after the second layer of neurons.\n",
        "You may use your existing ```layers``` list and insert the new layers, or create a new list of layers from scratch. Then construct the model as before.\n",
        "Select a low value of dropout (say, <0.1) that results in a good score."
      ]
    },
    {
      "cell_type": "code",
      "metadata": {
        "deletable": false,
        "nbgrader": {
          "cell_type": "code",
          "checksum": "ca42da446de9cd5ef51379f0974f9f3b",
          "grade": false,
          "grade_id": "cell-d5040e44398f8dc9",
          "locked": false,
          "schema_version": 3,
          "solution": true
        },
        "id": "3PrZW7GCdgca"
      },
      "source": [
        "layers = [\n",
        "          Dense(10, activation=\"relu\", input_shape=(13,)),\n",
        "          Dropout(rate=.08),\n",
        "          Dense(10,activation=\"tanh\"),\n",
        "          Dropout(rate=.08),\n",
        "          Dense(10,activation=\"tanh\"),\n",
        "          Dense(1,activation=\"relu\"),\n",
        "]\n",
        "model = Sequential(layers=layers,)"
      ],
      "execution_count": 19,
      "outputs": []
    },
    {
      "cell_type": "code",
      "metadata": {
        "deletable": false,
        "editable": false,
        "nbgrader": {
          "cell_type": "code",
          "checksum": "721a17ce3e9c60bb177460e91fb5dbf9",
          "grade": true,
          "grade_id": "cell-b6c7e6e2ddc6742a",
          "locked": true,
          "points": 5,
          "schema_version": 3,
          "solution": false
        },
        "id": "EqT5-q7Ldgce"
      },
      "source": [
        "assert len(layers) == 6\n",
        "assert isinstance(layers[1], Dropout)\n",
        "assert isinstance(layers[3], Dropout)\n",
        "for i,layer in enumerate(layers):\n",
        "    if i not in [1,3]:\n",
        "        assert isinstance(layers[i], keras.layers.Dense) \n",
        "        assert layer.weights[1].shape == [10,0,10,0,10,1][i]"
      ],
      "execution_count": 20,
      "outputs": []
    },
    {
      "cell_type": "code",
      "metadata": {
        "deletable": false,
        "editable": false,
        "nbgrader": {
          "cell_type": "code",
          "checksum": "f9966c8415ea47dd929702ca4e9e962d",
          "grade": false,
          "grade_id": "cell-6179f8d29fe18a67",
          "locked": true,
          "schema_version": 3,
          "solution": false
        },
        "id": "6iYStEpddgch",
        "outputId": "62f0e729-b804-4d9d-984d-dc09c8317bc4",
        "colab": {
          "base_uri": "https://localhost:8080/",
          "height": 384
        }
      },
      "source": [
        "model.compile(optimizer='adam', loss='mae', metrics=['mae', \"mse\"])\n",
        "model.fit(x_train, y_train, epochs=500, verbose=0)\n",
        "model.summary()"
      ],
      "execution_count": 21,
      "outputs": [
        {
          "output_type": "stream",
          "text": [
            "Model: \"sequential_1\"\n",
            "_________________________________________________________________\n",
            "Layer (type)                 Output Shape              Param #   \n",
            "=================================================================\n",
            "dense_4 (Dense)              (None, 10)                140       \n",
            "_________________________________________________________________\n",
            "dropout (Dropout)            (None, 10)                0         \n",
            "_________________________________________________________________\n",
            "dense_5 (Dense)              (None, 10)                110       \n",
            "_________________________________________________________________\n",
            "dropout_1 (Dropout)          (None, 10)                0         \n",
            "_________________________________________________________________\n",
            "dense_6 (Dense)              (None, 10)                110       \n",
            "_________________________________________________________________\n",
            "dense_7 (Dense)              (None, 1)                 11        \n",
            "=================================================================\n",
            "Total params: 371\n",
            "Trainable params: 371\n",
            "Non-trainable params: 0\n",
            "_________________________________________________________________\n"
          ],
          "name": "stdout"
        }
      ]
    },
    {
      "cell_type": "code",
      "metadata": {
        "deletable": false,
        "editable": false,
        "nbgrader": {
          "cell_type": "code",
          "checksum": "fb0913cba0c0963d9bbea2016ac4f5b3",
          "grade": false,
          "grade_id": "cell-9ed3ec168ee4a1e5",
          "locked": true,
          "schema_version": 3,
          "solution": false
        },
        "id": "Teig45XTdgcm",
        "outputId": "cb8d4aa4-365a-46f0-d2d7-25ff5d175bc3",
        "colab": {
          "base_uri": "https://localhost:8080/",
          "height": 54
        }
      },
      "source": [
        "model.evaluate(x_test, y_test)"
      ],
      "execution_count": 22,
      "outputs": [
        {
          "output_type": "stream",
          "text": [
            "4/4 [==============================] - 0s 2ms/step - loss: 5.4943 - mae: 5.4943 - mse: 60.3539\n"
          ],
          "name": "stdout"
        },
        {
          "output_type": "execute_result",
          "data": {
            "text/plain": [
              "[5.49431037902832, 5.49431037902832, 60.353885650634766]"
            ]
          },
          "metadata": {
            "tags": []
          },
          "execution_count": 22
        }
      ]
    },
    {
      "cell_type": "markdown",
      "metadata": {
        "deletable": false,
        "editable": false,
        "nbgrader": {
          "cell_type": "markdown",
          "checksum": "92cd81b54e6431d104554eef1db546f4",
          "grade": false,
          "grade_id": "cell-06909b3cd0248748",
          "locked": true,
          "schema_version": 3,
          "solution": false
        },
        "id": "yRLy1Bmadgcq"
      },
      "source": [
        "Select a dropout rate that gets an okay score."
      ]
    },
    {
      "cell_type": "code",
      "metadata": {
        "deletable": false,
        "editable": false,
        "nbgrader": {
          "cell_type": "code",
          "checksum": "481af2c92de02457e006cf2856c16c17",
          "grade": true,
          "grade_id": "cell-538bede4947fe364",
          "locked": true,
          "points": 0,
          "schema_version": 3,
          "solution": false
        },
        "id": "Ni2Sxa42dgcr",
        "outputId": "c3db2107-1173-4a97-bd1a-cb29a377e6c1",
        "colab": {
          "base_uri": "https://localhost:8080/",
          "height": 35
        }
      },
      "source": [
        "assert model.evaluate(x_test, y_test)[0] < 7"
      ],
      "execution_count": 23,
      "outputs": [
        {
          "output_type": "stream",
          "text": [
            "4/4 [==============================] - 0s 2ms/step - loss: 5.4943 - mae: 5.4943 - mse: 60.3539\n"
          ],
          "name": "stdout"
        }
      ]
    },
    {
      "cell_type": "markdown",
      "metadata": {
        "deletable": false,
        "editable": false,
        "nbgrader": {
          "cell_type": "markdown",
          "checksum": "23648526b4581cb6ea5df76b63c45274",
          "grade": false,
          "grade_id": "cell-bdd8daf85b096db9",
          "locked": true,
          "schema_version": 3,
          "solution": false
        },
        "id": "jH-sNiEadgcv"
      },
      "source": [
        "## Feedback"
      ]
    },
    {
      "cell_type": "code",
      "metadata": {
        "deletable": false,
        "nbgrader": {
          "cell_type": "code",
          "checksum": "ed936ab53a1391c5e6af8df699a1dbf5",
          "grade": false,
          "grade_id": "feedback",
          "locked": false,
          "schema_version": 3,
          "solution": true
        },
        "id": "vaf31jqQdgcx"
      },
      "source": [
        "def feedback():\n",
        "    \"\"\"Provide feedback on the contents of this exercise\n",
        "    \n",
        "    Returns:\n",
        "        string\n",
        "    \"\"\"\n",
        "    return \"Cool assignment!\""
      ],
      "execution_count": 24,
      "outputs": []
    },
    {
      "cell_type": "code",
      "metadata": {
        "deletable": false,
        "editable": false,
        "nbgrader": {
          "cell_type": "code",
          "checksum": "f39f6185a54850c2f1f9b5b2a17b7543",
          "grade": true,
          "grade_id": "feedback-tests",
          "locked": true,
          "points": 0,
          "schema_version": 3,
          "solution": false
        },
        "id": "iVgppN26dgc1",
        "outputId": "1999b676-d209-4c9f-a7bb-e4ed908f7e8b",
        "colab": {
          "base_uri": "https://localhost:8080/",
          "height": 36
        }
      },
      "source": [
        "feedback()"
      ],
      "execution_count": 25,
      "outputs": [
        {
          "output_type": "execute_result",
          "data": {
            "application/vnd.google.colaboratory.intrinsic+json": {
              "type": "string"
            },
            "text/plain": [
              "'Cool assignment!'"
            ]
          },
          "metadata": {
            "tags": []
          },
          "execution_count": 25
        }
      ]
    }
  ]
}