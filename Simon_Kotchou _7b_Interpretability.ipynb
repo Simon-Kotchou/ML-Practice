{
  "nbformat": 4,
  "nbformat_minor": 0,
  "metadata": {
    "kernelspec": {
      "display_name": "csci470-nbs",
      "language": "python",
      "name": "csci470-nbs"
    },
    "language_info": {
      "codemirror_mode": {
        "name": "ipython",
        "version": 3
      },
      "file_extension": ".py",
      "mimetype": "text/x-python",
      "name": "python",
      "nbconvert_exporter": "python",
      "pygments_lexer": "ipython3",
      "version": "3.8.5"
    },
    "colab": {
      "name": "<Simon Kotchou>-7b_Interpretability.ipynb",
      "provenance": []
    }
  },
  "cells": [
    {
      "cell_type": "markdown",
      "metadata": {
        "id": "hez_ln5H8woJ"
      },
      "source": [
        "## CSCI 470 Activities and Case Studies\n",
        "\n",
        "1. For all activities, you are allowed to collaborate with a partner. \n",
        "1. For case studies, you should work individually and are **not** allowed to collaborate.\n",
        "\n",
        "By filling out this notebook and submitting it, you acknowledge that you are aware of the above policies and are agreeing to comply with them."
      ]
    },
    {
      "cell_type": "markdown",
      "metadata": {
        "id": "ITiEjrzu8woM"
      },
      "source": [
        "Some considerations with regard to how these notebooks will be graded:\n",
        "\n",
        "1. You can add more notebook cells or edit existing notebook cells other than \"# YOUR CODE HERE\" to test out or debug your code. We actually highly recommend you do so to gain a better understanding of what is happening. However, during grading, **these changes are ignored**. \n",
        "2. You must ensure that all your code for the particular task is available in the cells that say \"# YOUR CODE HERE\"\n",
        "3. Every cell that says \"# YOUR CODE HERE\" is followed by a \"raise NotImplementedError\". You need to remove that line. During grading, if an error occurs then you will not receive points for your work in that section.\n",
        "4. If your code passes the \"assert\" statements, then no output will result. If your code fails the \"assert\" statements, you will get an \"AssertionError\". Getting an assertion error means you will not receive points for that particular task.\n",
        "5. If you edit the \"assert\" statements to make your code pass, they will still fail when they are graded since the \"assert\" statements will revert to the original. Make sure you don't edit the assert statements.\n",
        "6. We may sometimes have \"hidden\" tests for grading. This means that passing the visible \"assert\" statements is not sufficient. The \"assert\" statements are there as a guide but you need to make sure you understand what you're required to do and ensure that you are doing it correctly. Passing the visible tests is necessary but not sufficient to get the grade for that cell.\n",
        "7. When you are asked to define a function, make sure you **don't** use any variables outside of the parameters passed to the function. You can think of the parameters being passed to the function as a hint. Make sure you're using all of those variables.\n",
        "8. Finally, **make sure you run \"Kernel > Restart and Run All\"** and pass all the asserts before submitting. If you don't restart the kernel, there may be some code that you ran and deleted that is still being used and that was why your asserts were passing."
      ]
    },
    {
      "cell_type": "markdown",
      "metadata": {
        "id": "7GVqpAkH8woN"
      },
      "source": [
        "# Model Interpretability\n",
        "\n",
        "In this exercise you'll use the [alibi](https://docs.seldon.io/projects/alibi/en/stable/) library to explain why some models make the predictions they do."
      ]
    },
    {
      "cell_type": "code",
      "metadata": {
        "colab": {
          "base_uri": "https://localhost:8080/"
        },
        "id": "JxAouJwE8woO",
        "outputId": "addbfbcb-eb03-4103-8625-dd97fd42afe4"
      },
      "source": [
        "! pip install alibi"
      ],
      "execution_count": 21,
      "outputs": [
        {
          "output_type": "stream",
          "text": [
            "Collecting alibi\n",
            "\u001b[?25l  Downloading https://files.pythonhosted.org/packages/89/c1/7e6bbb4a69d84063d84dbf39ef5f95d9ee230379c542bed4e44ca8b878d8/alibi-0.5.5-py3-none-any.whl (228kB)\n",
            "\r\u001b[K     |█▍                              | 10kB 19.7MB/s eta 0:00:01\r\u001b[K     |██▉                             | 20kB 15.7MB/s eta 0:00:01\r\u001b[K     |████▎                           | 30kB 13.1MB/s eta 0:00:01\r\u001b[K     |█████▊                          | 40kB 12.1MB/s eta 0:00:01\r\u001b[K     |███████▏                        | 51kB 9.1MB/s eta 0:00:01\r\u001b[K     |████████▋                       | 61kB 9.5MB/s eta 0:00:01\r\u001b[K     |██████████                      | 71kB 9.3MB/s eta 0:00:01\r\u001b[K     |███████████▌                    | 81kB 9.5MB/s eta 0:00:01\r\u001b[K     |█████████████                   | 92kB 9.6MB/s eta 0:00:01\r\u001b[K     |██████████████▍                 | 102kB 10.3MB/s eta 0:00:01\r\u001b[K     |███████████████▉                | 112kB 10.3MB/s eta 0:00:01\r\u001b[K     |█████████████████▏              | 122kB 10.3MB/s eta 0:00:01\r\u001b[K     |██████████████████▋             | 133kB 10.3MB/s eta 0:00:01\r\u001b[K     |████████████████████            | 143kB 10.3MB/s eta 0:00:01\r\u001b[K     |█████████████████████▌          | 153kB 10.3MB/s eta 0:00:01\r\u001b[K     |███████████████████████         | 163kB 10.3MB/s eta 0:00:01\r\u001b[K     |████████████████████████▍       | 174kB 10.3MB/s eta 0:00:01\r\u001b[K     |█████████████████████████▉      | 184kB 10.3MB/s eta 0:00:01\r\u001b[K     |███████████████████████████▎    | 194kB 10.3MB/s eta 0:00:01\r\u001b[K     |████████████████████████████▊   | 204kB 10.3MB/s eta 0:00:01\r\u001b[K     |██████████████████████████████▏ | 215kB 10.3MB/s eta 0:00:01\r\u001b[K     |███████████████████████████████▋| 225kB 10.3MB/s eta 0:00:01\r\u001b[K     |████████████████████████████████| 235kB 10.3MB/s \n",
            "\u001b[?25hRequirement already satisfied: attrs in /usr/local/lib/python3.6/dist-packages (from alibi) (20.3.0)\n",
            "Requirement already satisfied: Pillow in /usr/local/lib/python3.6/dist-packages (from alibi) (7.0.0)\n",
            "Requirement already satisfied: numpy in /usr/local/lib/python3.6/dist-packages (from alibi) (1.18.5)\n",
            "Requirement already satisfied: requests in /usr/local/lib/python3.6/dist-packages (from alibi) (2.23.0)\n",
            "Requirement already satisfied: scikit-learn in /usr/local/lib/python3.6/dist-packages (from alibi) (0.22.2.post1)\n",
            "Requirement already satisfied: spacy[lookups] in /usr/local/lib/python3.6/dist-packages (from alibi) (2.2.4)\n",
            "Requirement already satisfied: beautifulsoup4 in /usr/local/lib/python3.6/dist-packages (from alibi) (4.6.3)\n",
            "Requirement already satisfied: pandas in /usr/local/lib/python3.6/dist-packages (from alibi) (1.1.5)\n",
            "Collecting shap>=0.36\n",
            "\u001b[?25l  Downloading https://files.pythonhosted.org/packages/85/a3/c0eab9dd6a894165e2cb87504ff5b2710ac5ede3447d9138620b7341b6a2/shap-0.37.0.tar.gz (326kB)\n",
            "\u001b[K     |████████████████████████████████| 327kB 8.9MB/s \n",
            "\u001b[?25hRequirement already satisfied: scikit-image!=0.17.1 in /usr/local/lib/python3.6/dist-packages (from alibi) (0.16.2)\n",
            "Requirement already satisfied: tensorflow>=2.0 in /usr/local/lib/python3.6/dist-packages (from alibi) (2.3.0)\n",
            "Requirement already satisfied: matplotlib in /usr/local/lib/python3.6/dist-packages (from alibi) (3.2.2)\n",
            "Requirement already satisfied: typing-extensions>=3.7.2 in /usr/local/lib/python3.6/dist-packages (from alibi) (3.7.4.3)\n",
            "Requirement already satisfied: scipy in /usr/local/lib/python3.6/dist-packages (from alibi) (1.4.1)\n",
            "Requirement already satisfied: urllib3!=1.25.0,!=1.25.1,<1.26,>=1.21.1 in /usr/local/lib/python3.6/dist-packages (from requests->alibi) (1.24.3)\n",
            "Requirement already satisfied: chardet<4,>=3.0.2 in /usr/local/lib/python3.6/dist-packages (from requests->alibi) (3.0.4)\n",
            "Requirement already satisfied: idna<3,>=2.5 in /usr/local/lib/python3.6/dist-packages (from requests->alibi) (2.10)\n",
            "Requirement already satisfied: certifi>=2017.4.17 in /usr/local/lib/python3.6/dist-packages (from requests->alibi) (2020.12.5)\n",
            "Requirement already satisfied: joblib>=0.11 in /usr/local/lib/python3.6/dist-packages (from scikit-learn->alibi) (0.17.0)\n",
            "Requirement already satisfied: srsly<1.1.0,>=1.0.2 in /usr/local/lib/python3.6/dist-packages (from spacy[lookups]->alibi) (1.0.5)\n",
            "Requirement already satisfied: catalogue<1.1.0,>=0.0.7 in /usr/local/lib/python3.6/dist-packages (from spacy[lookups]->alibi) (1.0.0)\n",
            "Requirement already satisfied: preshed<3.1.0,>=3.0.2 in /usr/local/lib/python3.6/dist-packages (from spacy[lookups]->alibi) (3.0.5)\n",
            "Requirement already satisfied: murmurhash<1.1.0,>=0.28.0 in /usr/local/lib/python3.6/dist-packages (from spacy[lookups]->alibi) (1.0.5)\n",
            "Requirement already satisfied: blis<0.5.0,>=0.4.0 in /usr/local/lib/python3.6/dist-packages (from spacy[lookups]->alibi) (0.4.1)\n",
            "Requirement already satisfied: cymem<2.1.0,>=2.0.2 in /usr/local/lib/python3.6/dist-packages (from spacy[lookups]->alibi) (2.0.5)\n",
            "Requirement already satisfied: setuptools in /usr/local/lib/python3.6/dist-packages (from spacy[lookups]->alibi) (50.3.2)\n",
            "Requirement already satisfied: tqdm<5.0.0,>=4.38.0 in /usr/local/lib/python3.6/dist-packages (from spacy[lookups]->alibi) (4.41.1)\n",
            "Requirement already satisfied: plac<1.2.0,>=0.9.6 in /usr/local/lib/python3.6/dist-packages (from spacy[lookups]->alibi) (1.1.3)\n",
            "Requirement already satisfied: thinc==7.4.0 in /usr/local/lib/python3.6/dist-packages (from spacy[lookups]->alibi) (7.4.0)\n",
            "Requirement already satisfied: wasabi<1.1.0,>=0.4.0 in /usr/local/lib/python3.6/dist-packages (from spacy[lookups]->alibi) (0.8.0)\n",
            "Collecting spacy-lookups-data<0.2.0,>=0.0.5; extra == \"lookups\"\n",
            "\u001b[?25l  Downloading https://files.pythonhosted.org/packages/27/3c/4a37ca7d0c21dc2287a8bb5d249f5f3211cdf3d598acf742bf5bb8c87169/spacy_lookups_data-0.1.0.tar.gz (28.0MB)\n",
            "\u001b[K     |████████████████████████████████| 28.0MB 159kB/s \n",
            "\u001b[?25hRequirement already satisfied: pytz>=2017.2 in /usr/local/lib/python3.6/dist-packages (from pandas->alibi) (2018.9)\n",
            "Requirement already satisfied: python-dateutil>=2.7.3 in /usr/local/lib/python3.6/dist-packages (from pandas->alibi) (2.8.1)\n",
            "Collecting slicer==0.0.3\n",
            "  Downloading https://files.pythonhosted.org/packages/02/a6/c708c5a0f338e99cfbcb6288b88794525548e4fc1b8457feec2c552a81a4/slicer-0.0.3-py3-none-any.whl\n",
            "Requirement already satisfied: numba in /usr/local/lib/python3.6/dist-packages (from shap>=0.36->alibi) (0.48.0)\n",
            "Requirement already satisfied: networkx>=2.0 in /usr/local/lib/python3.6/dist-packages (from scikit-image!=0.17.1->alibi) (2.5)\n",
            "Requirement already satisfied: PyWavelets>=0.4.0 in /usr/local/lib/python3.6/dist-packages (from scikit-image!=0.17.1->alibi) (1.1.1)\n",
            "Requirement already satisfied: imageio>=2.3.0 in /usr/local/lib/python3.6/dist-packages (from scikit-image!=0.17.1->alibi) (2.4.1)\n",
            "Requirement already satisfied: h5py<2.11.0,>=2.10.0 in /usr/local/lib/python3.6/dist-packages (from tensorflow>=2.0->alibi) (2.10.0)\n",
            "Requirement already satisfied: six>=1.12.0 in /usr/local/lib/python3.6/dist-packages (from tensorflow>=2.0->alibi) (1.15.0)\n",
            "Requirement already satisfied: absl-py>=0.7.0 in /usr/local/lib/python3.6/dist-packages (from tensorflow>=2.0->alibi) (0.10.0)\n",
            "Requirement already satisfied: wrapt>=1.11.1 in /usr/local/lib/python3.6/dist-packages (from tensorflow>=2.0->alibi) (1.12.1)\n",
            "Requirement already satisfied: grpcio>=1.8.6 in /usr/local/lib/python3.6/dist-packages (from tensorflow>=2.0->alibi) (1.34.0)\n",
            "Requirement already satisfied: opt-einsum>=2.3.2 in /usr/local/lib/python3.6/dist-packages (from tensorflow>=2.0->alibi) (3.3.0)\n",
            "Requirement already satisfied: protobuf>=3.9.2 in /usr/local/lib/python3.6/dist-packages (from tensorflow>=2.0->alibi) (3.12.4)\n",
            "Requirement already satisfied: wheel>=0.26 in /usr/local/lib/python3.6/dist-packages (from tensorflow>=2.0->alibi) (0.36.1)\n",
            "Requirement already satisfied: astunparse==1.6.3 in /usr/local/lib/python3.6/dist-packages (from tensorflow>=2.0->alibi) (1.6.3)\n",
            "Requirement already satisfied: keras-preprocessing<1.2,>=1.1.1 in /usr/local/lib/python3.6/dist-packages (from tensorflow>=2.0->alibi) (1.1.2)\n",
            "Requirement already satisfied: google-pasta>=0.1.8 in /usr/local/lib/python3.6/dist-packages (from tensorflow>=2.0->alibi) (0.2.0)\n",
            "Requirement already satisfied: termcolor>=1.1.0 in /usr/local/lib/python3.6/dist-packages (from tensorflow>=2.0->alibi) (1.1.0)\n",
            "Requirement already satisfied: tensorboard<3,>=2.3.0 in /usr/local/lib/python3.6/dist-packages (from tensorflow>=2.0->alibi) (2.3.0)\n",
            "Requirement already satisfied: tensorflow-estimator<2.4.0,>=2.3.0 in /usr/local/lib/python3.6/dist-packages (from tensorflow>=2.0->alibi) (2.3.0)\n",
            "Requirement already satisfied: gast==0.3.3 in /usr/local/lib/python3.6/dist-packages (from tensorflow>=2.0->alibi) (0.3.3)\n",
            "Requirement already satisfied: cycler>=0.10 in /usr/local/lib/python3.6/dist-packages (from matplotlib->alibi) (0.10.0)\n",
            "Requirement already satisfied: kiwisolver>=1.0.1 in /usr/local/lib/python3.6/dist-packages (from matplotlib->alibi) (1.3.1)\n",
            "Requirement already satisfied: pyparsing!=2.0.4,!=2.1.2,!=2.1.6,>=2.0.1 in /usr/local/lib/python3.6/dist-packages (from matplotlib->alibi) (2.4.7)\n",
            "Requirement already satisfied: importlib-metadata>=0.20; python_version < \"3.8\" in /usr/local/lib/python3.6/dist-packages (from catalogue<1.1.0,>=0.0.7->spacy[lookups]->alibi) (3.1.1)\n",
            "Requirement already satisfied: llvmlite<0.32.0,>=0.31.0dev0 in /usr/local/lib/python3.6/dist-packages (from numba->shap>=0.36->alibi) (0.31.0)\n",
            "Requirement already satisfied: decorator>=4.3.0 in /usr/local/lib/python3.6/dist-packages (from networkx>=2.0->scikit-image!=0.17.1->alibi) (4.4.2)\n",
            "Requirement already satisfied: markdown>=2.6.8 in /usr/local/lib/python3.6/dist-packages (from tensorboard<3,>=2.3.0->tensorflow>=2.0->alibi) (3.3.3)\n",
            "Requirement already satisfied: werkzeug>=0.11.15 in /usr/local/lib/python3.6/dist-packages (from tensorboard<3,>=2.3.0->tensorflow>=2.0->alibi) (1.0.1)\n",
            "Requirement already satisfied: google-auth<2,>=1.6.3 in /usr/local/lib/python3.6/dist-packages (from tensorboard<3,>=2.3.0->tensorflow>=2.0->alibi) (1.17.2)\n",
            "Requirement already satisfied: google-auth-oauthlib<0.5,>=0.4.1 in /usr/local/lib/python3.6/dist-packages (from tensorboard<3,>=2.3.0->tensorflow>=2.0->alibi) (0.4.2)\n",
            "Requirement already satisfied: tensorboard-plugin-wit>=1.6.0 in /usr/local/lib/python3.6/dist-packages (from tensorboard<3,>=2.3.0->tensorflow>=2.0->alibi) (1.7.0)\n",
            "Requirement already satisfied: zipp>=0.5 in /usr/local/lib/python3.6/dist-packages (from importlib-metadata>=0.20; python_version < \"3.8\"->catalogue<1.1.0,>=0.0.7->spacy[lookups]->alibi) (3.4.0)\n",
            "Requirement already satisfied: cachetools<5.0,>=2.0.0 in /usr/local/lib/python3.6/dist-packages (from google-auth<2,>=1.6.3->tensorboard<3,>=2.3.0->tensorflow>=2.0->alibi) (4.1.1)\n",
            "Requirement already satisfied: rsa<5,>=3.1.4; python_version >= \"3\" in /usr/local/lib/python3.6/dist-packages (from google-auth<2,>=1.6.3->tensorboard<3,>=2.3.0->tensorflow>=2.0->alibi) (4.6)\n",
            "Requirement already satisfied: pyasn1-modules>=0.2.1 in /usr/local/lib/python3.6/dist-packages (from google-auth<2,>=1.6.3->tensorboard<3,>=2.3.0->tensorflow>=2.0->alibi) (0.2.8)\n",
            "Requirement already satisfied: requests-oauthlib>=0.7.0 in /usr/local/lib/python3.6/dist-packages (from google-auth-oauthlib<0.5,>=0.4.1->tensorboard<3,>=2.3.0->tensorflow>=2.0->alibi) (1.3.0)\n",
            "Requirement already satisfied: pyasn1>=0.1.3 in /usr/local/lib/python3.6/dist-packages (from rsa<5,>=3.1.4; python_version >= \"3\"->google-auth<2,>=1.6.3->tensorboard<3,>=2.3.0->tensorflow>=2.0->alibi) (0.4.8)\n",
            "Requirement already satisfied: oauthlib>=3.0.0 in /usr/local/lib/python3.6/dist-packages (from requests-oauthlib>=0.7.0->google-auth-oauthlib<0.5,>=0.4.1->tensorboard<3,>=2.3.0->tensorflow>=2.0->alibi) (3.1.0)\n",
            "Building wheels for collected packages: shap, spacy-lookups-data\n",
            "  Building wheel for shap (setup.py) ... \u001b[?25l\u001b[?25hdone\n",
            "  Created wheel for shap: filename=shap-0.37.0-cp36-cp36m-linux_x86_64.whl size=463891 sha256=95bd871b0228221fc1a924bd80fac2ae21c18f7d6a0e649fa645a3b600347699\n",
            "  Stored in directory: /root/.cache/pip/wheels/df/ad/b0/aa7815ec68850d66551ef618095eccb962c8f6022f1d3dd989\n",
            "  Building wheel for spacy-lookups-data (setup.py) ... \u001b[?25l\u001b[?25hdone\n",
            "  Created wheel for spacy-lookups-data: filename=spacy_lookups_data-0.1.0-py2.py3-none-any.whl size=28052144 sha256=6b1b9dc1134b9362a83a2a7f5651c2e23c0cef7d071bdefbbde8c33edaf2427f\n",
            "  Stored in directory: /root/.cache/pip/wheels/2a/2b/0a/d6fb6235c56d014d224bca760d15d7cbdd820813085ffcd35d\n",
            "Successfully built shap spacy-lookups-data\n",
            "Installing collected packages: slicer, shap, alibi, spacy-lookups-data\n",
            "Successfully installed alibi-0.5.5 shap-0.37.0 slicer-0.0.3 spacy-lookups-data-0.1.0\n"
          ],
          "name": "stdout"
        }
      ]
    },
    {
      "cell_type": "code",
      "metadata": {
        "id": "XSw7q8I58woP"
      },
      "source": [
        "import sklearn\n",
        "from sklearn.datasets import load_iris\n",
        "from sklearn.ensemble import RandomForestClassifier\n",
        "from sklearn.svm import LinearSVC\n",
        "from sklearn.model_selection import train_test_split, GridSearchCV\n",
        "from sklearn.metrics import accuracy_score"
      ],
      "execution_count": 2,
      "outputs": []
    },
    {
      "cell_type": "code",
      "metadata": {
        "id": "ZwP5lISS8woQ"
      },
      "source": [
        "data = load_iris()"
      ],
      "execution_count": 3,
      "outputs": []
    },
    {
      "cell_type": "code",
      "metadata": {
        "colab": {
          "base_uri": "https://localhost:8080/"
        },
        "id": "khlRiI5U8woR",
        "outputId": "5cd23c5c-0024-4602-dbf5-382dd8c628cb"
      },
      "source": [
        "print(data[\"DESCR\"])\n",
        "features = data[\"data\"]\n",
        "targets = data[\"target\"]"
      ],
      "execution_count": 4,
      "outputs": [
        {
          "output_type": "stream",
          "text": [
            ".. _iris_dataset:\n",
            "\n",
            "Iris plants dataset\n",
            "--------------------\n",
            "\n",
            "**Data Set Characteristics:**\n",
            "\n",
            "    :Number of Instances: 150 (50 in each of three classes)\n",
            "    :Number of Attributes: 4 numeric, predictive attributes and the class\n",
            "    :Attribute Information:\n",
            "        - sepal length in cm\n",
            "        - sepal width in cm\n",
            "        - petal length in cm\n",
            "        - petal width in cm\n",
            "        - class:\n",
            "                - Iris-Setosa\n",
            "                - Iris-Versicolour\n",
            "                - Iris-Virginica\n",
            "                \n",
            "    :Summary Statistics:\n",
            "\n",
            "    ============== ==== ==== ======= ===== ====================\n",
            "                    Min  Max   Mean    SD   Class Correlation\n",
            "    ============== ==== ==== ======= ===== ====================\n",
            "    sepal length:   4.3  7.9   5.84   0.83    0.7826\n",
            "    sepal width:    2.0  4.4   3.05   0.43   -0.4194\n",
            "    petal length:   1.0  6.9   3.76   1.76    0.9490  (high!)\n",
            "    petal width:    0.1  2.5   1.20   0.76    0.9565  (high!)\n",
            "    ============== ==== ==== ======= ===== ====================\n",
            "\n",
            "    :Missing Attribute Values: None\n",
            "    :Class Distribution: 33.3% for each of 3 classes.\n",
            "    :Creator: R.A. Fisher\n",
            "    :Donor: Michael Marshall (MARSHALL%PLU@io.arc.nasa.gov)\n",
            "    :Date: July, 1988\n",
            "\n",
            "The famous Iris database, first used by Sir R.A. Fisher. The dataset is taken\n",
            "from Fisher's paper. Note that it's the same as in R, but not as in the UCI\n",
            "Machine Learning Repository, which has two wrong data points.\n",
            "\n",
            "This is perhaps the best known database to be found in the\n",
            "pattern recognition literature.  Fisher's paper is a classic in the field and\n",
            "is referenced frequently to this day.  (See Duda & Hart, for example.)  The\n",
            "data set contains 3 classes of 50 instances each, where each class refers to a\n",
            "type of iris plant.  One class is linearly separable from the other 2; the\n",
            "latter are NOT linearly separable from each other.\n",
            "\n",
            ".. topic:: References\n",
            "\n",
            "   - Fisher, R.A. \"The use of multiple measurements in taxonomic problems\"\n",
            "     Annual Eugenics, 7, Part II, 179-188 (1936); also in \"Contributions to\n",
            "     Mathematical Statistics\" (John Wiley, NY, 1950).\n",
            "   - Duda, R.O., & Hart, P.E. (1973) Pattern Classification and Scene Analysis.\n",
            "     (Q327.D83) John Wiley & Sons.  ISBN 0-471-22361-1.  See page 218.\n",
            "   - Dasarathy, B.V. (1980) \"Nosing Around the Neighborhood: A New System\n",
            "     Structure and Classification Rule for Recognition in Partially Exposed\n",
            "     Environments\".  IEEE Transactions on Pattern Analysis and Machine\n",
            "     Intelligence, Vol. PAMI-2, No. 1, 67-71.\n",
            "   - Gates, G.W. (1972) \"The Reduced Nearest Neighbor Rule\".  IEEE Transactions\n",
            "     on Information Theory, May 1972, 431-433.\n",
            "   - See also: 1988 MLC Proceedings, 54-64.  Cheeseman et al\"s AUTOCLASS II\n",
            "     conceptual clustering system finds 3 classes in the data.\n",
            "   - Many, many more ...\n"
          ],
          "name": "stdout"
        }
      ]
    },
    {
      "cell_type": "code",
      "metadata": {
        "id": "Kn-UEIZU8woR"
      },
      "source": [
        "X_train, X_test, y_train, y_test = train_test_split(features, targets, random_state=0)"
      ],
      "execution_count": 5,
      "outputs": []
    },
    {
      "cell_type": "code",
      "metadata": {
        "colab": {
          "base_uri": "https://localhost:8080/"
        },
        "id": "w3RO77Ii8woT",
        "outputId": "2c4b45f5-ca32-442c-f859-95175221a0b8"
      },
      "source": [
        "print(len(X_test))"
      ],
      "execution_count": 6,
      "outputs": [
        {
          "output_type": "stream",
          "text": [
            "38\n"
          ],
          "name": "stdout"
        }
      ]
    },
    {
      "cell_type": "code",
      "metadata": {
        "deletable": false,
        "nbgrader": {
          "cell_type": "code",
          "checksum": "b45cd198f4a64554f3690cdf9c7792c6",
          "grade": false,
          "grade_id": "cell-1a782646da471586",
          "locked": false,
          "schema_version": 3,
          "solution": true,
          "task": false
        },
        "colab": {
          "base_uri": "https://localhost:8080/"
        },
        "id": "eAV5kSim8woT",
        "outputId": "ab3b46c3-d17d-44b0-8373-3dc1ae93dee9"
      },
      "source": [
        "## Create 2 classifiers: rf_clf that is a Random Forest model, and svm_clf that is a Linear SVM model\n",
        "## Train them both on the training data\n",
        "## Use them to predict the test data - saving it to y_rf_pred and y_svm_pred respectively\n",
        "## You may consider using GridSearchCV to determine a hyperparameter search for both models.\n",
        "rf_param = { \n",
        "    'n_estimators': [200, 700],\n",
        "    'max_features': ['auto', 'sqrt', 'log2']\n",
        "}\n",
        "\n",
        "rf_clf = RandomForestClassifier(n_jobs=-1,max_features= 'auto' ,n_estimators=200, oob_score = True)\n",
        "rf_clf.fit(X_train,y_train)\n",
        "\n",
        "svm_clf = LinearSVC()\n",
        "svm_clf.fit(X_train,y_train)\n",
        "\n",
        "y_rf_pred = rf_clf.predict(X_test)\n",
        "y_svm_pred = svm_clf.predict(X_test)"
      ],
      "execution_count": 13,
      "outputs": [
        {
          "output_type": "stream",
          "text": [
            "/usr/local/lib/python3.6/dist-packages/sklearn/svm/_base.py:947: ConvergenceWarning: Liblinear failed to converge, increase the number of iterations.\n",
            "  \"the number of iterations.\", ConvergenceWarning)\n"
          ],
          "name": "stderr"
        }
      ]
    },
    {
      "cell_type": "code",
      "metadata": {
        "deletable": false,
        "editable": false,
        "nbgrader": {
          "cell_type": "code",
          "checksum": "2327a90e98fdc548e354e54640fd9c5c",
          "grade": true,
          "grade_id": "cell-0591079d074b5029",
          "locked": true,
          "points": 5,
          "schema_version": 3,
          "solution": false,
          "task": false
        },
        "id": "4fQGLDfA8woU"
      },
      "source": [
        "assert len(y_rf_pred) == 38\n",
        "assert isinstance(rf_clf, RandomForestClassifier) or isinstance(rf_clf, GridSearchCV)\n",
        "assert len(y_svm_pred) == 38\n",
        "assert isinstance(svm_clf, LinearSVC) or isinstance(svm_clf, GridSearchCV)"
      ],
      "execution_count": 14,
      "outputs": []
    },
    {
      "cell_type": "code",
      "metadata": {
        "colab": {
          "base_uri": "https://localhost:8080/"
        },
        "id": "nsdEBJWv8woV",
        "outputId": "20ae6233-e325-4e71-b43c-bf7b05ef71c9"
      },
      "source": [
        "print(f\"The random forest model achieved an accuracy of {accuracy_score(y_test, y_rf_pred)}.\")\n",
        "print(f\"The support vector machine model achieved an accuracy of {accuracy_score(y_test, y_svm_pred)}.\")"
      ],
      "execution_count": 15,
      "outputs": [
        {
          "output_type": "stream",
          "text": [
            "The random forest model achieved an accuracy of 0.9736842105263158.\n",
            "The support vector machine model achieved an accuracy of 0.9210526315789473.\n"
          ],
          "name": "stdout"
        }
      ]
    },
    {
      "cell_type": "code",
      "metadata": {
        "colab": {
          "base_uri": "https://localhost:8080/"
        },
        "id": "FNFM7Hzn8woV",
        "outputId": "1cf995b5-76d0-4d3f-a8e2-43e6c45c490e"
      },
      "source": [
        "# Since we used a Linear SVM, we can easily determine the coefficients for the features:\n",
        "if isinstance(svm_clf, LinearSVC):\n",
        "    print(svm_clf.coef_)\n",
        "elif isinstance(svm_clf, GridSearchCV):\n",
        "    print(svm_clf.best_estimator_.coef_)\n",
        "\n",
        "print(\"Each class gets a coefficient for each feature that helps us determine that feature's importance.\")"
      ],
      "execution_count": 16,
      "outputs": [
        {
          "output_type": "stream",
          "text": [
            "[[ 0.21778416  0.39842162 -0.83300797 -0.41992672]\n",
            " [ 0.02073497 -0.79388423  0.40040623 -0.92633246]\n",
            " [-1.08571571 -0.78185112  1.61136988  1.50149575]]\n",
            "Each class gets a coefficient for each feature that helps us determine that feature's importance.\n"
          ],
          "name": "stdout"
        }
      ]
    },
    {
      "cell_type": "markdown",
      "metadata": {
        "id": "fG7Px0zP8woW"
      },
      "source": [
        "Now let's look at how we can use explainers, namely the [AnchorTabular](https://docs.seldon.io/projects/alibi/en/stable/methods/Anchors.html#id3) explainer to understand why the models make the predictions they do."
      ]
    },
    {
      "cell_type": "code",
      "metadata": {
        "id": "GEvSO5uQ8woX"
      },
      "source": [
        "from alibi.explainers import AnchorTabular"
      ],
      "execution_count": 22,
      "outputs": []
    },
    {
      "cell_type": "markdown",
      "metadata": {
        "id": "Qxtgg0x38woX"
      },
      "source": [
        "Alibi explainers follow a general structure of:\n",
        "\n",
        "1. Initialize the explainer, providing a prediction function, and explainer specific parameters. `exp = Explainer(predict_func, param_1, param_2, ...)`\n",
        "1. Fit the explainer to the training data (this step is explainer dependent) `exp.fit(train_data)`\n",
        "1. Explain a given sample `exp.explain(sample)`"
      ]
    },
    {
      "cell_type": "markdown",
      "metadata": {
        "id": "4v75ecny8woX"
      },
      "source": [
        "First, we reframe the prediction pipeline into a prediction function that we can use with the explainer:"
      ]
    },
    {
      "cell_type": "code",
      "metadata": {
        "id": "LdwfFfUo8woY"
      },
      "source": [
        "rf_clf_func = lambda x: rf_clf.predict(x)\n",
        "svm_clf_func = lambda x: svm_clf.predict(x)"
      ],
      "execution_count": 23,
      "outputs": []
    },
    {
      "cell_type": "markdown",
      "metadata": {
        "id": "GHMDZmZB8woY"
      },
      "source": [
        "Now we can instantiate the explainer using the prediction function and any parameters the explainer requires:"
      ]
    },
    {
      "cell_type": "code",
      "metadata": {
        "colab": {
          "base_uri": "https://localhost:8080/"
        },
        "id": "EK4sl7y28woZ",
        "outputId": "ee04c0cb-1b97-4264-98c7-6ed3c5181d38"
      },
      "source": [
        "rf_explainer = AnchorTabular(rf_clf_func, data[\"feature_names\"])\n",
        "rf_explainer.fit(X_train)"
      ],
      "execution_count": 24,
      "outputs": [
        {
          "output_type": "execute_result",
          "data": {
            "text/plain": [
              "AnchorTabular(meta={\n",
              "  'name': 'AnchorTabular',\n",
              "  'type': ['blackbox'],\n",
              "  'explanations': ['local'],\n",
              "  'params': {'disc_perc': (25, 50, 75), 'seed': None}}\n",
              ")"
            ]
          },
          "metadata": {
            "tags": []
          },
          "execution_count": 24
        }
      ]
    },
    {
      "cell_type": "code",
      "metadata": {
        "colab": {
          "base_uri": "https://localhost:8080/"
        },
        "id": "qvxthLlf8woa",
        "outputId": "1dbb6dc2-42f1-4c78-b6dd-403b84f6c656"
      },
      "source": [
        "svm_explainer = AnchorTabular(svm_clf_func, data[\"feature_names\"])\n",
        "svm_explainer.fit(X_train)"
      ],
      "execution_count": 25,
      "outputs": [
        {
          "output_type": "execute_result",
          "data": {
            "text/plain": [
              "AnchorTabular(meta={\n",
              "  'name': 'AnchorTabular',\n",
              "  'type': ['blackbox'],\n",
              "  'explanations': ['local'],\n",
              "  'params': {'disc_perc': (25, 50, 75), 'seed': None}}\n",
              ")"
            ]
          },
          "metadata": {
            "tags": []
          },
          "execution_count": 25
        }
      ]
    },
    {
      "cell_type": "markdown",
      "metadata": {
        "id": "QuHdE3ry8woa"
      },
      "source": [
        "Once the explainer is set up, we can now use it to `.explain` samples! Pick a sample below to explain the two models' predictions."
      ]
    },
    {
      "cell_type": "code",
      "metadata": {
        "colab": {
          "base_uri": "https://localhost:8080/"
        },
        "id": "LB5kBU8H8woa",
        "outputId": "f84da7d1-f8fc-4fb1-9600-be5e4c65428c"
      },
      "source": [
        "# Change this value to choose a test sample\n",
        "index_to_explain = 7\n",
        "\n",
        "\n",
        "rf_explanation = rf_explainer.explain(X_test[index_to_explain])\n",
        "svm_explanation = svm_explainer.explain(X_test[index_to_explain])"
      ],
      "execution_count": 26,
      "outputs": [
        {
          "output_type": "stream",
          "text": [
            "Could not find an result satisfying the 0.95 precision constraint. Now returning the best non-eligible result.\n",
            "Could not find an result satisfying the 0.95 precision constraint. Now returning the best non-eligible result.\n"
          ],
          "name": "stderr"
        }
      ]
    },
    {
      "cell_type": "code",
      "metadata": {
        "colab": {
          "base_uri": "https://localhost:8080/"
        },
        "id": "46ber4Nk8wob",
        "outputId": "aca67469-e24f-45b1-83f3-835ff46b0fa5"
      },
      "source": [
        "rf_explanation.anchor, rf_explanation.precision"
      ],
      "execution_count": 27,
      "outputs": [
        {
          "output_type": "execute_result",
          "data": {
            "text/plain": [
              "(['1.58 < petal length (cm) <= 5.20',\n",
              "  '0.30 < petal width (cm) <= 1.90',\n",
              "  'sepal length (cm) > 6.50',\n",
              "  'sepal width (cm) > 3.00'],\n",
              " 0.7628657921291625)"
            ]
          },
          "metadata": {
            "tags": []
          },
          "execution_count": 27
        }
      ]
    },
    {
      "cell_type": "code",
      "metadata": {
        "colab": {
          "base_uri": "https://localhost:8080/"
        },
        "id": "1RyJqF6O8wob",
        "outputId": "21daf457-61f9-4f69-942b-92dcccf3787c"
      },
      "source": [
        "svm_explanation.anchor, svm_explanation.precision"
      ],
      "execution_count": 28,
      "outputs": [
        {
          "output_type": "execute_result",
          "data": {
            "text/plain": [
              "(['petal width (cm) <= 1.90',\n",
              "  '4.25 < petal length (cm) <= 5.20',\n",
              "  'sepal length (cm) > 6.50',\n",
              "  '3.00 < sepal width (cm) <= 3.30'],\n",
              " 0.9412997903563941)"
            ]
          },
          "metadata": {
            "tags": []
          },
          "execution_count": 28
        }
      ]
    },
    {
      "cell_type": "markdown",
      "metadata": {
        "id": "S1dQQOgh8woc"
      },
      "source": [
        "Here we can see what the model's explanation for the classification of that sample is. You can see that even with our relatively interpretable model of Linear SVMs, these explainers can provide a more direct and intuitive explanation for why a sample was labeled the way it was.\n",
        "\n",
        "Now that you've seen the general approach for these explainers, let's work on something a bit more complex. Now you'll have to create the models, the prediction function, and the explainers."
      ]
    },
    {
      "cell_type": "markdown",
      "metadata": {
        "id": "khDUAqME8woc"
      },
      "source": [
        "## Explaining MNIST predictions\n",
        "\n",
        "Explaining data from measured observations is simple enough. Now let's try explaining how images get labeled."
      ]
    },
    {
      "cell_type": "code",
      "metadata": {
        "id": "0CF6G46D8woc"
      },
      "source": [
        "import tensorflow as tf\n",
        "from tensorflow.keras.datasets import mnist\n",
        "from tensorflow.keras import Sequential\n",
        "from tensorflow.keras.layers import Dense, Dropout, Flatten, Conv2D, MaxPool2D\n",
        "import matplotlib\n",
        "import matplotlib.pyplot as plt\n",
        "import numpy as np"
      ],
      "execution_count": 29,
      "outputs": []
    },
    {
      "cell_type": "code",
      "metadata": {
        "colab": {
          "base_uri": "https://localhost:8080/"
        },
        "id": "N6z0RT4C8wod",
        "outputId": "e2e909f0-b143-40d6-cf3b-a9e82a5e8b05"
      },
      "source": [
        "(x_train, y_train), (x_test, y_test) = mnist.load_data()"
      ],
      "execution_count": 30,
      "outputs": [
        {
          "output_type": "stream",
          "text": [
            "Downloading data from https://storage.googleapis.com/tensorflow/tf-keras-datasets/mnist.npz\n",
            "11493376/11490434 [==============================] - 0s 0us/step\n"
          ],
          "name": "stdout"
        }
      ]
    },
    {
      "cell_type": "code",
      "metadata": {
        "id": "ndqNGhDQ8wod"
      },
      "source": [
        "sample_index = 12\n",
        "sample = x_train[sample_index]"
      ],
      "execution_count": 31,
      "outputs": []
    },
    {
      "cell_type": "code",
      "metadata": {
        "colab": {
          "base_uri": "https://localhost:8080/",
          "height": 283
        },
        "id": "xSu8w5-L8wod",
        "outputId": "b3b51880-336b-4583-a8fb-81e821729a70"
      },
      "source": [
        "plt.imshow(sample, cmap=\"gray\")"
      ],
      "execution_count": 32,
      "outputs": [
        {
          "output_type": "execute_result",
          "data": {
            "text/plain": [
              "<matplotlib.image.AxesImage at 0x7f3efced5358>"
            ]
          },
          "metadata": {
            "tags": []
          },
          "execution_count": 32
        },
        {
          "output_type": "display_data",
          "data": {
            "image/png": "[encoded data removed]",
            "text/plain": [
              "<Figure size 432x288 with 1 Axes>"
            ]
          },
          "metadata": {
            "tags": [],
            "needs_background": "light"
          }
        }
      ]
    },
    {
      "cell_type": "code",
      "metadata": {
        "deletable": false,
        "nbgrader": {
          "cell_type": "code",
          "checksum": "ede0ab7718e54dbd9bd0656b3d195a55",
          "grade": false,
          "grade_id": "cell-0a1be97070f65961",
          "locked": false,
          "schema_version": 3,
          "solution": true,
          "task": false
        },
        "colab": {
          "base_uri": "https://localhost:8080/"
        },
        "id": "JoRdns_-8wod",
        "outputId": "e83293fe-7c5b-46ce-f1b6-d476c25b60e8"
      },
      "source": [
        "## Create a neural network model that should do well on the MNIST dataset and save it to mnist_nn\n",
        "## Make the neural network sufficiently complex (at least 5 layers) and feel free to use Conv2D layers for example\n",
        "\n",
        "## Save the neural network to mnist_nn\n",
        "## You'll need to make sure you get at least 80% accuracy\n",
        "\n",
        "mnist_nn = Sequential()\n",
        "mnist_nn.add(Conv2D(32,(3,3),activation='relu', input_shape=(28, 28, 1)))\n",
        "mnist_nn.add(Conv2D(64, (3, 3), activation='relu'))\n",
        "mnist_nn.add(MaxPool2D((2, 2)))\n",
        "mnist_nn.add(Dropout(.25))\n",
        "mnist_nn.add(Flatten())\n",
        "mnist_nn.add(Dense(128, activation='relu'))\n",
        "mnist_nn.add(Dropout(.5))\n",
        "mnist_nn.add(Dense(10, activation='softmax'))\n",
        "\n",
        "mnist_nn.compile(optimizer=\"adam\", loss='sparse_categorical_crossentropy', metrics=['accuracy'])\n",
        "mnist_nn.fit(x_train.reshape(-1, 28, 28 ,1), y_train, epochs=1)\n",
        "mnist_nn.summary()"
      ],
      "execution_count": 39,
      "outputs": [
        {
          "output_type": "stream",
          "text": [
            "1875/1875 [==============================] - 142s 76ms/step - loss: 0.4577 - accuracy: 0.8990\n",
            "Model: \"sequential_5\"\n",
            "_________________________________________________________________\n",
            "Layer (type)                 Output Shape              Param #   \n",
            "=================================================================\n",
            "conv2d_6 (Conv2D)            (None, 26, 26, 32)        320       \n",
            "_________________________________________________________________\n",
            "conv2d_7 (Conv2D)            (None, 24, 24, 64)        18496     \n",
            "_________________________________________________________________\n",
            "max_pooling2d_4 (MaxPooling2 (None, 12, 12, 64)        0         \n",
            "_________________________________________________________________\n",
            "dropout_2 (Dropout)          (None, 12, 12, 64)        0         \n",
            "_________________________________________________________________\n",
            "flatten_4 (Flatten)          (None, 9216)              0         \n",
            "_________________________________________________________________\n",
            "dense_8 (Dense)              (None, 128)               1179776   \n",
            "_________________________________________________________________\n",
            "dropout_3 (Dropout)          (None, 128)               0         \n",
            "_________________________________________________________________\n",
            "dense_9 (Dense)              (None, 10)                1290      \n",
            "=================================================================\n",
            "Total params: 1,199,882\n",
            "Trainable params: 1,199,882\n",
            "Non-trainable params: 0\n",
            "_________________________________________________________________\n"
          ],
          "name": "stdout"
        }
      ]
    },
    {
      "cell_type": "code",
      "metadata": {
        "deletable": false,
        "editable": false,
        "nbgrader": {
          "cell_type": "code",
          "checksum": "01b37abef0ca1da0df8c8f3f2b4025b2",
          "grade": true,
          "grade_id": "cell-e394a89e99cb2485",
          "locked": true,
          "points": 5,
          "schema_version": 3,
          "solution": false,
          "task": false
        },
        "colab": {
          "base_uri": "https://localhost:8080/"
        },
        "id": "v7QagKIZ8woe",
        "outputId": "65acea23-c227-4e96-84b8-205f0b248ca6"
      },
      "source": [
        "assert len(mnist_nn.layers) > 5\n",
        "assert mnist_nn.evaluate(x_test.reshape(-1, 28, 28 ,1), y_test)[1] > 0.8"
      ],
      "execution_count": 40,
      "outputs": [
        {
          "output_type": "stream",
          "text": [
            "313/313 [==============================] - 5s 17ms/step - loss: 0.0727 - accuracy: 0.9766\n"
          ],
          "name": "stdout"
        }
      ]
    },
    {
      "cell_type": "code",
      "metadata": {
        "id": "t_bDUFRp8woe"
      },
      "source": [
        "from alibi.explainers import AnchorImage"
      ],
      "execution_count": 41,
      "outputs": []
    },
    {
      "cell_type": "markdown",
      "metadata": {
        "id": "mh91LeIz8wof"
      },
      "source": [
        "To work with images, we'll use the [AnchorImage](https://docs.seldon.io/projects/alibi/en/stable/methods/Anchors.html#id5) explainer. This explainer requires that we break up the image into \"superpixels\". We'll use the function in the next cell to do just that. "
      ]
    },
    {
      "cell_type": "code",
      "metadata": {
        "id": "BPIgEOV68wof"
      },
      "source": [
        "def superpixel(image, size=(4, 4)):\n",
        "    segments = np.zeros([image.shape[0], image.shape[1]])\n",
        "    row_idx, col_idx = np.where(segments == 0)\n",
        "    for i, j in zip(row_idx, col_idx):\n",
        "        segments[i, j] = int((image.shape[1]/size[1]) * (i//size[0]) + j//size[1])\n",
        "    return segments"
      ],
      "execution_count": 42,
      "outputs": []
    },
    {
      "cell_type": "code",
      "metadata": {
        "colab": {
          "base_uri": "https://localhost:8080/",
          "height": 283
        },
        "id": "wtjwVswv8wof",
        "outputId": "2994f3a5-1864-4005-f510-5e34ee0dc67a"
      },
      "source": [
        "segments = superpixel(x_train[0])\n",
        "plt.imshow(segments)"
      ],
      "execution_count": 43,
      "outputs": [
        {
          "output_type": "execute_result",
          "data": {
            "text/plain": [
              "<matplotlib.image.AxesImage at 0x7f3ea9f8f2e8>"
            ]
          },
          "metadata": {
            "tags": []
          },
          "execution_count": 43
        },
        {
          "output_type": "display_data",
          "data": {
            "image/png": "[encoded data removed]",
            "text/plain": [
              "<Figure size 432x288 with 1 Axes>"
            ]
          },
          "metadata": {
            "tags": [],
            "needs_background": "light"
          }
        }
      ]
    },
    {
      "cell_type": "markdown",
      "metadata": {
        "id": "awTfNeCE8wof"
      },
      "source": [
        "Each presented square is a superpixel. You can change the code above to test out other ways of determining superpixels. You could even just simply change the size from 4,4 to a different size and see what happens."
      ]
    },
    {
      "cell_type": "code",
      "metadata": {
        "deletable": false,
        "nbgrader": {
          "cell_type": "code",
          "checksum": "cbd424c67b4f3c7e21b06bc6d9b12a5f",
          "grade": false,
          "grade_id": "cell-2b6099964aa0a2be",
          "locked": false,
          "schema_version": 3,
          "solution": true,
          "task": false
        },
        "id": "VSV5RzP-8wog"
      },
      "source": [
        "# Create an explainer object using AnchorImage that explains the mnist_nn model you created.\n",
        "# Make sure to use the superpixel function as the segmentation function \n",
        "\n",
        "mnist_explainer = AnchorImage(mnist_nn,(28, 28),superpixel)"
      ],
      "execution_count": 44,
      "outputs": []
    },
    {
      "cell_type": "code",
      "metadata": {
        "deletable": false,
        "editable": false,
        "nbgrader": {
          "cell_type": "code",
          "checksum": "492e1773d0063d2a1a2f8a2ed1f49592",
          "grade": true,
          "grade_id": "cell-f81be29970fdaf29",
          "locked": true,
          "points": 5,
          "schema_version": 3,
          "solution": false,
          "task": false
        },
        "id": "CcSU3Xy08wog"
      },
      "source": [
        "assert isinstance(mnist_explainer, AnchorImage)"
      ],
      "execution_count": 45,
      "outputs": []
    },
    {
      "cell_type": "code",
      "metadata": {
        "id": "hUa76nGH8wog"
      },
      "source": [
        "# Change this number and try out different samples\n",
        "image_index_to_explain = 2\n",
        "image_to_explain = x_test.reshape(-1, 28, 28 ,1)[image_index_to_explain]"
      ],
      "execution_count": 46,
      "outputs": []
    },
    {
      "cell_type": "code",
      "metadata": {
        "colab": {
          "base_uri": "https://localhost:8080/",
          "height": 283
        },
        "id": "aziB3RMw8wog",
        "outputId": "2982b8d1-0fcc-424a-9bb5-0f5acdc06592"
      },
      "source": [
        "plt.imshow(image_to_explain[:,:,0], cmap=\"gray\")"
      ],
      "execution_count": 47,
      "outputs": [
        {
          "output_type": "execute_result",
          "data": {
            "text/plain": [
              "<matplotlib.image.AxesImage at 0x7f3ead2fc5c0>"
            ]
          },
          "metadata": {
            "tags": []
          },
          "execution_count": 47
        },
        {
          "output_type": "display_data",
          "data": {
            "image/png": "[encoded data removed]",
            "text/plain": [
              "<Figure size 432x288 with 1 Axes>"
            ]
          },
          "metadata": {
            "tags": [],
            "needs_background": "light"
          }
        }
      ]
    },
    {
      "cell_type": "code",
      "metadata": {
        "id": "tNRrptrt8woh"
      },
      "source": [
        "# Change the value of p_sample, and threshold here to see how the explanation changes based on the sample.\n",
        "mnist_image_explanation = mnist_explainer.explain(image_to_explain, threshold=.9, p_sample=.5)"
      ],
      "execution_count": 49,
      "outputs": []
    },
    {
      "cell_type": "code",
      "metadata": {
        "colab": {
          "base_uri": "https://localhost:8080/",
          "height": 302
        },
        "id": "Mxm2Hn548woh",
        "outputId": "6b194adc-6924-420d-bb77-ac28c2b87200"
      },
      "source": [
        "print(f\"The model predicted the number as a {mnist_nn.predict(image_to_explain.reshape(1, 28, 28, 1)).argmax()} because of:\")\n",
        "plt.imshow(mnist_image_explanation.anchor[:,:,0], cmap=\"gray\")"
      ],
      "execution_count": 50,
      "outputs": [
        {
          "output_type": "stream",
          "text": [
            "The model predicted the number as a 1 because of:\n"
          ],
          "name": "stdout"
        },
        {
          "output_type": "execute_result",
          "data": {
            "text/plain": [
              "<matplotlib.image.AxesImage at 0x7f3ea9ee0978>"
            ]
          },
          "metadata": {
            "tags": []
          },
          "execution_count": 50
        },
        {
          "output_type": "display_data",
          "data": {
            "image/png": "[encoded data removed]",
            "text/plain": [
              "<Figure size 432x288 with 1 Axes>"
            ]
          },
          "metadata": {
            "tags": [],
            "needs_background": "light"
          }
        }
      ]
    },
    {
      "cell_type": "markdown",
      "metadata": {
        "id": "L-7aL9Sl8woh"
      },
      "source": [
        "One thing you may have noticed is that the explanations are heavily dependent on the superpixels we identify. Have ideas for a better superpixel definition? Go back and try it!"
      ]
    },
    {
      "cell_type": "markdown",
      "metadata": {
        "id": "5gnEMSTt8woh"
      },
      "source": [
        "## Explaining newsgroup predictions\n",
        "\n",
        "With the newsgroup dataset we'll look at explaining how text gets predicted using [AnchorText](https://docs.seldon.io/projects/alibi/en/v0.2.2/methods/Anchors.html#Initialization)."
      ]
    },
    {
      "cell_type": "code",
      "metadata": {
        "id": "u1tOykoB8woi"
      },
      "source": [
        "from sklearn.datasets import fetch_20newsgroups\n",
        "import spacy\n",
        "from alibi.explainers import AnchorText\n",
        "from alibi.utils.download import spacy_model\n",
        "from sklearn.feature_extraction.text import TfidfVectorizer"
      ],
      "execution_count": 51,
      "outputs": []
    },
    {
      "cell_type": "code",
      "metadata": {
        "colab": {
          "base_uri": "https://localhost:8080/"
        },
        "id": "wE9DCyqf8woi",
        "outputId": "17e9d4d8-7f7d-4aea-8033-7232d37804a2"
      },
      "source": [
        "newsgroups = fetch_20newsgroups()"
      ],
      "execution_count": 52,
      "outputs": [
        {
          "output_type": "stream",
          "text": [
            "Downloading 20news dataset. This may take a few minutes.\n",
            "Downloading dataset from https://ndownloader.figshare.com/files/5975967 (14 MB)\n"
          ],
          "name": "stderr"
        }
      ]
    },
    {
      "cell_type": "code",
      "metadata": {
        "colab": {
          "base_uri": "https://localhost:8080/"
        },
        "id": "gWfUyp748woi",
        "outputId": "49fd7a9c-5d24-4d36-bf3d-f026fed03f11"
      },
      "source": [
        "print(newsgroups[\"DESCR\"])\n",
        "text = newsgroups[\"data\"]\n",
        "news_labels = newsgroups[\"target\"]\n",
        "newsgroup_names = newsgroups[\"target_names\"]\n",
        "\n",
        "text_train, text_test, labels_train, labels_test = train_test_split(text, news_labels, random_state=0)"
      ],
      "execution_count": 53,
      "outputs": [
        {
          "output_type": "stream",
          "text": [
            ".. _20newsgroups_dataset:\n",
            "\n",
            "The 20 newsgroups text dataset\n",
            "------------------------------\n",
            "\n",
            "The 20 newsgroups dataset comprises around 18000 newsgroups posts on\n",
            "20 topics split in two subsets: one for training (or development)\n",
            "and the other one for testing (or for performance evaluation). The split\n",
            "between the train and test set is based upon a messages posted before\n",
            "and after a specific date.\n",
            "\n",
            "This module contains two loaders. The first one,\n",
            ":func:`sklearn.datasets.fetch_20newsgroups`,\n",
            "returns a list of the raw texts that can be fed to text feature\n",
            "extractors such as :class:`sklearn.feature_extraction.text.CountVectorizer`\n",
            "with custom parameters so as to extract feature vectors.\n",
            "The second one, :func:`sklearn.datasets.fetch_20newsgroups_vectorized`,\n",
            "returns ready-to-use features, i.e., it is not necessary to use a feature\n",
            "extractor.\n",
            "\n",
            "**Data Set Characteristics:**\n",
            "\n",
            "    =================   ==========\n",
            "    Classes                     20\n",
            "    Samples total            18846\n",
            "    Dimensionality               1\n",
            "    Features                  text\n",
            "    =================   ==========\n",
            "\n",
            "Usage\n",
            "~~~~~\n",
            "\n",
            "The :func:`sklearn.datasets.fetch_20newsgroups` function is a data\n",
            "fetching / caching functions that downloads the data archive from\n",
            "the original `20 newsgroups website`_, extracts the archive contents\n",
            "in the ``~/scikit_learn_data/20news_home`` folder and calls the\n",
            ":func:`sklearn.datasets.load_files` on either the training or\n",
            "testing set folder, or both of them::\n",
            "\n",
            "  >>> from sklearn.datasets import fetch_20newsgroups\n",
            "  >>> newsgroups_train = fetch_20newsgroups(subset='train')\n",
            "\n",
            "  >>> from pprint import pprint\n",
            "  >>> pprint(list(newsgroups_train.target_names))\n",
            "  ['alt.atheism',\n",
            "   'comp.graphics',\n",
            "   'comp.os.ms-windows.misc',\n",
            "   'comp.sys.ibm.pc.hardware',\n",
            "   'comp.sys.mac.hardware',\n",
            "   'comp.windows.x',\n",
            "   'misc.forsale',\n",
            "   'rec.autos',\n",
            "   'rec.motorcycles',\n",
            "   'rec.sport.baseball',\n",
            "   'rec.sport.hockey',\n",
            "   'sci.crypt',\n",
            "   'sci.electronics',\n",
            "   'sci.med',\n",
            "   'sci.space',\n",
            "   'soc.religion.christian',\n",
            "   'talk.politics.guns',\n",
            "   'talk.politics.mideast',\n",
            "   'talk.politics.misc',\n",
            "   'talk.religion.misc']\n",
            "\n",
            "The real data lies in the ``filenames`` and ``target`` attributes. The target\n",
            "attribute is the integer index of the category::\n",
            "\n",
            "  >>> newsgroups_train.filenames.shape\n",
            "  (11314,)\n",
            "  >>> newsgroups_train.target.shape\n",
            "  (11314,)\n",
            "  >>> newsgroups_train.target[:10]\n",
            "  array([ 7,  4,  4,  1, 14, 16, 13,  3,  2,  4])\n",
            "\n",
            "It is possible to load only a sub-selection of the categories by passing the\n",
            "list of the categories to load to the\n",
            ":func:`sklearn.datasets.fetch_20newsgroups` function::\n",
            "\n",
            "  >>> cats = ['alt.atheism', 'sci.space']\n",
            "  >>> newsgroups_train = fetch_20newsgroups(subset='train', categories=cats)\n",
            "\n",
            "  >>> list(newsgroups_train.target_names)\n",
            "  ['alt.atheism', 'sci.space']\n",
            "  >>> newsgroups_train.filenames.shape\n",
            "  (1073,)\n",
            "  >>> newsgroups_train.target.shape\n",
            "  (1073,)\n",
            "  >>> newsgroups_train.target[:10]\n",
            "  array([0, 1, 1, 1, 0, 1, 1, 0, 0, 0])\n",
            "\n",
            "Converting text to vectors\n",
            "~~~~~~~~~~~~~~~~~~~~~~~~~~\n",
            "\n",
            "In order to feed predictive or clustering models with the text data,\n",
            "one first need to turn the text into vectors of numerical values suitable\n",
            "for statistical analysis. This can be achieved with the utilities of the\n",
            "``sklearn.feature_extraction.text`` as demonstrated in the following\n",
            "example that extract `TF-IDF`_ vectors of unigram tokens\n",
            "from a subset of 20news::\n",
            "\n",
            "  >>> from sklearn.feature_extraction.text import TfidfVectorizer\n",
            "  >>> categories = ['alt.atheism', 'talk.religion.misc',\n",
            "  ...               'comp.graphics', 'sci.space']\n",
            "  >>> newsgroups_train = fetch_20newsgroups(subset='train',\n",
            "  ...                                       categories=categories)\n",
            "  >>> vectorizer = TfidfVectorizer()\n",
            "  >>> vectors = vectorizer.fit_transform(newsgroups_train.data)\n",
            "  >>> vectors.shape\n",
            "  (2034, 34118)\n",
            "\n",
            "The extracted TF-IDF vectors are very sparse, with an average of 159 non-zero\n",
            "components by sample in a more than 30000-dimensional space\n",
            "(less than .5% non-zero features)::\n",
            "\n",
            "  >>> vectors.nnz / float(vectors.shape[0])\n",
            "  159.01327...\n",
            "\n",
            ":func:`sklearn.datasets.fetch_20newsgroups_vectorized` is a function which \n",
            "returns ready-to-use token counts features instead of file names.\n",
            "\n",
            ".. _`20 newsgroups website`: http://people.csail.mit.edu/jrennie/20Newsgroups/\n",
            ".. _`TF-IDF`: https://en.wikipedia.org/wiki/Tf-idf\n",
            "\n",
            "\n",
            "Filtering text for more realistic training\n",
            "~~~~~~~~~~~~~~~~~~~~~~~~~~~~~~~~~~~~~~~~~~\n",
            "\n",
            "It is easy for a classifier to overfit on particular things that appear in the\n",
            "20 Newsgroups data, such as newsgroup headers. Many classifiers achieve very\n",
            "high F-scores, but their results would not generalize to other documents that\n",
            "aren't from this window of time.\n",
            "\n",
            "For example, let's look at the results of a multinomial Naive Bayes classifier,\n",
            "which is fast to train and achieves a decent F-score::\n",
            "\n",
            "  >>> from sklearn.naive_bayes import MultinomialNB\n",
            "  >>> from sklearn import metrics\n",
            "  >>> newsgroups_test = fetch_20newsgroups(subset='test',\n",
            "  ...                                      categories=categories)\n",
            "  >>> vectors_test = vectorizer.transform(newsgroups_test.data)\n",
            "  >>> clf = MultinomialNB(alpha=.01)\n",
            "  >>> clf.fit(vectors, newsgroups_train.target)\n",
            "  MultinomialNB(alpha=0.01, class_prior=None, fit_prior=True)\n",
            "\n",
            "  >>> pred = clf.predict(vectors_test)\n",
            "  >>> metrics.f1_score(newsgroups_test.target, pred, average='macro')\n",
            "  0.88213...\n",
            "\n",
            "(The example :ref:`sphx_glr_auto_examples_text_plot_document_classification_20newsgroups.py` shuffles\n",
            "the training and test data, instead of segmenting by time, and in that case\n",
            "multinomial Naive Bayes gets a much higher F-score of 0.88. Are you suspicious\n",
            "yet of what's going on inside this classifier?)\n",
            "\n",
            "Let's take a look at what the most informative features are:\n",
            "\n",
            "  >>> import numpy as np\n",
            "  >>> def show_top10(classifier, vectorizer, categories):\n",
            "  ...     feature_names = np.asarray(vectorizer.get_feature_names())\n",
            "  ...     for i, category in enumerate(categories):\n",
            "  ...         top10 = np.argsort(classifier.coef_[i])[-10:]\n",
            "  ...         print(\"%s: %s\" % (category, \" \".join(feature_names[top10])))\n",
            "  ...\n",
            "  >>> show_top10(clf, vectorizer, newsgroups_train.target_names)\n",
            "  alt.atheism: edu it and in you that is of to the\n",
            "  comp.graphics: edu in graphics it is for and of to the\n",
            "  sci.space: edu it that is in and space to of the\n",
            "  talk.religion.misc: not it you in is that and to of the\n",
            "\n",
            "\n",
            "You can now see many things that these features have overfit to:\n",
            "\n",
            "- Almost every group is distinguished by whether headers such as\n",
            "  ``NNTP-Posting-Host:`` and ``Distribution:`` appear more or less often.\n",
            "- Another significant feature involves whether the sender is affiliated with\n",
            "  a university, as indicated either by their headers or their signature.\n",
            "- The word \"article\" is a significant feature, based on how often people quote\n",
            "  previous posts like this: \"In article [article ID], [name] <[e-mail address]>\n",
            "  wrote:\"\n",
            "- Other features match the names and e-mail addresses of particular people who\n",
            "  were posting at the time.\n",
            "\n",
            "With such an abundance of clues that distinguish newsgroups, the classifiers\n",
            "barely have to identify topics from text at all, and they all perform at the\n",
            "same high level.\n",
            "\n",
            "For this reason, the functions that load 20 Newsgroups data provide a\n",
            "parameter called **remove**, telling it what kinds of information to strip out\n",
            "of each file. **remove** should be a tuple containing any subset of\n",
            "``('headers', 'footers', 'quotes')``, telling it to remove headers, signature\n",
            "blocks, and quotation blocks respectively.\n",
            "\n",
            "  >>> newsgroups_test = fetch_20newsgroups(subset='test',\n",
            "  ...                                      remove=('headers', 'footers', 'quotes'),\n",
            "  ...                                      categories=categories)\n",
            "  >>> vectors_test = vectorizer.transform(newsgroups_test.data)\n",
            "  >>> pred = clf.predict(vectors_test)\n",
            "  >>> metrics.f1_score(pred, newsgroups_test.target, average='macro')\n",
            "  0.77310...\n",
            "\n",
            "This classifier lost over a lot of its F-score, just because we removed\n",
            "metadata that has little to do with topic classification.\n",
            "It loses even more if we also strip this metadata from the training data:\n",
            "\n",
            "  >>> newsgroups_train = fetch_20newsgroups(subset='train',\n",
            "  ...                                       remove=('headers', 'footers', 'quotes'),\n",
            "  ...                                       categories=categories)\n",
            "  >>> vectors = vectorizer.fit_transform(newsgroups_train.data)\n",
            "  >>> clf = MultinomialNB(alpha=.01)\n",
            "  >>> clf.fit(vectors, newsgroups_train.target)\n",
            "  MultinomialNB(alpha=0.01, class_prior=None, fit_prior=True)\n",
            "\n",
            "  >>> vectors_test = vectorizer.transform(newsgroups_test.data)\n",
            "  >>> pred = clf.predict(vectors_test)\n",
            "  >>> metrics.f1_score(newsgroups_test.target, pred, average='macro')\n",
            "  0.76995...\n",
            "\n",
            "Some other classifiers cope better with this harder version of the task. Try\n",
            "running :ref:`sphx_glr_auto_examples_model_selection_grid_search_text_feature_extraction.py` with and without\n",
            "the ``--filter`` option to compare the results.\n",
            "\n",
            ".. topic:: Recommendation\n",
            "\n",
            "  When evaluating text classifiers on the 20 Newsgroups data, you\n",
            "  should strip newsgroup-related metadata. In scikit-learn, you can do this by\n",
            "  setting ``remove=('headers', 'footers', 'quotes')``. The F-score will be\n",
            "  lower because it is more realistic.\n",
            "\n",
            ".. topic:: Examples\n",
            "\n",
            "   * :ref:`sphx_glr_auto_examples_model_selection_grid_search_text_feature_extraction.py`\n",
            "\n",
            "   * :ref:`sphx_glr_auto_examples_text_plot_document_classification_20newsgroups.py`\n",
            "\n"
          ],
          "name": "stdout"
        }
      ]
    },
    {
      "cell_type": "code",
      "metadata": {
        "colab": {
          "base_uri": "https://localhost:8080/"
        },
        "id": "4AeEojic8woj",
        "outputId": "d2863acd-cc2d-4da8-c8ba-5ad26c78ea18"
      },
      "source": [
        "# Creating a TFIDF vectorizer and Linear SVM classifier to make predictions about the newsgroup dataset\n",
        "\n",
        "tfidf = TfidfVectorizer()\n",
        "tfidf.fit(text_train)\n",
        "\n",
        "clf = LinearSVC()\n",
        "clf.fit(tfidf.transform(text_train), labels_train)\n"
      ],
      "execution_count": 54,
      "outputs": [
        {
          "output_type": "execute_result",
          "data": {
            "text/plain": [
              "LinearSVC(C=1.0, class_weight=None, dual=True, fit_intercept=True,\n",
              "          intercept_scaling=1, loss='squared_hinge', max_iter=1000,\n",
              "          multi_class='ovr', penalty='l2', random_state=None, tol=0.0001,\n",
              "          verbose=0)"
            ]
          },
          "metadata": {
            "tags": []
          },
          "execution_count": 54
        }
      ]
    },
    {
      "cell_type": "code",
      "metadata": {
        "deletable": false,
        "nbgrader": {
          "cell_type": "code",
          "checksum": "c38e085a0f04503420ab1c4d3e804f3d",
          "grade": false,
          "grade_id": "cell-9328ed37549d0d6c",
          "locked": false,
          "schema_version": 3,
          "solution": true,
          "task": false
        },
        "id": "wCDo1njL8wok"
      },
      "source": [
        "# Create newsgroup_predictor which is a predictor function to use with an AnchorText predictor using\n",
        "# the vectorizer and classifier defined in the cell above\n",
        "# Note that you have to transform the data with the vectorizer and then predict it.\n",
        "newsgroup_predictor = lambda x: clf.predict(tfidf.transform(x))"
      ],
      "execution_count": 59,
      "outputs": []
    },
    {
      "cell_type": "code",
      "metadata": {
        "deletable": false,
        "editable": false,
        "nbgrader": {
          "cell_type": "code",
          "checksum": "67f9943d90704e2342af4565b08ca501",
          "grade": true,
          "grade_id": "cell-f5ed32ccd8efa182",
          "locked": true,
          "points": 5,
          "schema_version": 3,
          "solution": false,
          "task": false
        },
        "id": "o4e4IGmD8wok"
      },
      "source": [
        "assert len(newsgroup_predictor(text_test[:2])) == 2"
      ],
      "execution_count": 60,
      "outputs": []
    },
    {
      "cell_type": "code",
      "metadata": {
        "id": "j4iZAOWX8wok"
      },
      "source": [
        "model = 'en_core_web_md'\n",
        "spacy_model(model=model)\n",
        "nlp = spacy.load(model)"
      ],
      "execution_count": 61,
      "outputs": []
    },
    {
      "cell_type": "code",
      "metadata": {
        "id": "4v0SIAB38wol"
      },
      "source": [
        "# Create the explainer to use\n",
        "newsgroup_explainer = AnchorText(nlp, newsgroup_predictor)"
      ],
      "execution_count": 62,
      "outputs": []
    },
    {
      "cell_type": "code",
      "metadata": {
        "deletable": false,
        "nbgrader": {
          "cell_type": "code",
          "checksum": "a974c89bfd3e84c2ecdccc4fa0fd6cc4",
          "grade": false,
          "grade_id": "cell-57dc731897b7b73a",
          "locked": false,
          "schema_version": 3,
          "solution": true,
          "task": false
        },
        "id": "Igika4ok8wol"
      },
      "source": [
        "# Copy the text of an article you find on the internet and save it as article\n",
        "\n",
        "article = \"There’s more to enzyme action than correct folding. Many proteins are chemically modified after being translated on the ribosome: parts of the peptide chain may be crosslinked, and non-amino-acid groups such as porphyrins or metal ions are incorporated. Besides, knowing the structure doesn’t by itself tell you the function. Sometimes this can be deduced by analogy, or rather, homology: proteins with similar folds may have similar functions. But that’s not invariably true: proteins with very similar structures can behave in chemically very different ways, while very different folds can achieve similar transformations. There is no unique structure-function relationship. What’s more, designing a ligand for a protein can be challenging even if you know its structure very accurately, partly because we don’t know all the rules of recognition – some depend, for example, on fine details of solvation at the active site. And for drug discovery the biggest hurdles are typically upstream from the identification of a potential molecular target – not least because it often proves to be the wrong target. In any case, the picture in which protein function is determined by a unique and static crystal structure is known now to be far too simplistic. The dynamics might be crucial. Ligand binding typically involves some flexibility and adaptation at the active site – but more generally, the emerging view of protein function invokes the ensemble of conformations accessible to it: the statistical populations and occupancy times of the different dynamic states it can reach. What’s more, many proteins don’t have well-defined folded conformations at all, but contain ‘intrinsically disordered’, floppy parts of the peptide chain. That’s not nature being sloppy: the disorder and resulting flexibility seems to be functional. AI approaches may well identify which sequences are likely to be disordered, but that alone won’t help to understand their behaviour. Finally, any deep-learning system is only competent within the bounds of its training set. We don’t know the size of the human proteome, but some estimates say that only around 5% of all human proteins have been crystallised and their structure determined. So the training data are likely to be biased towards the structures that are relatively easy to solve. Some researchers think there could be a systematic repertoire of protein structures that we just don’t know about. But such assertions have been contested. Some biochemists pointed out that the accuracy of prediction was not always so impressive and is in general unlikely to be accepted without experimental corroboration from, say, crystallography, NMR studies or cryo-electron microscopy. While the majority of predicted structures were within experimental resolution, one can’t tell a priori which are and which aren’t – so you need experiments to check. Also, it’s still not yet clear that the accuracy meets what’s needed for, say, finding drug candidates that might bind to the protein’s active site to block its function. Others take issue with the notion that the method ‘solves the protein folding problem’ at all. Since the pioneering work of Christian Anfinsen in the 1950s, it has been known that unravelled (denatured) protein molecules may regain their ‘native’ conformation spontaneously, implying that the peptide sequence alone encodes the rules for correct folding. The challenge was to find those rules and predict the folding path. AlphaFold has not done this. It says nothing about the mechanism of folding, but just predicts the structure using standard machine learning. It finds correlations between sequence and structure by being trained on the 170,000 or so known structures in the Protein Data Base: the algorithm doesn’t so much solve the protein-folding problem as evade it. How it ‘reasons’ from sequence to structure remains a black box.If some see this as cheating, that doesn’t much matter for practical purposes. It will surely be valuable to deduce even a good guess at the structure from just the sequence. From that we can often make inferences about the protein’s function and the chemical mechanism of its mode of action. And ‘good enough’ predictions can be a useful starting point for refinement with crystallographic data. \""
      ],
      "execution_count": 63,
      "outputs": []
    },
    {
      "cell_type": "code",
      "metadata": {
        "deletable": false,
        "editable": false,
        "nbgrader": {
          "cell_type": "code",
          "checksum": "df107c35762a3a1b35781cf14f5e45b6",
          "grade": true,
          "grade_id": "cell-501e6db67729a04d",
          "locked": true,
          "points": 0,
          "schema_version": 3,
          "solution": false,
          "task": false
        },
        "id": "DpQbtv8W8wol"
      },
      "source": [
        "assert len(article) > 500"
      ],
      "execution_count": 64,
      "outputs": []
    },
    {
      "cell_type": "code",
      "metadata": {
        "deletable": false,
        "nbgrader": {
          "cell_type": "code",
          "checksum": "2524df710c7c0101f986a026d004aadc",
          "grade": false,
          "grade_id": "cell-24c6bbba046e8fd4",
          "locked": false,
          "schema_version": 3,
          "solution": true,
          "task": false
        },
        "colab": {
          "base_uri": "https://localhost:8080/",
          "height": 209
        },
        "id": "PAVfO7Lp8wol",
        "outputId": "3459da84-a1bd-4e99-d5f0-a14ece2c5c6c"
      },
      "source": [
        "# Define article_explanation as the explainer's explanation for the article you provided.\n",
        "\n",
        "article_explanation = newsgroup_explainer.explain(article)"
      ],
      "execution_count": 1,
      "outputs": [
        {
          "output_type": "error",
          "ename": "NameError",
          "evalue": "ignored",
          "traceback": [
            "\u001b[0;31m---------------------------------------------------------------------------\u001b[0m",
            "\u001b[0;31mNameError\u001b[0m                                 Traceback (most recent call last)",
            "\u001b[0;32m<ipython-input-1-4ee3ef5dbc61>\u001b[0m in \u001b[0;36m<module>\u001b[0;34m()\u001b[0m\n\u001b[1;32m      1\u001b[0m \u001b[0;31m# Define article_explanation as the explainer's explanation for the article you provided.\u001b[0m\u001b[0;34m\u001b[0m\u001b[0;34m\u001b[0m\u001b[0;34m\u001b[0m\u001b[0m\n\u001b[1;32m      2\u001b[0m \u001b[0;34m\u001b[0m\u001b[0m\n\u001b[0;32m----> 3\u001b[0;31m \u001b[0marticle_explanation\u001b[0m \u001b[0;34m=\u001b[0m \u001b[0mnewsgroup_explainer\u001b[0m\u001b[0;34m.\u001b[0m\u001b[0mexplain\u001b[0m\u001b[0;34m(\u001b[0m\u001b[0marticle\u001b[0m\u001b[0;34m)\u001b[0m\u001b[0;34m\u001b[0m\u001b[0;34m\u001b[0m\u001b[0m\n\u001b[0m",
            "\u001b[0;31mNameError\u001b[0m: name 'newsgroup_explainer' is not defined"
          ]
        }
      ]
    },
    {
      "cell_type": "code",
      "metadata": {
        "id": "cJd2w8QJ8wom"
      },
      "source": [
        "print(f\"The model predicted the article as {newsgroup_names[newsgroup_predictor([article])[0]]} because of the word: {article_explanation.anchor}\")"
      ],
      "execution_count": null,
      "outputs": []
    },
    {
      "cell_type": "code",
      "metadata": {
        "id": "uY3WIeFx8wom"
      },
      "source": [
        "# Change this number and try out different samples\n",
        "test_sample_index = 28\n",
        "test_sample = text_test[test_sample_index]\n",
        "print(test_sample)"
      ],
      "execution_count": null,
      "outputs": []
    },
    {
      "cell_type": "code",
      "metadata": {
        "id": "MwL_xyI78wom"
      },
      "source": [
        "test_sample_explanation = newsgroup_explainer.explain(test_sample)"
      ],
      "execution_count": null,
      "outputs": []
    },
    {
      "cell_type": "code",
      "metadata": {
        "id": "kIRFLwJD8won"
      },
      "source": [
        "print(f\"The model predicted the test sample as {newsgroup_names[newsgroup_predictor([test_sample])[0]]} because of the word {test_sample_explanation.anchor}\")"
      ],
      "execution_count": null,
      "outputs": []
    },
    {
      "cell_type": "markdown",
      "metadata": {
        "id": "8GGDsL2L8won"
      },
      "source": [
        "## Feedback"
      ]
    },
    {
      "cell_type": "code",
      "metadata": {
        "deletable": false,
        "nbgrader": {
          "cell_type": "code",
          "checksum": "6ff0d8bed14ed80b45c8ae821e8967e6",
          "grade": false,
          "grade_id": "cell-523ebab8f9ab57b8",
          "locked": false,
          "schema_version": 3,
          "solution": true,
          "task": false
        },
        "id": "fmYFJ76J8won"
      },
      "source": [
        "def feedback():\n",
        "    \"\"\"Provide feedback on the contents of this exercise\n",
        "    \n",
        "    Returns:\n",
        "        string\n",
        "    \"\"\"\n",
        "    return \"I liked this assignment\""
      ],
      "execution_count": null,
      "outputs": []
    },
    {
      "cell_type": "code",
      "metadata": {
        "id": "yH2leopE8woo"
      },
      "source": [
        "feedback()"
      ],
      "execution_count": null,
      "outputs": []
    }
  ]
}